{
 "cells": [
  {
   "cell_type": "code",
   "execution_count": 20,
   "metadata": {},
   "outputs": [],
   "source": [
    "import pandas as pd\n",
    "import numpy as np\n",
    "import matplotlib.pyplot as plt\n",
    "import seaborn as sns\n",
    "from imblearn.over_sampling import SMOTE\n",
    "# puede ser necesario o no, dependiendo de su versión de NoteBook\n",
    "%matplotlib inline"
   ]
  },
  {
   "cell_type": "code",
   "execution_count": 3,
   "metadata": {},
   "outputs": [],
   "source": [
    "df = pd.read_csv('./datafinal.csv')"
   ]
  },
  {
   "cell_type": "code",
   "execution_count": 4,
   "metadata": {},
   "outputs": [
    {
     "name": "stdout",
     "output_type": "stream",
     "text": [
      "<class 'pandas.core.frame.DataFrame'>\n",
      "RangeIndex: 30000 entries, 0 to 29999\n",
      "Data columns (total 25 columns):\n",
      " #   Column              Non-Null Count  Dtype  \n",
      "---  ------              --------------  -----  \n",
      " 0   id                  30000 non-null  int64  \n",
      " 1   limit_bal           30000 non-null  float64\n",
      " 2   sex                 30000 non-null  int64  \n",
      " 3   education           30000 non-null  int64  \n",
      " 4   marriage            30000 non-null  int64  \n",
      " 5   age                 30000 non-null  int64  \n",
      " 6   pay_sep             30000 non-null  int64  \n",
      " 7   pay_ago             30000 non-null  int64  \n",
      " 8   pay_jul             30000 non-null  int64  \n",
      " 9   pay_jun             30000 non-null  int64  \n",
      " 10  pay_may             30000 non-null  int64  \n",
      " 11  pay_apr             30000 non-null  int64  \n",
      " 12  bill_amt_sep        30000 non-null  float64\n",
      " 13  bill_amt_ago        30000 non-null  float64\n",
      " 14  bill_amt_jul        30000 non-null  float64\n",
      " 15  bill_amt_jun        30000 non-null  float64\n",
      " 16  bill_amt_may        30000 non-null  float64\n",
      " 17  bill_amt_apr        30000 non-null  float64\n",
      " 18  pay_amt_sep         30000 non-null  float64\n",
      " 19  pay_amt_ago         30000 non-null  float64\n",
      " 20  pay_amt_jul         30000 non-null  float64\n",
      " 21  pay_amt_jun         30000 non-null  float64\n",
      " 22  pay_amt_may         30000 non-null  float64\n",
      " 23  pay_amt_apr         30000 non-null  float64\n",
      " 24  payment_next_month  30000 non-null  int64  \n",
      "dtypes: float64(13), int64(12)\n",
      "memory usage: 5.7 MB\n"
     ]
    }
   ],
   "source": [
    "df.info()"
   ]
  },
  {
   "cell_type": "code",
   "execution_count": 4,
   "metadata": {},
   "outputs": [
    {
     "data": {
      "text/html": [
       "<div>\n",
       "<style scoped>\n",
       "    .dataframe tbody tr th:only-of-type {\n",
       "        vertical-align: middle;\n",
       "    }\n",
       "\n",
       "    .dataframe tbody tr th {\n",
       "        vertical-align: top;\n",
       "    }\n",
       "\n",
       "    .dataframe thead th {\n",
       "        text-align: right;\n",
       "    }\n",
       "</style>\n",
       "<table border=\"1\" class=\"dataframe\">\n",
       "  <thead>\n",
       "    <tr style=\"text-align: right;\">\n",
       "      <th></th>\n",
       "      <th>id</th>\n",
       "      <th>limit_bal</th>\n",
       "      <th>sex</th>\n",
       "      <th>education</th>\n",
       "      <th>marriage</th>\n",
       "      <th>age</th>\n",
       "      <th>pay_sep</th>\n",
       "      <th>pay_ago</th>\n",
       "      <th>pay_jul</th>\n",
       "      <th>pay_jun</th>\n",
       "      <th>...</th>\n",
       "      <th>bill_amt_jun</th>\n",
       "      <th>bill_amt_may</th>\n",
       "      <th>bill_amt_apr</th>\n",
       "      <th>pay_amt_sep</th>\n",
       "      <th>pay_amt_ago</th>\n",
       "      <th>pay_amt_jul</th>\n",
       "      <th>pay_amt_jun</th>\n",
       "      <th>pay_amt_may</th>\n",
       "      <th>pay_amt_apr</th>\n",
       "      <th>payment_next_month</th>\n",
       "    </tr>\n",
       "  </thead>\n",
       "  <tbody>\n",
       "    <tr>\n",
       "      <th>0</th>\n",
       "      <td>1</td>\n",
       "      <td>20000.0</td>\n",
       "      <td>1</td>\n",
       "      <td>2</td>\n",
       "      <td>0</td>\n",
       "      <td>24</td>\n",
       "      <td>2</td>\n",
       "      <td>0</td>\n",
       "      <td>-1</td>\n",
       "      <td>0</td>\n",
       "      <td>...</td>\n",
       "      <td>0.0</td>\n",
       "      <td>0.0</td>\n",
       "      <td>0.0</td>\n",
       "      <td>0.0</td>\n",
       "      <td>689.0</td>\n",
       "      <td>0.0</td>\n",
       "      <td>0.0</td>\n",
       "      <td>0.0</td>\n",
       "      <td>0.0</td>\n",
       "      <td>1</td>\n",
       "    </tr>\n",
       "    <tr>\n",
       "      <th>1</th>\n",
       "      <td>2</td>\n",
       "      <td>120000.0</td>\n",
       "      <td>1</td>\n",
       "      <td>2</td>\n",
       "      <td>1</td>\n",
       "      <td>26</td>\n",
       "      <td>0</td>\n",
       "      <td>0</td>\n",
       "      <td>0</td>\n",
       "      <td>0</td>\n",
       "      <td>...</td>\n",
       "      <td>3272.0</td>\n",
       "      <td>3455.0</td>\n",
       "      <td>3261.0</td>\n",
       "      <td>0.0</td>\n",
       "      <td>1000.0</td>\n",
       "      <td>1000.0</td>\n",
       "      <td>1000.0</td>\n",
       "      <td>0.0</td>\n",
       "      <td>2000.0</td>\n",
       "      <td>1</td>\n",
       "    </tr>\n",
       "    <tr>\n",
       "      <th>2</th>\n",
       "      <td>3</td>\n",
       "      <td>90000.0</td>\n",
       "      <td>1</td>\n",
       "      <td>2</td>\n",
       "      <td>1</td>\n",
       "      <td>34</td>\n",
       "      <td>0</td>\n",
       "      <td>0</td>\n",
       "      <td>0</td>\n",
       "      <td>0</td>\n",
       "      <td>...</td>\n",
       "      <td>14331.0</td>\n",
       "      <td>14948.0</td>\n",
       "      <td>15549.0</td>\n",
       "      <td>1518.0</td>\n",
       "      <td>1500.0</td>\n",
       "      <td>1000.0</td>\n",
       "      <td>1000.0</td>\n",
       "      <td>1000.0</td>\n",
       "      <td>5000.0</td>\n",
       "      <td>0</td>\n",
       "    </tr>\n",
       "    <tr>\n",
       "      <th>3</th>\n",
       "      <td>4</td>\n",
       "      <td>50000.0</td>\n",
       "      <td>1</td>\n",
       "      <td>2</td>\n",
       "      <td>0</td>\n",
       "      <td>37</td>\n",
       "      <td>0</td>\n",
       "      <td>0</td>\n",
       "      <td>0</td>\n",
       "      <td>0</td>\n",
       "      <td>...</td>\n",
       "      <td>28314.0</td>\n",
       "      <td>28959.0</td>\n",
       "      <td>29547.0</td>\n",
       "      <td>2000.0</td>\n",
       "      <td>2019.0</td>\n",
       "      <td>1200.0</td>\n",
       "      <td>1100.0</td>\n",
       "      <td>1069.0</td>\n",
       "      <td>1000.0</td>\n",
       "      <td>0</td>\n",
       "    </tr>\n",
       "    <tr>\n",
       "      <th>4</th>\n",
       "      <td>5</td>\n",
       "      <td>50000.0</td>\n",
       "      <td>0</td>\n",
       "      <td>2</td>\n",
       "      <td>0</td>\n",
       "      <td>57</td>\n",
       "      <td>0</td>\n",
       "      <td>0</td>\n",
       "      <td>-1</td>\n",
       "      <td>0</td>\n",
       "      <td>...</td>\n",
       "      <td>20940.0</td>\n",
       "      <td>19146.0</td>\n",
       "      <td>19131.0</td>\n",
       "      <td>2000.0</td>\n",
       "      <td>36681.0</td>\n",
       "      <td>10000.0</td>\n",
       "      <td>9000.0</td>\n",
       "      <td>689.0</td>\n",
       "      <td>679.0</td>\n",
       "      <td>0</td>\n",
       "    </tr>\n",
       "  </tbody>\n",
       "</table>\n",
       "<p>5 rows × 25 columns</p>\n",
       "</div>"
      ],
      "text/plain": [
       "   id  limit_bal  sex  education  marriage  age  pay_sep  pay_ago  pay_jul  \\\n",
       "0   1    20000.0    1          2         0   24        2        0       -1   \n",
       "1   2   120000.0    1          2         1   26        0        0        0   \n",
       "2   3    90000.0    1          2         1   34        0        0        0   \n",
       "3   4    50000.0    1          2         0   37        0        0        0   \n",
       "4   5    50000.0    0          2         0   57        0        0       -1   \n",
       "\n",
       "   pay_jun  ...  bill_amt_jun  bill_amt_may  bill_amt_apr  pay_amt_sep  \\\n",
       "0        0  ...           0.0           0.0           0.0          0.0   \n",
       "1        0  ...        3272.0        3455.0        3261.0          0.0   \n",
       "2        0  ...       14331.0       14948.0       15549.0       1518.0   \n",
       "3        0  ...       28314.0       28959.0       29547.0       2000.0   \n",
       "4        0  ...       20940.0       19146.0       19131.0       2000.0   \n",
       "\n",
       "   pay_amt_ago  pay_amt_jul  pay_amt_jun  pay_amt_may  pay_amt_apr  \\\n",
       "0        689.0          0.0          0.0          0.0          0.0   \n",
       "1       1000.0       1000.0       1000.0          0.0       2000.0   \n",
       "2       1500.0       1000.0       1000.0       1000.0       5000.0   \n",
       "3       2019.0       1200.0       1100.0       1069.0       1000.0   \n",
       "4      36681.0      10000.0       9000.0        689.0        679.0   \n",
       "\n",
       "   payment_next_month  \n",
       "0                   1  \n",
       "1                   1  \n",
       "2                   0  \n",
       "3                   0  \n",
       "4                   0  \n",
       "\n",
       "[5 rows x 25 columns]"
      ]
     },
     "execution_count": 4,
     "metadata": {},
     "output_type": "execute_result"
    }
   ],
   "source": [
    "df.head()"
   ]
  },
  {
   "cell_type": "markdown",
   "metadata": {},
   "source": [
    "## Preparación de los datos"
   ]
  },
  {
   "cell_type": "code",
   "execution_count": 5,
   "metadata": {},
   "outputs": [],
   "source": [
    "# eliminar columna con info poco valiosa\n",
    "df.drop('id', axis=1, inplace=True)"
   ]
  },
  {
   "cell_type": "code",
   "execution_count": 6,
   "metadata": {},
   "outputs": [
    {
     "data": {
      "text/plain": [
       "Index(['limit_bal', 'sex', 'age', 'bill_amt_sep', 'bill_amt_ago',\n",
       "       'bill_amt_jul', 'bill_amt_jun', 'bill_amt_may', 'bill_amt_apr',\n",
       "       'pay_amt_sep', 'pay_amt_ago', 'pay_amt_jul', 'pay_amt_jun',\n",
       "       'pay_amt_may', 'pay_amt_apr', 'payment_next_month', 'education_1',\n",
       "       'education_2', 'education_3', 'education_4', 'marriage_1', 'marriage_2',\n",
       "       'pay_sep_1', 'pay_sep_2', 'pay_sep_3', 'pay_sep_4', 'pay_sep_5',\n",
       "       'pay_sep_6', 'pay_sep_7', 'pay_sep_8', 'pay_ago_0', 'pay_ago_1',\n",
       "       'pay_ago_2', 'pay_ago_3', 'pay_ago_4', 'pay_ago_5', 'pay_ago_6',\n",
       "       'pay_ago_7', 'pay_ago_8', 'pay_jul_0', 'pay_jul_1', 'pay_jul_2',\n",
       "       'pay_jul_3', 'pay_jul_4', 'pay_jul_5', 'pay_jul_6', 'pay_jul_7',\n",
       "       'pay_jul_8', 'pay_jun_1', 'pay_jun_2', 'pay_jun_3', 'pay_jun_4',\n",
       "       'pay_jun_5', 'pay_jun_6', 'pay_jun_7', 'pay_jun_8', 'pay_may_2',\n",
       "       'pay_may_3', 'pay_may_4', 'pay_may_5', 'pay_may_6', 'pay_may_7',\n",
       "       'pay_may_8', 'pay_apr_2', 'pay_apr_3', 'pay_apr_4', 'pay_apr_5',\n",
       "       'pay_apr_6', 'pay_apr_7', 'pay_apr_8'],\n",
       "      dtype='object')"
      ]
     },
     "execution_count": 6,
     "metadata": {},
     "output_type": "execute_result"
    }
   ],
   "source": [
    "var_dummies = ['education', 'marriage', 'pay_sep', 'pay_ago', 'pay_jul', 'pay_jun', 'pay_may', 'pay_apr']\n",
    "\n",
    "for i in var_dummies:\n",
    "    # convertir a variables dummies\n",
    "    value_dummies = pd.get_dummies(df[i], prefix=i, drop_first=True)\n",
    "    df = pd.concat([df.drop(i, axis=1), value_dummies], axis=1)\n",
    "\n",
    "df.columns"
   ]
  },
  {
   "cell_type": "markdown",
   "metadata": {},
   "source": [
    "## División Train/Test"
   ]
  },
  {
   "cell_type": "code",
   "execution_count": 7,
   "metadata": {},
   "outputs": [],
   "source": [
    "from sklearn.model_selection import train_test_split"
   ]
  },
  {
   "cell_type": "code",
   "execution_count": 8,
   "metadata": {},
   "outputs": [],
   "source": [
    "X = df.drop('payment_next_month', axis=1).values\n",
    "y = df['payment_next_month'].values"
   ]
  },
  {
   "cell_type": "code",
   "execution_count": 9,
   "metadata": {},
   "outputs": [],
   "source": [
    "# dividir en entrenamiento y testing\n",
    "X_train, X_test, y_train, y_test = train_test_split(X, y, test_size=0.20, random_state=101)"
   ]
  },
  {
   "cell_type": "code",
   "execution_count": 16,
   "metadata": {},
   "outputs": [
    {
     "data": {
      "text/plain": [
       "24000"
      ]
     },
     "execution_count": 16,
     "metadata": {},
     "output_type": "execute_result"
    }
   ],
   "source": [
    "len(y_train)"
   ]
  },
  {
   "cell_type": "markdown",
   "metadata": {},
   "source": [
    "## Balancing data"
   ]
  },
  {
   "cell_type": "code",
   "execution_count": 21,
   "metadata": {},
   "outputs": [
    {
     "name": "stdout",
     "output_type": "stream",
     "text": [
      "Before OverSampling, counts of label '1': 5326\n",
      "Before OverSampling, counts of label '0': 18674 \n",
      "\n",
      "After OverSampling, the shape of train_X: (37348, 69)\n",
      "After OverSampling, the shape of train_y: (37348,) \n",
      "\n",
      "After OverSampling, counts of label '1': 18674\n",
      "After OverSampling, counts of label '0': 18674\n"
     ]
    }
   ],
   "source": [
    "print(\"Before OverSampling, counts of label '1': {}\".format(sum(y_train==1)))\n",
    "print(\"Before OverSampling, counts of label '0': {} \\n\".format(sum(y_train==0)))\n",
    "\n",
    "sm = SMOTE(random_state=2)\n",
    "X_train_res, y_train_res = sm.fit_resample(X_train, y_train.ravel())\n",
    "\n",
    "print('After OverSampling, the shape of train_X: {}'.format(X_train_res.shape))\n",
    "print('After OverSampling, the shape of train_y: {} \\n'.format(y_train_res.shape))\n",
    "\n",
    "print(\"After OverSampling, counts of label '1': {}\".format(sum(y_train_res==1)))\n",
    "print(\"After OverSampling, counts of label '0': {}\".format(sum(y_train_res==0)))"
   ]
  },
  {
   "cell_type": "markdown",
   "metadata": {},
   "source": [
    "## Normalización de los datos"
   ]
  },
  {
   "cell_type": "code",
   "execution_count": 23,
   "metadata": {},
   "outputs": [],
   "source": [
    "from sklearn.preprocessing import MinMaxScaler"
   ]
  },
  {
   "cell_type": "code",
   "execution_count": 24,
   "metadata": {},
   "outputs": [],
   "source": [
    "scaler = MinMaxScaler()"
   ]
  },
  {
   "cell_type": "code",
   "execution_count": 25,
   "metadata": {},
   "outputs": [],
   "source": [
    "X_train = scaler.fit_transform(X_train_res)"
   ]
  },
  {
   "cell_type": "code",
   "execution_count": 26,
   "metadata": {},
   "outputs": [],
   "source": [
    "X_test = scaler.transform(X_test)"
   ]
  },
  {
   "cell_type": "markdown",
   "metadata": {},
   "source": [
    "## SVM"
   ]
  },
  {
   "cell_type": "markdown",
   "metadata": {},
   "source": [
    "###  SVC (Support Vector Classifier)"
   ]
  },
  {
   "cell_type": "code",
   "execution_count": null,
   "metadata": {},
   "outputs": [],
   "source": [
    "from sklearn.svm import SVC\n",
    "from sklearn.model_selection import GridSearchCV"
   ]
  },
  {
   "cell_type": "code",
   "execution_count": null,
   "metadata": {},
   "outputs": [
    {
     "name": "stdout",
     "output_type": "stream",
     "text": [
      "Fitting 5 folds for each of 4 candidates, totalling 20 fits\n"
     ]
    }
   ],
   "source": [
    "# Definir los kernels que vamos a probar\n",
    "kernels = ['rbf', 'linear', 'poly', 'sigmoid']\n",
    "\n",
    "svc = SVC()\n",
    "hyperParam = [{'kernel': kernels}]\n",
    "\n",
    "gsv = GridSearchCV(svc, hyperParam, cv = 5, verbose = 1)\n",
    "\n",
    "# Entrenar el modelo\n",
    "best_model = gsv.fit(X_train_res, y_train_res)\n",
    "\n",
    "# Predecir resultados\n",
    "svc_pred_mms = best_model.best_estimator_.predict(X_test)\n",
    "\n",
    "print(\"Mejor hiperparametro: \", gsv.best_params_['kernel'])\n",
    "print(\"Accuracy mas alto: \", best_model.score(X_test, y_test))"
   ]
  },
  {
   "cell_type": "markdown",
   "metadata": {},
   "source": [
    "### Evaluacion del modelo"
   ]
  },
  {
   "cell_type": "code",
   "execution_count": null,
   "metadata": {},
   "outputs": [],
   "source": [
    "from sklearn import metrics\n",
    "from sklearn.metrics import plot_confusion_matrix\n",
    "from sklearn.metrics import confusion_matrix"
   ]
  },
  {
   "cell_type": "code",
   "execution_count": null,
   "metadata": {},
   "outputs": [],
   "source": [
    "plot_confusion_matrix(gsv, X_test, y_test)\n",
    "\n",
    "conf_metr = confusion_matrix(y_test, svc_pred_mms)\n",
    "\n",
    "print(\"Matriz de confusion: \\n {}\".format(conf_metr))\n",
    "print(metrics.classification_report(y_test, svc_pred_mms))\n",
    "print(\"Accuracy: {} \\n\".format(metrics.accuracy_score(y_test, svc_pred_mms)))\n",
    "print(\"Recall/Sensitivity/True Positive Rate: {} \\n\".format(metrics.recall_score(y_test, svc_pred_mms)))\n",
    "print(\"Precision: {} \\n\".format(metrics.precision_score(y_test, svc_pred_mms)))"
   ]
  },
  {
   "cell_type": "code",
   "execution_count": null,
   "metadata": {},
   "outputs": [],
   "source": [
    "# ROC Curve:\n",
    "metrics.plot_roc_curve(gsv, X_test, y_test)"
   ]
  },
  {
   "cell_type": "code",
   "execution_count": null,
   "metadata": {},
   "outputs": [],
   "source": []
  }
 ],
 "metadata": {
  "kernelspec": {
   "display_name": "Python 3",
   "language": "python",
   "name": "python3"
  },
  "language_info": {
   "codemirror_mode": {
    "name": "ipython",
    "version": 3
   },
   "file_extension": ".py",
   "mimetype": "text/x-python",
   "name": "python",
   "nbconvert_exporter": "python",
   "pygments_lexer": "ipython3",
   "version": "3.8.1"
  }
 },
 "nbformat": 4,
 "nbformat_minor": 5
}
