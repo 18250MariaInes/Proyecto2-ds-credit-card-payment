{
 "cells": [
  {
   "cell_type": "code",
   "execution_count": 1,
   "metadata": {},
   "outputs": [],
   "source": [
    "import pandas as pd\n",
    "import numpy as np\n",
    "import matplotlib.pyplot as plt\n",
    "import seaborn as sns\n",
    "\n",
    "\n",
    "from matplotlib.pyplot import rcParams\n",
    "rcParams['figure.figsize'] = 10,8\n",
    "sns.set(style='whitegrid', palette='muted',\n",
    "        rc={'figure.figsize': (15,10)})\n",
    "from sklearn.preprocessing import StandardScaler\n",
    "from sklearn.model_selection import train_test_split\n",
    "from sklearn.model_selection import GridSearchCV\n",
    "from keras.wrappers.scikit_learn import KerasClassifier\n",
    "from keras.models import Sequential\n",
    "from keras.layers import Dense, Activation, Dropout\n",
    "\n",
    "from numpy.random import seed\n",
    "import tensorflow as tf\n",
    "from tensorflow.random import set_seed \n",
    "\n",
    "# puede ser necesario o no, dependiendo de su versión de NoteBook\n",
    "%matplotlib inline"
   ]
  },
  {
   "cell_type": "code",
   "execution_count": 2,
   "metadata": {},
   "outputs": [],
   "source": [
    "df = pd.read_csv('./datafinal.csv')"
   ]
  },
  {
   "cell_type": "code",
   "execution_count": 3,
   "metadata": {},
   "outputs": [
    {
     "name": "stdout",
     "output_type": "stream",
     "text": [
      "<class 'pandas.core.frame.DataFrame'>\n",
      "RangeIndex: 30000 entries, 0 to 29999\n",
      "Data columns (total 25 columns):\n",
      " #   Column              Non-Null Count  Dtype  \n",
      "---  ------              --------------  -----  \n",
      " 0   id                  30000 non-null  int64  \n",
      " 1   limit_bal           30000 non-null  float64\n",
      " 2   sex                 30000 non-null  int64  \n",
      " 3   education           30000 non-null  int64  \n",
      " 4   marriage            30000 non-null  int64  \n",
      " 5   age                 30000 non-null  int64  \n",
      " 6   pay_sep             30000 non-null  int64  \n",
      " 7   pay_ago             30000 non-null  int64  \n",
      " 8   pay_jul             30000 non-null  int64  \n",
      " 9   pay_jun             30000 non-null  int64  \n",
      " 10  pay_may             30000 non-null  int64  \n",
      " 11  pay_apr             30000 non-null  int64  \n",
      " 12  bill_amt_sep        30000 non-null  float64\n",
      " 13  bill_amt_ago        30000 non-null  float64\n",
      " 14  bill_amt_jul        30000 non-null  float64\n",
      " 15  bill_amt_jun        30000 non-null  float64\n",
      " 16  bill_amt_may        30000 non-null  float64\n",
      " 17  bill_amt_apr        30000 non-null  float64\n",
      " 18  pay_amt_sep         30000 non-null  float64\n",
      " 19  pay_amt_ago         30000 non-null  float64\n",
      " 20  pay_amt_jul         30000 non-null  float64\n",
      " 21  pay_amt_jun         30000 non-null  float64\n",
      " 22  pay_amt_may         30000 non-null  float64\n",
      " 23  pay_amt_apr         30000 non-null  float64\n",
      " 24  payment_next_month  30000 non-null  int64  \n",
      "dtypes: float64(13), int64(12)\n",
      "memory usage: 5.7 MB\n"
     ]
    }
   ],
   "source": [
    "df.info()"
   ]
  },
  {
   "cell_type": "code",
   "execution_count": 4,
   "metadata": {},
   "outputs": [
    {
     "data": {
      "text/html": [
       "<div>\n",
       "<style scoped>\n",
       "    .dataframe tbody tr th:only-of-type {\n",
       "        vertical-align: middle;\n",
       "    }\n",
       "\n",
       "    .dataframe tbody tr th {\n",
       "        vertical-align: top;\n",
       "    }\n",
       "\n",
       "    .dataframe thead th {\n",
       "        text-align: right;\n",
       "    }\n",
       "</style>\n",
       "<table border=\"1\" class=\"dataframe\">\n",
       "  <thead>\n",
       "    <tr style=\"text-align: right;\">\n",
       "      <th></th>\n",
       "      <th>id</th>\n",
       "      <th>limit_bal</th>\n",
       "      <th>sex</th>\n",
       "      <th>education</th>\n",
       "      <th>marriage</th>\n",
       "      <th>age</th>\n",
       "      <th>pay_sep</th>\n",
       "      <th>pay_ago</th>\n",
       "      <th>pay_jul</th>\n",
       "      <th>pay_jun</th>\n",
       "      <th>...</th>\n",
       "      <th>bill_amt_jun</th>\n",
       "      <th>bill_amt_may</th>\n",
       "      <th>bill_amt_apr</th>\n",
       "      <th>pay_amt_sep</th>\n",
       "      <th>pay_amt_ago</th>\n",
       "      <th>pay_amt_jul</th>\n",
       "      <th>pay_amt_jun</th>\n",
       "      <th>pay_amt_may</th>\n",
       "      <th>pay_amt_apr</th>\n",
       "      <th>payment_next_month</th>\n",
       "    </tr>\n",
       "  </thead>\n",
       "  <tbody>\n",
       "    <tr>\n",
       "      <th>0</th>\n",
       "      <td>1</td>\n",
       "      <td>20000.0</td>\n",
       "      <td>1</td>\n",
       "      <td>2</td>\n",
       "      <td>0</td>\n",
       "      <td>24</td>\n",
       "      <td>2</td>\n",
       "      <td>0</td>\n",
       "      <td>-1</td>\n",
       "      <td>0</td>\n",
       "      <td>...</td>\n",
       "      <td>0.0</td>\n",
       "      <td>0.0</td>\n",
       "      <td>0.0</td>\n",
       "      <td>0.0</td>\n",
       "      <td>689.0</td>\n",
       "      <td>0.0</td>\n",
       "      <td>0.0</td>\n",
       "      <td>0.0</td>\n",
       "      <td>0.0</td>\n",
       "      <td>1</td>\n",
       "    </tr>\n",
       "    <tr>\n",
       "      <th>1</th>\n",
       "      <td>2</td>\n",
       "      <td>120000.0</td>\n",
       "      <td>1</td>\n",
       "      <td>2</td>\n",
       "      <td>1</td>\n",
       "      <td>26</td>\n",
       "      <td>0</td>\n",
       "      <td>0</td>\n",
       "      <td>0</td>\n",
       "      <td>0</td>\n",
       "      <td>...</td>\n",
       "      <td>3272.0</td>\n",
       "      <td>3455.0</td>\n",
       "      <td>3261.0</td>\n",
       "      <td>0.0</td>\n",
       "      <td>1000.0</td>\n",
       "      <td>1000.0</td>\n",
       "      <td>1000.0</td>\n",
       "      <td>0.0</td>\n",
       "      <td>2000.0</td>\n",
       "      <td>1</td>\n",
       "    </tr>\n",
       "    <tr>\n",
       "      <th>2</th>\n",
       "      <td>3</td>\n",
       "      <td>90000.0</td>\n",
       "      <td>1</td>\n",
       "      <td>2</td>\n",
       "      <td>1</td>\n",
       "      <td>34</td>\n",
       "      <td>0</td>\n",
       "      <td>0</td>\n",
       "      <td>0</td>\n",
       "      <td>0</td>\n",
       "      <td>...</td>\n",
       "      <td>14331.0</td>\n",
       "      <td>14948.0</td>\n",
       "      <td>15549.0</td>\n",
       "      <td>1518.0</td>\n",
       "      <td>1500.0</td>\n",
       "      <td>1000.0</td>\n",
       "      <td>1000.0</td>\n",
       "      <td>1000.0</td>\n",
       "      <td>5000.0</td>\n",
       "      <td>0</td>\n",
       "    </tr>\n",
       "    <tr>\n",
       "      <th>3</th>\n",
       "      <td>4</td>\n",
       "      <td>50000.0</td>\n",
       "      <td>1</td>\n",
       "      <td>2</td>\n",
       "      <td>0</td>\n",
       "      <td>37</td>\n",
       "      <td>0</td>\n",
       "      <td>0</td>\n",
       "      <td>0</td>\n",
       "      <td>0</td>\n",
       "      <td>...</td>\n",
       "      <td>28314.0</td>\n",
       "      <td>28959.0</td>\n",
       "      <td>29547.0</td>\n",
       "      <td>2000.0</td>\n",
       "      <td>2019.0</td>\n",
       "      <td>1200.0</td>\n",
       "      <td>1100.0</td>\n",
       "      <td>1069.0</td>\n",
       "      <td>1000.0</td>\n",
       "      <td>0</td>\n",
       "    </tr>\n",
       "    <tr>\n",
       "      <th>4</th>\n",
       "      <td>5</td>\n",
       "      <td>50000.0</td>\n",
       "      <td>0</td>\n",
       "      <td>2</td>\n",
       "      <td>0</td>\n",
       "      <td>57</td>\n",
       "      <td>0</td>\n",
       "      <td>0</td>\n",
       "      <td>-1</td>\n",
       "      <td>0</td>\n",
       "      <td>...</td>\n",
       "      <td>20940.0</td>\n",
       "      <td>19146.0</td>\n",
       "      <td>19131.0</td>\n",
       "      <td>2000.0</td>\n",
       "      <td>36681.0</td>\n",
       "      <td>10000.0</td>\n",
       "      <td>9000.0</td>\n",
       "      <td>689.0</td>\n",
       "      <td>679.0</td>\n",
       "      <td>0</td>\n",
       "    </tr>\n",
       "  </tbody>\n",
       "</table>\n",
       "<p>5 rows × 25 columns</p>\n",
       "</div>"
      ],
      "text/plain": [
       "   id  limit_bal  sex  education  marriage  age  pay_sep  pay_ago  pay_jul  \\\n",
       "0   1    20000.0    1          2         0   24        2        0       -1   \n",
       "1   2   120000.0    1          2         1   26        0        0        0   \n",
       "2   3    90000.0    1          2         1   34        0        0        0   \n",
       "3   4    50000.0    1          2         0   37        0        0        0   \n",
       "4   5    50000.0    0          2         0   57        0        0       -1   \n",
       "\n",
       "   pay_jun  ...  bill_amt_jun  bill_amt_may  bill_amt_apr  pay_amt_sep  \\\n",
       "0        0  ...           0.0           0.0           0.0          0.0   \n",
       "1        0  ...        3272.0        3455.0        3261.0          0.0   \n",
       "2        0  ...       14331.0       14948.0       15549.0       1518.0   \n",
       "3        0  ...       28314.0       28959.0       29547.0       2000.0   \n",
       "4        0  ...       20940.0       19146.0       19131.0       2000.0   \n",
       "\n",
       "   pay_amt_ago  pay_amt_jul  pay_amt_jun  pay_amt_may  pay_amt_apr  \\\n",
       "0        689.0          0.0          0.0          0.0          0.0   \n",
       "1       1000.0       1000.0       1000.0          0.0       2000.0   \n",
       "2       1500.0       1000.0       1000.0       1000.0       5000.0   \n",
       "3       2019.0       1200.0       1100.0       1069.0       1000.0   \n",
       "4      36681.0      10000.0       9000.0        689.0        679.0   \n",
       "\n",
       "   payment_next_month  \n",
       "0                   1  \n",
       "1                   1  \n",
       "2                   0  \n",
       "3                   0  \n",
       "4                   0  \n",
       "\n",
       "[5 rows x 25 columns]"
      ]
     },
     "execution_count": 4,
     "metadata": {},
     "output_type": "execute_result"
    }
   ],
   "source": [
    "df.head()"
   ]
  },
  {
   "cell_type": "markdown",
   "metadata": {},
   "source": [
    "## Preparación de los datos"
   ]
  },
  {
   "cell_type": "code",
   "execution_count": 5,
   "metadata": {},
   "outputs": [],
   "source": [
    "# eliminar columna con info poco valiosa\n",
    "#df.drop('id', axis=1, inplace=True)"
   ]
  },
  {
   "cell_type": "code",
   "execution_count": 6,
   "metadata": {},
   "outputs": [
    {
     "data": {
      "text/plain": [
       "Index(['id', 'limit_bal', 'sex', 'age', 'bill_amt_sep', 'bill_amt_ago',\n",
       "       'bill_amt_jul', 'bill_amt_jun', 'bill_amt_may', 'bill_amt_apr',\n",
       "       'pay_amt_sep', 'pay_amt_ago', 'pay_amt_jul', 'pay_amt_jun',\n",
       "       'pay_amt_may', 'pay_amt_apr', 'payment_next_month', 'education_1',\n",
       "       'education_2', 'education_3', 'education_4', 'marriage_1', 'marriage_2',\n",
       "       'pay_sep_1', 'pay_sep_2', 'pay_sep_3', 'pay_sep_4', 'pay_sep_5',\n",
       "       'pay_sep_6', 'pay_sep_7', 'pay_sep_8', 'pay_ago_0', 'pay_ago_1',\n",
       "       'pay_ago_2', 'pay_ago_3', 'pay_ago_4', 'pay_ago_5', 'pay_ago_6',\n",
       "       'pay_ago_7', 'pay_ago_8', 'pay_jul_0', 'pay_jul_1', 'pay_jul_2',\n",
       "       'pay_jul_3', 'pay_jul_4', 'pay_jul_5', 'pay_jul_6', 'pay_jul_7',\n",
       "       'pay_jul_8', 'pay_jun_1', 'pay_jun_2', 'pay_jun_3', 'pay_jun_4',\n",
       "       'pay_jun_5', 'pay_jun_6', 'pay_jun_7', 'pay_jun_8', 'pay_may_2',\n",
       "       'pay_may_3', 'pay_may_4', 'pay_may_5', 'pay_may_6', 'pay_may_7',\n",
       "       'pay_may_8', 'pay_apr_2', 'pay_apr_3', 'pay_apr_4', 'pay_apr_5',\n",
       "       'pay_apr_6', 'pay_apr_7', 'pay_apr_8'],\n",
       "      dtype='object')"
      ]
     },
     "execution_count": 6,
     "metadata": {},
     "output_type": "execute_result"
    }
   ],
   "source": [
    "var_dummies = ['education', 'marriage', 'pay_sep', 'pay_ago', 'pay_jul', 'pay_jun', 'pay_may', 'pay_apr']\n",
    "\n",
    "for i in var_dummies:\n",
    "    # convertir a variables dummies\n",
    "    value_dummies = pd.get_dummies(df[i], prefix=i, drop_first=True)\n",
    "    df = pd.concat([df.drop(i, axis=1), value_dummies], axis=1)\n",
    "\n",
    "df.columns"
   ]
  },
  {
   "cell_type": "markdown",
   "metadata": {},
   "source": [
    "## División Train/Test"
   ]
  },
  {
   "cell_type": "code",
   "execution_count": 7,
   "metadata": {},
   "outputs": [],
   "source": [
    "from sklearn.model_selection import train_test_split"
   ]
  },
  {
   "cell_type": "code",
   "execution_count": 8,
   "metadata": {},
   "outputs": [],
   "source": [
    "X = df.drop('payment_next_month', axis=1).values\n",
    "y = df['payment_next_month'].values"
   ]
  },
  {
   "cell_type": "code",
   "execution_count": 9,
   "metadata": {},
   "outputs": [],
   "source": [
    "# dividir en entrenamiento y testing\n",
    "X_train, X_test, y_train, y_test = train_test_split(X, y, test_size=0.20, random_state=101)"
   ]
  },
  {
   "cell_type": "markdown",
   "metadata": {},
   "source": [
    "## Normalización de los datos"
   ]
  },
  {
   "cell_type": "code",
   "execution_count": 10,
   "metadata": {},
   "outputs": [],
   "source": [
    "from sklearn.preprocessing import MinMaxScaler"
   ]
  },
  {
   "cell_type": "code",
   "execution_count": 11,
   "metadata": {},
   "outputs": [],
   "source": [
    "scaler = MinMaxScaler()"
   ]
  },
  {
   "cell_type": "code",
   "execution_count": 12,
   "metadata": {},
   "outputs": [],
   "source": [
    "X_train = scaler.fit_transform(X_train)"
   ]
  },
  {
   "cell_type": "code",
   "execution_count": 13,
   "metadata": {},
   "outputs": [],
   "source": [
    "X_test = scaler.transform(X_test)"
   ]
  },
  {
   "cell_type": "markdown",
   "metadata": {},
   "source": [
    "## RNA"
   ]
  },
  {
   "cell_type": "markdown",
   "metadata": {},
   "source": [
    "###  RNA (Red Neuronal Artificial)"
   ]
  },
  {
   "cell_type": "code",
   "execution_count": 14,
   "metadata": {},
   "outputs": [],
   "source": [
    "def create_model(lyrs=[8], act='linear', opt='Adam', dr=0.0):\n",
    "    \n",
    "    # set random seed for reproducibility\n",
    "    seed(42)\n",
    "    tf.random.set_seed(42)\n",
    "    \n",
    "    model = Sequential()\n",
    "    \n",
    "    # create first hidden layer\n",
    "    model.add(Dense(lyrs[0], input_dim=X_train.shape[1], activation=act))\n",
    "    \n",
    "    # create additional hidden layers\n",
    "    for i in range(1,len(lyrs)):\n",
    "        model.add(Dense(lyrs[i], activation=act))\n",
    "    \n",
    "    # add dropout, default is none\n",
    "    model.add(Dropout(dr))\n",
    "    \n",
    "    # create output layer\n",
    "    model.add(Dense(1, activation='sigmoid'))  # output layer\n",
    "    \n",
    "    model.compile(loss='binary_crossentropy', optimizer=opt, metrics=['accuracy'])\n",
    "    \n",
    "    return model"
   ]
  },
  {
   "cell_type": "code",
   "execution_count": 15,
   "metadata": {},
   "outputs": [
    {
     "name": "stdout",
     "output_type": "stream",
     "text": [
      "Model: \"sequential\"\n",
      "_________________________________________________________________\n",
      "Layer (type)                 Output Shape              Param #   \n",
      "=================================================================\n",
      "dense (Dense)                (None, 8)                 568       \n",
      "_________________________________________________________________\n",
      "dropout (Dropout)            (None, 8)                 0         \n",
      "_________________________________________________________________\n",
      "dense_1 (Dense)              (None, 1)                 9         \n",
      "=================================================================\n",
      "Total params: 577\n",
      "Trainable params: 577\n",
      "Non-trainable params: 0\n",
      "_________________________________________________________________\n",
      "None\n"
     ]
    }
   ],
   "source": [
    "model = create_model()\n",
    "print(model.summary())"
   ]
  },
  {
   "cell_type": "markdown",
   "metadata": {},
   "source": [
    "## Train Model"
   ]
  },
  {
   "cell_type": "code",
   "execution_count": 16,
   "metadata": {},
   "outputs": [
    {
     "name": "stdout",
     "output_type": "stream",
     "text": [
      "\n",
      "val_accuracy: 81.39%\n"
     ]
    }
   ],
   "source": [
    "# train model on full train set, with 80/20 CV split\n",
    "training = model.fit(X_train, y_train, epochs=50, batch_size=32, validation_split=0.2, verbose=0)\n",
    "val_acc = np.mean(training.history['val_accuracy'])\n",
    "print(\"\\n%s: %.2f%%\" % ('val_accuracy', val_acc*100))"
   ]
  },
  {
   "cell_type": "code",
   "execution_count": 17,
   "metadata": {},
   "outputs": [
    {
     "data": {
      "text/plain": [
       "dict_keys(['loss', 'accuracy', 'val_loss', 'val_accuracy'])"
      ]
     },
     "execution_count": 17,
     "metadata": {},
     "output_type": "execute_result"
    }
   ],
   "source": [
    "training.history.keys()"
   ]
  },
  {
   "cell_type": "code",
   "execution_count": 18,
   "metadata": {},
   "outputs": [
    {
     "data": {
      "image/png": "[encoded data removed]",
      "text/plain": [
       "<Figure size 432x288 with 1 Axes>"
      ]
     },
     "metadata": {
      "needs_background": "light"
     },
     "output_type": "display_data"
    }
   ],
   "source": [
    "# summarize history for accuracy\n",
    "plt.plot(training.history['accuracy'])\n",
    "plt.plot(training.history['val_accuracy'])\n",
    "plt.title('model accuracy')\n",
    "plt.ylabel('accuracy')\n",
    "plt.xlabel('epoch')\n",
    "plt.legend(['train', 'validation'], loc='upper left')\n",
    "plt.show()"
   ]
  },
  {
   "cell_type": "markdown",
   "metadata": {},
   "source": [
    "## Grid Search"
   ]
  },
  {
   "cell_type": "code",
   "execution_count": 19,
   "metadata": {},
   "outputs": [
    {
     "name": "stdout",
     "output_type": "stream",
     "text": [
      "Fitting 3 folds for each of 6 candidates, totalling 18 fits\n",
      "[CV] END ...........................batch_size=16, epochs=50; total time= 1.1min\n",
      "[CV] END ...........................batch_size=16, epochs=50; total time= 1.1min\n",
      "[CV] END ...........................batch_size=16, epochs=50; total time= 2.6min\n",
      "[CV] END ..........................batch_size=16, epochs=100; total time=  56.0s\n",
      "[CV] END ..........................batch_size=16, epochs=100; total time=  52.8s\n",
      "[CV] END ..........................batch_size=16, epochs=100; total time=  53.8s\n",
      "[CV] END ...........................batch_size=32, epochs=50; total time=  13.8s\n",
      "[CV] END ...........................batch_size=32, epochs=50; total time=  13.6s\n",
      "[CV] END ...........................batch_size=32, epochs=50; total time=  14.0s\n",
      "[CV] END ..........................batch_size=32, epochs=100; total time=  28.0s\n",
      "[CV] END ..........................batch_size=32, epochs=100; total time=  27.9s\n",
      "[CV] END ..........................batch_size=32, epochs=100; total time=  29.2s\n",
      "[CV] END ...........................batch_size=64, epochs=50; total time=   7.8s\n",
      "[CV] END ...........................batch_size=64, epochs=50; total time=   7.7s\n",
      "[CV] END ...........................batch_size=64, epochs=50; total time=   7.4s\n",
      "[CV] END ..........................batch_size=64, epochs=100; total time=  14.3s\n",
      "[CV] END ..........................batch_size=64, epochs=100; total time=  14.4s\n",
      "[CV] END ..........................batch_size=64, epochs=100; total time=  14.2s\n"
     ]
    }
   ],
   "source": [
    "# create model\n",
    "model = KerasClassifier(build_fn=create_model, verbose=0)\n",
    "\n",
    "# define the grid search parameters\n",
    "batch_size = [16, 32, 64]\n",
    "epochs = [50, 100]\n",
    "param_grid = dict(batch_size=batch_size, epochs=epochs)\n",
    "\n",
    "# search the grid\n",
    "grid = GridSearchCV(estimator=model, \n",
    "                    param_grid=param_grid,\n",
    "                    cv=3,\n",
    "                    verbose=2)  # include n_jobs=-1 if you are using CPU\n",
    "\n",
    "grid_result = grid.fit(X_train, y_train)"
   ]
  },
  {
   "cell_type": "code",
   "execution_count": 20,
   "metadata": {},
   "outputs": [
    {
     "name": "stdout",
     "output_type": "stream",
     "text": [
      "Best: 0.817667 using {'batch_size': 64, 'epochs': 100}\n",
      "0.816042 (0.006753) with: {'batch_size': 16, 'epochs': 50}\n",
      "0.814958 (0.005280) with: {'batch_size': 16, 'epochs': 100}\n",
      "0.816500 (0.006525) with: {'batch_size': 32, 'epochs': 50}\n",
      "0.816875 (0.005977) with: {'batch_size': 32, 'epochs': 100}\n",
      "0.817125 (0.006752) with: {'batch_size': 64, 'epochs': 50}\n",
      "0.817667 (0.006889) with: {'batch_size': 64, 'epochs': 100}\n"
     ]
    }
   ],
   "source": [
    "# summarize results\n",
    "print(\"Best: %f using %s\" % (grid_result.best_score_, grid_result.best_params_))\n",
    "means = grid_result.cv_results_['mean_test_score']\n",
    "stds = grid_result.cv_results_['std_test_score']\n",
    "params = grid_result.cv_results_['params']\n",
    "for mean, stdev, param in zip(means, stds, params):\n",
    "    print(\"%f (%f) with: %r\" % (mean, stdev, param))"
   ]
  },
  {
   "cell_type": "markdown",
   "metadata": {},
   "source": [
    "## Optimizacion del modelo"
   ]
  },
  {
   "cell_type": "code",
   "execution_count": 21,
   "metadata": {},
   "outputs": [
    {
     "name": "stdout",
     "output_type": "stream",
     "text": [
      "Fitting 5 folds for each of 6 candidates, totalling 30 fits\n",
      "[CV] END ............................................opt=SGD; total time=  20.5s\n",
      "[CV] END ............................................opt=SGD; total time=  20.0s\n",
      "[CV] END ............................................opt=SGD; total time=  20.6s\n",
      "[CV] END ............................................opt=SGD; total time=  20.8s\n",
      "[CV] END ............................................opt=SGD; total time=  20.6s\n",
      "[CV] END ........................................opt=RMSprop; total time=  22.7s\n",
      "[CV] END ........................................opt=RMSprop; total time=  22.8s\n",
      "[CV] END ........................................opt=RMSprop; total time=  22.5s\n",
      "[CV] END ........................................opt=RMSprop; total time=  22.4s\n",
      "[CV] END ........................................opt=RMSprop; total time=  22.9s\n",
      "[CV] END ........................................opt=Adagrad; total time=  16.2s\n",
      "[CV] END ........................................opt=Adagrad; total time=  15.3s\n",
      "[CV] END ........................................opt=Adagrad; total time=  15.1s\n",
      "[CV] END ........................................opt=Adagrad; total time=  15.3s\n",
      "[CV] END ........................................opt=Adagrad; total time=  16.0s\n",
      "[CV] END .......................................opt=Adadelta; total time=  15.7s\n",
      "[CV] END .......................................opt=Adadelta; total time=  16.6s\n",
      "[CV] END .......................................opt=Adadelta; total time=  16.6s\n",
      "[CV] END .......................................opt=Adadelta; total time=  16.9s\n",
      "[CV] END .......................................opt=Adadelta; total time=  16.9s\n",
      "[CV] END ...........................................opt=Adam; total time=  16.8s\n",
      "[CV] END ...........................................opt=Adam; total time=  17.1s\n",
      "[CV] END ...........................................opt=Adam; total time=  16.8s\n",
      "[CV] END ...........................................opt=Adam; total time=  16.2s\n",
      "[CV] END ...........................................opt=Adam; total time=  16.2s\n",
      "[CV] END ..........................................opt=Nadam; total time=  22.0s\n",
      "[CV] END ..........................................opt=Nadam; total time=  21.7s\n",
      "[CV] END ..........................................opt=Nadam; total time=  21.6s\n",
      "[CV] END ..........................................opt=Nadam; total time=  21.2s\n",
      "[CV] END ..........................................opt=Nadam; total time=  21.4s\n"
     ]
    }
   ],
   "source": [
    "# create model\n",
    "model = KerasClassifier(build_fn=create_model, epochs=50, batch_size=32, verbose=0)\n",
    "\n",
    "# define the grid search parameters\n",
    "optimizer = ['SGD', 'RMSprop', 'Adagrad', 'Adadelta', 'Adam', 'Nadam']\n",
    "param_grid = dict(opt=optimizer)\n",
    "\n",
    "# search the grid\n",
    "grid = GridSearchCV(estimator=model, param_grid=param_grid, verbose=2)\n",
    "grid_result = grid.fit(X_train, y_train)"
   ]
  },
  {
   "cell_type": "code",
   "execution_count": 22,
   "metadata": {},
   "outputs": [
    {
     "name": "stdout",
     "output_type": "stream",
     "text": [
      "Best: 0.817458 using {'opt': 'Nadam'}\n",
      "0.816958 (0.005056) with: {'opt': 'SGD'}\n",
      "0.816417 (0.004424) with: {'opt': 'RMSprop'}\n",
      "0.800833 (0.002758) with: {'opt': 'Adagrad'}\n",
      "0.783833 (0.003619) with: {'opt': 'Adadelta'}\n",
      "0.817417 (0.005182) with: {'opt': 'Adam'}\n",
      "0.817458 (0.005146) with: {'opt': 'Nadam'}\n"
     ]
    }
   ],
   "source": [
    "# summarize results\n",
    "print(\"Best: %f using %s\" % (grid_result.best_score_, grid_result.best_params_))\n",
    "means = grid_result.cv_results_['mean_test_score']\n",
    "stds = grid_result.cv_results_['std_test_score']\n",
    "params = grid_result.cv_results_['params']\n",
    "for mean, stdev, param in zip(means, stds, params):\n",
    "    print(\"%f (%f) with: %r\" % (mean, stdev, param))"
   ]
  },
  {
   "cell_type": "markdown",
   "metadata": {},
   "source": [
    "### Hidden neurons"
   ]
  },
  {
   "cell_type": "code",
   "execution_count": 23,
   "metadata": {},
   "outputs": [
    {
     "name": "stdout",
     "output_type": "stream",
     "text": [
      "Fitting 5 folds for each of 5 candidates, totalling 25 fits\n",
      "[CV] END ...........................................lyrs=[8]; total time=  17.2s\n",
      "[CV] END ...........................................lyrs=[8]; total time=  16.2s\n",
      "[CV] END ...........................................lyrs=[8]; total time=  16.3s\n",
      "[CV] END ...........................................lyrs=[8]; total time=  16.5s\n",
      "[CV] END ...........................................lyrs=[8]; total time=  16.3s\n",
      "[CV] END ..........................................lyrs=[10]; total time=  16.3s\n",
      "[CV] END ..........................................lyrs=[10]; total time=  16.2s\n",
      "[CV] END ..........................................lyrs=[10]; total time=  16.9s\n",
      "[CV] END ..........................................lyrs=[10]; total time=  16.4s\n",
      "[CV] END ..........................................lyrs=[10]; total time=  16.4s\n",
      "[CV] END .......................................lyrs=[10, 5]; total time=  18.2s\n",
      "[CV] END .......................................lyrs=[10, 5]; total time=  18.4s\n",
      "[CV] END .......................................lyrs=[10, 5]; total time=  19.1s\n",
      "[CV] END .......................................lyrs=[10, 5]; total time=  19.0s\n",
      "[CV] END .......................................lyrs=[10, 5]; total time=  20.1s\n",
      "[CV] END .......................................lyrs=[12, 6]; total time=  18.3s\n",
      "[CV] END .......................................lyrs=[12, 6]; total time=  19.0s\n",
      "[CV] END .......................................lyrs=[12, 6]; total time=  19.0s\n",
      "[CV] END .......................................lyrs=[12, 6]; total time=  19.5s\n",
      "[CV] END .......................................lyrs=[12, 6]; total time=  18.4s\n",
      "[CV] END ....................................lyrs=[12, 8, 4]; total time=  22.2s\n",
      "[CV] END ....................................lyrs=[12, 8, 4]; total time=  20.3s\n",
      "[CV] END ....................................lyrs=[12, 8, 4]; total time=  20.7s\n",
      "[CV] END ....................................lyrs=[12, 8, 4]; total time=  20.6s\n",
      "[CV] END ....................................lyrs=[12, 8, 4]; total time=  20.3s\n"
     ]
    }
   ],
   "source": [
    "seed(42)\n",
    "tf.random.set_seed(42)\n",
    "\n",
    "# create model\n",
    "model = KerasClassifier(build_fn=create_model, \n",
    "                        epochs=50, batch_size=32, verbose=0)\n",
    "\n",
    "# define the grid search parameters\n",
    "layers = [[8],[10],[10,5],[12,6],[12,8,4]]\n",
    "param_grid = dict(lyrs=layers)\n",
    "\n",
    "# search the grid\n",
    "grid = GridSearchCV(estimator=model, param_grid=param_grid, verbose=2)\n",
    "grid_result = grid.fit(X_train, y_train)"
   ]
  },
  {
   "cell_type": "code",
   "execution_count": 24,
   "metadata": {},
   "outputs": [
    {
     "name": "stdout",
     "output_type": "stream",
     "text": [
      "Best: 0.817542 using {'lyrs': [10]}\n",
      "0.817417 (0.005182) with: {'lyrs': [8]}\n",
      "0.817542 (0.005246) with: {'lyrs': [10]}\n",
      "0.817292 (0.005189) with: {'lyrs': [10, 5]}\n",
      "0.817375 (0.005039) with: {'lyrs': [12, 6]}\n",
      "0.817167 (0.004785) with: {'lyrs': [12, 8, 4]}\n"
     ]
    }
   ],
   "source": [
    "# summarize results\n",
    "print(\"Best: %f using %s\" % (grid_result.best_score_, grid_result.best_params_))\n",
    "means = grid_result.cv_results_['mean_test_score']\n",
    "stds = grid_result.cv_results_['std_test_score']\n",
    "params = grid_result.cv_results_['params']\n",
    "for mean, stdev, param in zip(means, stds, params):\n",
    "    print(\"%f (%f) with: %r\" % (mean, stdev, param))"
   ]
  },
  {
   "cell_type": "markdown",
   "metadata": {},
   "source": [
    "### Dropout"
   ]
  },
  {
   "cell_type": "code",
   "execution_count": 25,
   "metadata": {},
   "outputs": [
    {
     "name": "stdout",
     "output_type": "stream",
     "text": [
      "Fitting 5 folds for each of 6 candidates, totalling 30 fits\n",
      "[CV] END .............................................dr=0.0; total time=  17.0s\n",
      "[CV] END .............................................dr=0.0; total time=  16.7s\n",
      "[CV] END .............................................dr=0.0; total time=  16.1s\n",
      "[CV] END .............................................dr=0.0; total time=  16.3s\n",
      "[CV] END .............................................dr=0.0; total time=  16.4s\n",
      "[CV] END ............................................dr=0.01; total time=  16.4s\n",
      "[CV] END ............................................dr=0.01; total time=  17.0s\n",
      "[CV] END ............................................dr=0.01; total time=  18.1s\n",
      "[CV] END ............................................dr=0.01; total time=  17.3s\n",
      "[CV] END ............................................dr=0.01; total time=  17.1s\n",
      "[CV] END ............................................dr=0.05; total time=  16.7s\n",
      "[CV] END ............................................dr=0.05; total time=  17.2s\n",
      "[CV] END ............................................dr=0.05; total time=  16.8s\n",
      "[CV] END ............................................dr=0.05; total time=  17.3s\n",
      "[CV] END ............................................dr=0.05; total time=  17.0s\n",
      "[CV] END .............................................dr=0.1; total time=  16.9s\n",
      "[CV] END .............................................dr=0.1; total time=  16.8s\n",
      "[CV] END .............................................dr=0.1; total time=  17.6s\n",
      "[CV] END .............................................dr=0.1; total time=  18.7s\n",
      "[CV] END .............................................dr=0.1; total time=  17.7s\n",
      "[CV] END .............................................dr=0.2; total time=  18.1s\n",
      "[CV] END .............................................dr=0.2; total time=  17.7s\n",
      "[CV] END .............................................dr=0.2; total time=  16.5s\n",
      "[CV] END .............................................dr=0.2; total time=  17.0s\n",
      "[CV] END .............................................dr=0.2; total time=  17.2s\n",
      "[CV] END .............................................dr=0.5; total time=  17.5s\n",
      "[CV] END .............................................dr=0.5; total time=  16.9s\n",
      "[CV] END .............................................dr=0.5; total time=  17.3s\n",
      "[CV] END .............................................dr=0.5; total time=  17.5s\n",
      "[CV] END .............................................dr=0.5; total time=  16.7s\n"
     ]
    }
   ],
   "source": [
    "# create model\n",
    "model = KerasClassifier(build_fn=create_model, \n",
    "                        epochs=50, batch_size=32, verbose=0)\n",
    "\n",
    "# define the grid search parameters\n",
    "drops = [0.0, 0.01, 0.05, 0.1, 0.2, 0.5]\n",
    "param_grid = dict(dr=drops)\n",
    "grid = GridSearchCV(estimator=model, param_grid=param_grid, verbose=2)\n",
    "grid_result = grid.fit(X_train, y_train)"
   ]
  },
  {
   "cell_type": "code",
   "execution_count": 26,
   "metadata": {},
   "outputs": [
    {
     "name": "stdout",
     "output_type": "stream",
     "text": [
      "Best: 0.817625 using {'dr': 0.01}\n",
      "0.817417 (0.005182) with: {'dr': 0.0}\n",
      "0.817625 (0.005347) with: {'dr': 0.01}\n",
      "0.817375 (0.004883) with: {'dr': 0.05}\n",
      "0.817333 (0.005253) with: {'dr': 0.1}\n",
      "0.817458 (0.005345) with: {'dr': 0.2}\n",
      "0.817375 (0.004498) with: {'dr': 0.5}\n"
     ]
    }
   ],
   "source": [
    "# summarize results\n",
    "print(\"Best: %f using %s\" % (grid_result.best_score_, grid_result.best_params_))\n",
    "means = grid_result.cv_results_['mean_test_score']\n",
    "stds = grid_result.cv_results_['std_test_score']\n",
    "params = grid_result.cv_results_['params']\n",
    "for mean, stdev, param in zip(means, stds, params):\n",
    "    print(\"%f (%f) with: %r\" % (mean, stdev, param))"
   ]
  },
  {
   "cell_type": "code",
   "execution_count": 27,
   "metadata": {},
   "outputs": [
    {
     "name": "stdout",
     "output_type": "stream",
     "text": [
      "Model: \"sequential_108\"\n",
      "_________________________________________________________________\n",
      "Layer (type)                 Output Shape              Param #   \n",
      "=================================================================\n",
      "dense_236 (Dense)            (None, 8)                 568       \n",
      "_________________________________________________________________\n",
      "dropout_108 (Dropout)        (None, 8)                 0         \n",
      "_________________________________________________________________\n",
      "dense_237 (Dense)            (None, 1)                 9         \n",
      "=================================================================\n",
      "Total params: 577\n",
      "Trainable params: 577\n",
      "Non-trainable params: 0\n",
      "_________________________________________________________________\n",
      "None\n"
     ]
    }
   ],
   "source": [
    "# create final model\n",
    "model = create_model(lyrs=[8], dr=0.2)\n",
    "\n",
    "print(model.summary())"
   ]
  },
  {
   "cell_type": "code",
   "execution_count": 28,
   "metadata": {},
   "outputs": [
    {
     "name": "stdout",
     "output_type": "stream",
     "text": [
      "750/750 [==============================] - 1s 924us/step - loss: 0.4390 - accuracy: 0.8190\n",
      "\n",
      "accuracy: 81.90%\n"
     ]
    }
   ],
   "source": [
    "# train model on full train set, with 80/20 CV split\n",
    "training = model.fit(X_train, y_train, epochs=50, batch_size=32, \n",
    "                     validation_split=0.2, verbose=0)\n",
    "\n",
    "# evaluate the model\n",
    "scores = model.evaluate(X_train, y_train)\n",
    "print(\"\\n%s: %.2f%%\" % (model.metrics_names[1], scores[1]*100))"
   ]
  },
  {
   "cell_type": "code",
   "execution_count": 29,
   "metadata": {},
   "outputs": [
    {
     "data": {
      "image/png": "[encoded data removed]",
      "text/plain": [
       "<Figure size 432x288 with 1 Axes>"
      ]
     },
     "metadata": {
      "needs_background": "light"
     },
     "output_type": "display_data"
    }
   ],
   "source": [
    "# summarize history for accuracy\n",
    "plt.plot(training.history['accuracy'])\n",
    "plt.plot(training.history['val_accuracy'])\n",
    "plt.title('model accuracy')\n",
    "plt.ylabel('accuracy')\n",
    "plt.xlabel('epoch')\n",
    "plt.legend(['train', 'validation'], loc='upper left')\n",
    "plt.show()"
   ]
  },
  {
   "cell_type": "markdown",
   "metadata": {},
   "source": [
    "### Predicciones"
   ]
  },
  {
   "cell_type": "code",
   "execution_count": 30,
   "metadata": {},
   "outputs": [
    {
     "name": "stdout",
     "output_type": "stream",
     "text": [
      "<class 'pandas.core.frame.DataFrame'>\n",
      "RangeIndex: 30000 entries, 0 to 29999\n",
      "Data columns (total 71 columns):\n",
      " #   Column              Non-Null Count  Dtype  \n",
      "---  ------              --------------  -----  \n",
      " 0   id                  30000 non-null  int64  \n",
      " 1   limit_bal           30000 non-null  float64\n",
      " 2   sex                 30000 non-null  int64  \n",
      " 3   age                 30000 non-null  int64  \n",
      " 4   bill_amt_sep        30000 non-null  float64\n",
      " 5   bill_amt_ago        30000 non-null  float64\n",
      " 6   bill_amt_jul        30000 non-null  float64\n",
      " 7   bill_amt_jun        30000 non-null  float64\n",
      " 8   bill_amt_may        30000 non-null  float64\n",
      " 9   bill_amt_apr        30000 non-null  float64\n",
      " 10  pay_amt_sep         30000 non-null  float64\n",
      " 11  pay_amt_ago         30000 non-null  float64\n",
      " 12  pay_amt_jul         30000 non-null  float64\n",
      " 13  pay_amt_jun         30000 non-null  float64\n",
      " 14  pay_amt_may         30000 non-null  float64\n",
      " 15  pay_amt_apr         30000 non-null  float64\n",
      " 16  payment_next_month  30000 non-null  int64  \n",
      " 17  education_1         30000 non-null  uint8  \n",
      " 18  education_2         30000 non-null  uint8  \n",
      " 19  education_3         30000 non-null  uint8  \n",
      " 20  education_4         30000 non-null  uint8  \n",
      " 21  marriage_1          30000 non-null  uint8  \n",
      " 22  marriage_2          30000 non-null  uint8  \n",
      " 23  pay_sep_1           30000 non-null  uint8  \n",
      " 24  pay_sep_2           30000 non-null  uint8  \n",
      " 25  pay_sep_3           30000 non-null  uint8  \n",
      " 26  pay_sep_4           30000 non-null  uint8  \n",
      " 27  pay_sep_5           30000 non-null  uint8  \n",
      " 28  pay_sep_6           30000 non-null  uint8  \n",
      " 29  pay_sep_7           30000 non-null  uint8  \n",
      " 30  pay_sep_8           30000 non-null  uint8  \n",
      " 31  pay_ago_0           30000 non-null  uint8  \n",
      " 32  pay_ago_1           30000 non-null  uint8  \n",
      " 33  pay_ago_2           30000 non-null  uint8  \n",
      " 34  pay_ago_3           30000 non-null  uint8  \n",
      " 35  pay_ago_4           30000 non-null  uint8  \n",
      " 36  pay_ago_5           30000 non-null  uint8  \n",
      " 37  pay_ago_6           30000 non-null  uint8  \n",
      " 38  pay_ago_7           30000 non-null  uint8  \n",
      " 39  pay_ago_8           30000 non-null  uint8  \n",
      " 40  pay_jul_0           30000 non-null  uint8  \n",
      " 41  pay_jul_1           30000 non-null  uint8  \n",
      " 42  pay_jul_2           30000 non-null  uint8  \n",
      " 43  pay_jul_3           30000 non-null  uint8  \n",
      " 44  pay_jul_4           30000 non-null  uint8  \n",
      " 45  pay_jul_5           30000 non-null  uint8  \n",
      " 46  pay_jul_6           30000 non-null  uint8  \n",
      " 47  pay_jul_7           30000 non-null  uint8  \n",
      " 48  pay_jul_8           30000 non-null  uint8  \n",
      " 49  pay_jun_1           30000 non-null  uint8  \n",
      " 50  pay_jun_2           30000 non-null  uint8  \n",
      " 51  pay_jun_3           30000 non-null  uint8  \n",
      " 52  pay_jun_4           30000 non-null  uint8  \n",
      " 53  pay_jun_5           30000 non-null  uint8  \n",
      " 54  pay_jun_6           30000 non-null  uint8  \n",
      " 55  pay_jun_7           30000 non-null  uint8  \n",
      " 56  pay_jun_8           30000 non-null  uint8  \n",
      " 57  pay_may_2           30000 non-null  uint8  \n",
      " 58  pay_may_3           30000 non-null  uint8  \n",
      " 59  pay_may_4           30000 non-null  uint8  \n",
      " 60  pay_may_5           30000 non-null  uint8  \n",
      " 61  pay_may_6           30000 non-null  uint8  \n",
      " 62  pay_may_7           30000 non-null  uint8  \n",
      " 63  pay_may_8           30000 non-null  uint8  \n",
      " 64  pay_apr_2           30000 non-null  uint8  \n",
      " 65  pay_apr_3           30000 non-null  uint8  \n",
      " 66  pay_apr_4           30000 non-null  uint8  \n",
      " 67  pay_apr_5           30000 non-null  uint8  \n",
      " 68  pay_apr_6           30000 non-null  uint8  \n",
      " 69  pay_apr_7           30000 non-null  uint8  \n",
      " 70  pay_apr_8           30000 non-null  uint8  \n",
      "dtypes: float64(13), int64(4), uint8(54)\n",
      "memory usage: 5.4 MB\n"
     ]
    }
   ],
   "source": [
    "df.info()"
   ]
  },
  {
   "cell_type": "code",
   "execution_count": 31,
   "metadata": {},
   "outputs": [],
   "source": [
    "#mylist = range(0, 6000)\n",
    "dftest = df[:6000]\n",
    "#dftest['client_id'] = mylist"
   ]
  },
  {
   "cell_type": "code",
   "execution_count": 32,
   "metadata": {},
   "outputs": [
    {
     "name": "stderr",
     "output_type": "stream",
     "text": [
      "c:\\users\\camila\\appdata\\local\\programs\\python\\python38\\lib\\site-packages\\pandas\\core\\frame.py:3607: SettingWithCopyWarning: \n",
      "A value is trying to be set on a copy of a slice from a DataFrame.\n",
      "Try using .loc[row_indexer,col_indexer] = value instead\n",
      "\n",
      "See the caveats in the documentation: https://pandas.pydata.org/pandas-docs/stable/user_guide/indexing.html#returning-a-view-versus-a-copy\n",
      "  self._set_item(key, value)\n"
     ]
    },
    {
     "data": {
      "text/html": [
       "<div>\n",
       "<style scoped>\n",
       "    .dataframe tbody tr th:only-of-type {\n",
       "        vertical-align: middle;\n",
       "    }\n",
       "\n",
       "    .dataframe tbody tr th {\n",
       "        vertical-align: top;\n",
       "    }\n",
       "\n",
       "    .dataframe thead th {\n",
       "        text-align: right;\n",
       "    }\n",
       "</style>\n",
       "<table border=\"1\" class=\"dataframe\">\n",
       "  <thead>\n",
       "    <tr style=\"text-align: right;\">\n",
       "      <th></th>\n",
       "      <th>id</th>\n",
       "      <th>payment_next_month</th>\n",
       "    </tr>\n",
       "  </thead>\n",
       "  <tbody>\n",
       "    <tr>\n",
       "      <th>0</th>\n",
       "      <td>1</td>\n",
       "      <td>0</td>\n",
       "    </tr>\n",
       "    <tr>\n",
       "      <th>1</th>\n",
       "      <td>2</td>\n",
       "      <td>0</td>\n",
       "    </tr>\n",
       "    <tr>\n",
       "      <th>2</th>\n",
       "      <td>3</td>\n",
       "      <td>0</td>\n",
       "    </tr>\n",
       "    <tr>\n",
       "      <th>3</th>\n",
       "      <td>4</td>\n",
       "      <td>0</td>\n",
       "    </tr>\n",
       "    <tr>\n",
       "      <th>4</th>\n",
       "      <td>5</td>\n",
       "      <td>0</td>\n",
       "    </tr>\n",
       "    <tr>\n",
       "      <th>5</th>\n",
       "      <td>6</td>\n",
       "      <td>0</td>\n",
       "    </tr>\n",
       "    <tr>\n",
       "      <th>6</th>\n",
       "      <td>7</td>\n",
       "      <td>0</td>\n",
       "    </tr>\n",
       "    <tr>\n",
       "      <th>7</th>\n",
       "      <td>8</td>\n",
       "      <td>0</td>\n",
       "    </tr>\n",
       "    <tr>\n",
       "      <th>8</th>\n",
       "      <td>9</td>\n",
       "      <td>0</td>\n",
       "    </tr>\n",
       "    <tr>\n",
       "      <th>9</th>\n",
       "      <td>10</td>\n",
       "      <td>0</td>\n",
       "    </tr>\n",
       "  </tbody>\n",
       "</table>\n",
       "</div>"
      ],
      "text/plain": [
       "   id  payment_next_month\n",
       "0   1                   0\n",
       "1   2                   0\n",
       "2   3                   0\n",
       "3   4                   0\n",
       "4   5                   0\n",
       "5   6                   0\n",
       "6   7                   0\n",
       "7   8                   0\n",
       "8   9                   0\n",
       "9  10                   0"
      ]
     },
     "execution_count": 32,
     "metadata": {},
     "output_type": "execute_result"
    }
   ],
   "source": [
    "# calculate predictions\n",
    "dftest['payment_next_month'] = model.predict(X_test)\n",
    "dftest['payment_next_month'] = dftest['payment_next_month'].apply(lambda x: round(x,0)).astype('int')\n",
    "solution = dftest[['id', 'payment_next_month']]\n",
    "solution.head(10)"
   ]
  },
  {
   "cell_type": "code",
   "execution_count": null,
   "metadata": {},
   "outputs": [],
   "source": []
  }
 ],
 "metadata": {
  "kernelspec": {
   "display_name": "Python 3",
   "language": "python",
   "name": "python3"
  },
  "language_info": {
   "codemirror_mode": {
    "name": "ipython",
    "version": 3
   },
   "file_extension": ".py",
   "mimetype": "text/x-python",
   "name": "python",
   "nbconvert_exporter": "python",
   "pygments_lexer": "ipython3",
   "version": "3.8.1"
  }
 },
 "nbformat": 4,
 "nbformat_minor": 5
}
