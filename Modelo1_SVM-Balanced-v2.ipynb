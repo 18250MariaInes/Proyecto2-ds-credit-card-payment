{
 "cells": [
  {
   "cell_type": "code",
   "execution_count": 2,
   "metadata": {},
   "outputs": [],
   "source": [
    "import pandas as pd\n",
    "import numpy as np\n",
    "import matplotlib.pyplot as plt\n",
    "import seaborn as sns\n",
    "from imblearn.over_sampling import SMOTE\n",
    "# puede ser necesario o no, dependiendo de su versión de NoteBook\n",
    "%matplotlib inline"
   ]
  },
  {
   "cell_type": "code",
   "execution_count": 3,
   "metadata": {},
   "outputs": [],
   "source": [
    "df = pd.read_csv('./datafinal.csv')"
   ]
  },
  {
   "cell_type": "code",
   "execution_count": 4,
   "metadata": {},
   "outputs": [
    {
     "name": "stdout",
     "output_type": "stream",
     "text": [
      "<class 'pandas.core.frame.DataFrame'>\n",
      "RangeIndex: 30000 entries, 0 to 29999\n",
      "Data columns (total 25 columns):\n",
      " #   Column              Non-Null Count  Dtype  \n",
      "---  ------              --------------  -----  \n",
      " 0   id                  30000 non-null  int64  \n",
      " 1   limit_bal           30000 non-null  float64\n",
      " 2   sex                 30000 non-null  int64  \n",
      " 3   education           30000 non-null  int64  \n",
      " 4   marriage            30000 non-null  int64  \n",
      " 5   age                 30000 non-null  int64  \n",
      " 6   pay_sep             30000 non-null  int64  \n",
      " 7   pay_ago             30000 non-null  int64  \n",
      " 8   pay_jul             30000 non-null  int64  \n",
      " 9   pay_jun             30000 non-null  int64  \n",
      " 10  pay_may             30000 non-null  int64  \n",
      " 11  pay_apr             30000 non-null  int64  \n",
      " 12  bill_amt_sep        30000 non-null  float64\n",
      " 13  bill_amt_ago        30000 non-null  float64\n",
      " 14  bill_amt_jul        30000 non-null  float64\n",
      " 15  bill_amt_jun        30000 non-null  float64\n",
      " 16  bill_amt_may        30000 non-null  float64\n",
      " 17  bill_amt_apr        30000 non-null  float64\n",
      " 18  pay_amt_sep         30000 non-null  float64\n",
      " 19  pay_amt_ago         30000 non-null  float64\n",
      " 20  pay_amt_jul         30000 non-null  float64\n",
      " 21  pay_amt_jun         30000 non-null  float64\n",
      " 22  pay_amt_may         30000 non-null  float64\n",
      " 23  pay_amt_apr         30000 non-null  float64\n",
      " 24  payment_next_month  30000 non-null  int64  \n",
      "dtypes: float64(13), int64(12)\n",
      "memory usage: 5.7 MB\n"
     ]
    }
   ],
   "source": [
    "df.info()"
   ]
  },
  {
   "cell_type": "code",
   "execution_count": 5,
   "metadata": {},
   "outputs": [
    {
     "data": {
      "text/html": [
       "<div>\n",
       "<style scoped>\n",
       "    .dataframe tbody tr th:only-of-type {\n",
       "        vertical-align: middle;\n",
       "    }\n",
       "\n",
       "    .dataframe tbody tr th {\n",
       "        vertical-align: top;\n",
       "    }\n",
       "\n",
       "    .dataframe thead th {\n",
       "        text-align: right;\n",
       "    }\n",
       "</style>\n",
       "<table border=\"1\" class=\"dataframe\">\n",
       "  <thead>\n",
       "    <tr style=\"text-align: right;\">\n",
       "      <th></th>\n",
       "      <th>id</th>\n",
       "      <th>limit_bal</th>\n",
       "      <th>sex</th>\n",
       "      <th>education</th>\n",
       "      <th>marriage</th>\n",
       "      <th>age</th>\n",
       "      <th>pay_sep</th>\n",
       "      <th>pay_ago</th>\n",
       "      <th>pay_jul</th>\n",
       "      <th>pay_jun</th>\n",
       "      <th>...</th>\n",
       "      <th>bill_amt_jun</th>\n",
       "      <th>bill_amt_may</th>\n",
       "      <th>bill_amt_apr</th>\n",
       "      <th>pay_amt_sep</th>\n",
       "      <th>pay_amt_ago</th>\n",
       "      <th>pay_amt_jul</th>\n",
       "      <th>pay_amt_jun</th>\n",
       "      <th>pay_amt_may</th>\n",
       "      <th>pay_amt_apr</th>\n",
       "      <th>payment_next_month</th>\n",
       "    </tr>\n",
       "  </thead>\n",
       "  <tbody>\n",
       "    <tr>\n",
       "      <th>0</th>\n",
       "      <td>1</td>\n",
       "      <td>20000.0</td>\n",
       "      <td>1</td>\n",
       "      <td>2</td>\n",
       "      <td>0</td>\n",
       "      <td>24</td>\n",
       "      <td>2</td>\n",
       "      <td>0</td>\n",
       "      <td>-1</td>\n",
       "      <td>0</td>\n",
       "      <td>...</td>\n",
       "      <td>0.0</td>\n",
       "      <td>0.0</td>\n",
       "      <td>0.0</td>\n",
       "      <td>0.0</td>\n",
       "      <td>689.0</td>\n",
       "      <td>0.0</td>\n",
       "      <td>0.0</td>\n",
       "      <td>0.0</td>\n",
       "      <td>0.0</td>\n",
       "      <td>1</td>\n",
       "    </tr>\n",
       "    <tr>\n",
       "      <th>1</th>\n",
       "      <td>2</td>\n",
       "      <td>120000.0</td>\n",
       "      <td>1</td>\n",
       "      <td>2</td>\n",
       "      <td>1</td>\n",
       "      <td>26</td>\n",
       "      <td>0</td>\n",
       "      <td>0</td>\n",
       "      <td>0</td>\n",
       "      <td>0</td>\n",
       "      <td>...</td>\n",
       "      <td>3272.0</td>\n",
       "      <td>3455.0</td>\n",
       "      <td>3261.0</td>\n",
       "      <td>0.0</td>\n",
       "      <td>1000.0</td>\n",
       "      <td>1000.0</td>\n",
       "      <td>1000.0</td>\n",
       "      <td>0.0</td>\n",
       "      <td>2000.0</td>\n",
       "      <td>1</td>\n",
       "    </tr>\n",
       "    <tr>\n",
       "      <th>2</th>\n",
       "      <td>3</td>\n",
       "      <td>90000.0</td>\n",
       "      <td>1</td>\n",
       "      <td>2</td>\n",
       "      <td>1</td>\n",
       "      <td>34</td>\n",
       "      <td>0</td>\n",
       "      <td>0</td>\n",
       "      <td>0</td>\n",
       "      <td>0</td>\n",
       "      <td>...</td>\n",
       "      <td>14331.0</td>\n",
       "      <td>14948.0</td>\n",
       "      <td>15549.0</td>\n",
       "      <td>1518.0</td>\n",
       "      <td>1500.0</td>\n",
       "      <td>1000.0</td>\n",
       "      <td>1000.0</td>\n",
       "      <td>1000.0</td>\n",
       "      <td>5000.0</td>\n",
       "      <td>0</td>\n",
       "    </tr>\n",
       "    <tr>\n",
       "      <th>3</th>\n",
       "      <td>4</td>\n",
       "      <td>50000.0</td>\n",
       "      <td>1</td>\n",
       "      <td>2</td>\n",
       "      <td>0</td>\n",
       "      <td>37</td>\n",
       "      <td>0</td>\n",
       "      <td>0</td>\n",
       "      <td>0</td>\n",
       "      <td>0</td>\n",
       "      <td>...</td>\n",
       "      <td>28314.0</td>\n",
       "      <td>28959.0</td>\n",
       "      <td>29547.0</td>\n",
       "      <td>2000.0</td>\n",
       "      <td>2019.0</td>\n",
       "      <td>1200.0</td>\n",
       "      <td>1100.0</td>\n",
       "      <td>1069.0</td>\n",
       "      <td>1000.0</td>\n",
       "      <td>0</td>\n",
       "    </tr>\n",
       "    <tr>\n",
       "      <th>4</th>\n",
       "      <td>5</td>\n",
       "      <td>50000.0</td>\n",
       "      <td>0</td>\n",
       "      <td>2</td>\n",
       "      <td>0</td>\n",
       "      <td>57</td>\n",
       "      <td>0</td>\n",
       "      <td>0</td>\n",
       "      <td>-1</td>\n",
       "      <td>0</td>\n",
       "      <td>...</td>\n",
       "      <td>20940.0</td>\n",
       "      <td>19146.0</td>\n",
       "      <td>19131.0</td>\n",
       "      <td>2000.0</td>\n",
       "      <td>36681.0</td>\n",
       "      <td>10000.0</td>\n",
       "      <td>9000.0</td>\n",
       "      <td>689.0</td>\n",
       "      <td>679.0</td>\n",
       "      <td>0</td>\n",
       "    </tr>\n",
       "  </tbody>\n",
       "</table>\n",
       "<p>5 rows × 25 columns</p>\n",
       "</div>"
      ],
      "text/plain": [
       "   id  limit_bal  sex  education  marriage  age  pay_sep  pay_ago  pay_jul  \\\n",
       "0   1    20000.0    1          2         0   24        2        0       -1   \n",
       "1   2   120000.0    1          2         1   26        0        0        0   \n",
       "2   3    90000.0    1          2         1   34        0        0        0   \n",
       "3   4    50000.0    1          2         0   37        0        0        0   \n",
       "4   5    50000.0    0          2         0   57        0        0       -1   \n",
       "\n",
       "   pay_jun  ...  bill_amt_jun  bill_amt_may  bill_amt_apr  pay_amt_sep  \\\n",
       "0        0  ...           0.0           0.0           0.0          0.0   \n",
       "1        0  ...        3272.0        3455.0        3261.0          0.0   \n",
       "2        0  ...       14331.0       14948.0       15549.0       1518.0   \n",
       "3        0  ...       28314.0       28959.0       29547.0       2000.0   \n",
       "4        0  ...       20940.0       19146.0       19131.0       2000.0   \n",
       "\n",
       "   pay_amt_ago  pay_amt_jul  pay_amt_jun  pay_amt_may  pay_amt_apr  \\\n",
       "0        689.0          0.0          0.0          0.0          0.0   \n",
       "1       1000.0       1000.0       1000.0          0.0       2000.0   \n",
       "2       1500.0       1000.0       1000.0       1000.0       5000.0   \n",
       "3       2019.0       1200.0       1100.0       1069.0       1000.0   \n",
       "4      36681.0      10000.0       9000.0        689.0        679.0   \n",
       "\n",
       "   payment_next_month  \n",
       "0                   1  \n",
       "1                   1  \n",
       "2                   0  \n",
       "3                   0  \n",
       "4                   0  \n",
       "\n",
       "[5 rows x 25 columns]"
      ]
     },
     "execution_count": 5,
     "metadata": {},
     "output_type": "execute_result"
    }
   ],
   "source": [
    "df.head()"
   ]
  },
  {
   "cell_type": "markdown",
   "metadata": {},
   "source": [
    "## Preparación de los datos"
   ]
  },
  {
   "cell_type": "code",
   "execution_count": 6,
   "metadata": {},
   "outputs": [],
   "source": [
    "# eliminar columna con info poco valiosa\n",
    "df.drop('id', axis=1, inplace=True)"
   ]
  },
  {
   "cell_type": "code",
   "execution_count": 7,
   "metadata": {},
   "outputs": [
    {
     "data": {
      "text/plain": [
       "Index(['limit_bal', 'sex', 'age', 'bill_amt_sep', 'bill_amt_ago',\n",
       "       'bill_amt_jul', 'bill_amt_jun', 'bill_amt_may', 'bill_amt_apr',\n",
       "       'pay_amt_sep', 'pay_amt_ago', 'pay_amt_jul', 'pay_amt_jun',\n",
       "       'pay_amt_may', 'pay_amt_apr', 'payment_next_month', 'education_1',\n",
       "       'education_2', 'education_3', 'education_4', 'marriage_1', 'marriage_2',\n",
       "       'pay_sep_1', 'pay_sep_2', 'pay_sep_3', 'pay_sep_4', 'pay_sep_5',\n",
       "       'pay_sep_6', 'pay_sep_7', 'pay_sep_8', 'pay_ago_0', 'pay_ago_1',\n",
       "       'pay_ago_2', 'pay_ago_3', 'pay_ago_4', 'pay_ago_5', 'pay_ago_6',\n",
       "       'pay_ago_7', 'pay_ago_8', 'pay_jul_0', 'pay_jul_1', 'pay_jul_2',\n",
       "       'pay_jul_3', 'pay_jul_4', 'pay_jul_5', 'pay_jul_6', 'pay_jul_7',\n",
       "       'pay_jul_8', 'pay_jun_1', 'pay_jun_2', 'pay_jun_3', 'pay_jun_4',\n",
       "       'pay_jun_5', 'pay_jun_6', 'pay_jun_7', 'pay_jun_8', 'pay_may_2',\n",
       "       'pay_may_3', 'pay_may_4', 'pay_may_5', 'pay_may_6', 'pay_may_7',\n",
       "       'pay_may_8', 'pay_apr_2', 'pay_apr_3', 'pay_apr_4', 'pay_apr_5',\n",
       "       'pay_apr_6', 'pay_apr_7', 'pay_apr_8'],\n",
       "      dtype='object')"
      ]
     },
     "execution_count": 7,
     "metadata": {},
     "output_type": "execute_result"
    }
   ],
   "source": [
    "var_dummies = ['education', 'marriage', 'pay_sep', 'pay_ago', 'pay_jul', 'pay_jun', 'pay_may', 'pay_apr']\n",
    "\n",
    "for i in var_dummies:\n",
    "    # convertir a variables dummies\n",
    "    value_dummies = pd.get_dummies(df[i], prefix=i, drop_first=True)\n",
    "    df = pd.concat([df.drop(i, axis=1), value_dummies], axis=1)\n",
    "\n",
    "df.columns"
   ]
  },
  {
   "cell_type": "markdown",
   "metadata": {},
   "source": [
    "## División Train/Test"
   ]
  },
  {
   "cell_type": "code",
   "execution_count": 8,
   "metadata": {},
   "outputs": [],
   "source": [
    "from sklearn.model_selection import train_test_split"
   ]
  },
  {
   "cell_type": "code",
   "execution_count": 9,
   "metadata": {},
   "outputs": [],
   "source": [
    "# Se eliminan todas las columnas que no estan altamente correlacionadas con la variable y\n",
    "X = df.drop(['limit_bal', 'sex', 'bill_amt_sep', 'bill_amt_ago',\n",
    "       'bill_amt_jul', 'bill_amt_jun', 'bill_amt_may', 'bill_amt_apr',\n",
    "       'pay_amt_sep', 'pay_amt_ago', 'pay_amt_jul', 'pay_amt_apr', 'payment_next_month', 'education_1',\n",
    "       'education_2', 'education_3', 'education_4', 'marriage_1', 'marriage_2'], axis=1).values\n",
    "#X = df[['pay_sep', 'pay_may', 'pay_jun', 'pay_apr', 'pay_ago', 'pay_jul', 'pay_amt_may', 'pay_amt_jun', 'age']].values\n",
    "y = df['payment_next_month'].values"
   ]
  },
  {
   "cell_type": "markdown",
   "metadata": {},
   "source": [
    "## Balancing data"
   ]
  },
  {
   "cell_type": "code",
   "execution_count": 10,
   "metadata": {},
   "outputs": [
    {
     "name": "stdout",
     "output_type": "stream",
     "text": [
      "Before OverSampling, counts of label '1': 6636\n",
      "Before OverSampling, counts of label '0': 23364 \n",
      "\n",
      "After OverSampling, the shape of train_X: (46728, 51)\n",
      "After OverSampling, the shape of train_y: (46728,) \n",
      "\n",
      "After OverSampling, counts of label '1': 23364\n",
      "After OverSampling, counts of label '0': 23364\n"
     ]
    }
   ],
   "source": [
    "print(\"Before OverSampling, counts of label '1': {}\".format(sum(y == 1)))\n",
    "print(\"Before OverSampling, counts of label '0': {} \\n\".format(sum(y == 0)))\n",
    "\n",
    "sm = SMOTE(random_state=2)\n",
    "X_balanced, y_balanced = sm.fit_resample(X, y.ravel())\n",
    "\n",
    "print('After OverSampling, the shape of train_X: {}'.format(X_balanced.shape))\n",
    "print('After OverSampling, the shape of train_y: {} \\n'.format(y_balanced.shape))\n",
    "\n",
    "print(\"After OverSampling, counts of label '1': {}\".format(sum(y_balanced == 1)))\n",
    "print(\"After OverSampling, counts of label '0': {}\".format(sum(y_balanced == 0)))"
   ]
  },
  {
   "cell_type": "code",
   "execution_count": 11,
   "metadata": {},
   "outputs": [],
   "source": [
    "# dividir en entrenamiento y testing\n",
    "X_train, X_test, y_train, y_test = train_test_split(X_balanced, y_balanced, test_size=0.20, random_state=101)"
   ]
  },
  {
   "cell_type": "code",
   "execution_count": 12,
   "metadata": {},
   "outputs": [
    {
     "data": {
      "text/plain": [
       "37382"
      ]
     },
     "execution_count": 12,
     "metadata": {},
     "output_type": "execute_result"
    }
   ],
   "source": [
    "len(y_train)"
   ]
  },
  {
   "cell_type": "markdown",
   "metadata": {},
   "source": [
    "## Normalización de los datos"
   ]
  },
  {
   "cell_type": "code",
   "execution_count": 13,
   "metadata": {},
   "outputs": [],
   "source": [
    "from sklearn.preprocessing import MinMaxScaler"
   ]
  },
  {
   "cell_type": "code",
   "execution_count": 14,
   "metadata": {},
   "outputs": [],
   "source": [
    "scaler = MinMaxScaler()"
   ]
  },
  {
   "cell_type": "code",
   "execution_count": 15,
   "metadata": {},
   "outputs": [],
   "source": [
    "X_train = scaler.fit_transform(X_train)"
   ]
  },
  {
   "cell_type": "code",
   "execution_count": 16,
   "metadata": {},
   "outputs": [],
   "source": [
    "X_test = scaler.transform(X_test)"
   ]
  },
  {
   "cell_type": "markdown",
   "metadata": {},
   "source": [
    "## SVM"
   ]
  },
  {
   "cell_type": "markdown",
   "metadata": {},
   "source": [
    "###  SVC (Support Vector Classifier)"
   ]
  },
  {
   "cell_type": "code",
   "execution_count": 17,
   "metadata": {},
   "outputs": [],
   "source": [
    "from sklearn.svm import SVC\n",
    "from sklearn.model_selection import GridSearchCV"
   ]
  },
  {
   "cell_type": "code",
   "execution_count": 18,
   "metadata": {},
   "outputs": [
    {
     "name": "stdout",
     "output_type": "stream",
     "text": [
      "Fitting 6 folds for each of 4 candidates, totalling 24 fits\n",
      "Mejor hiperparametro:  rbf\n",
      "Accuracy mas alto:  0.8060132677081104\n"
     ]
    }
   ],
   "source": [
    "# Definir los kernels que vamos a probar\n",
    "kernels = ['rbf', 'linear', 'poly', 'sigmoid']\n",
    "\n",
    "svc = SVC()\n",
    "hyperParam = [{'kernel': kernels}]\n",
    "\n",
    "gsv = GridSearchCV(svc, hyperParam, cv = 6, verbose = 2, n_jobs=4)\n",
    "\n",
    "# Entrenar el modelo\n",
    "best_model = gsv.fit(X_train, y_train)\n",
    "\n",
    "# Predecir resultados\n",
    "svc_pred_mms = best_model.best_estimator_.predict(X_test)\n",
    "\n",
    "print(\"Mejor hiperparametro: \", gsv.best_params_['kernel'])\n",
    "print(\"Accuracy mas alto: \", best_model.score(X_test, y_test))"
   ]
  },
  {
   "cell_type": "markdown",
   "metadata": {},
   "source": [
    "### Evaluacion del modelo"
   ]
  },
  {
   "cell_type": "code",
   "execution_count": 19,
   "metadata": {},
   "outputs": [],
   "source": [
    "from sklearn import metrics\n",
    "from sklearn.metrics import plot_confusion_matrix\n",
    "from sklearn.metrics import confusion_matrix"
   ]
  },
  {
   "cell_type": "code",
   "execution_count": 20,
   "metadata": {},
   "outputs": [
    {
     "name": "stdout",
     "output_type": "stream",
     "text": [
      "Matriz de confusion: \n",
      " [[4246  441]\n",
      " [1372 3287]]\n",
      "              precision    recall  f1-score   support\n",
      "\n",
      "           0       0.76      0.91      0.82      4687\n",
      "           1       0.88      0.71      0.78      4659\n",
      "\n",
      "    accuracy                           0.81      9346\n",
      "   macro avg       0.82      0.81      0.80      9346\n",
      "weighted avg       0.82      0.81      0.80      9346\n",
      "\n",
      "Accuracy: 0.8060132677081104 \n",
      "\n",
      "Recall/Sensitivity/True Positive Rate: 0.7055162051942477 \n",
      "\n",
      "Precision: 0.881706008583691 \n",
      "\n"
     ]
    },
    {
     "data": {
      "image/png": "[encoded data removed]",
      "text/plain": [
       "<Figure size 432x288 with 2 Axes>"
      ]
     },
     "metadata": {
      "needs_background": "light"
     },
     "output_type": "display_data"
    }
   ],
   "source": [
    "plot_confusion_matrix(gsv, X_test, y_test)\n",
    "\n",
    "conf_metr = confusion_matrix(y_test, svc_pred_mms)\n",
    "\n",
    "print(\"Matriz de confusion: \\n {}\".format(conf_metr))\n",
    "print(metrics.classification_report(y_test, svc_pred_mms))\n",
    "print(\"Accuracy: {} \\n\".format(metrics.accuracy_score(y_test, svc_pred_mms)))\n",
    "print(\"Recall/Sensitivity/True Positive Rate: {} \\n\".format(metrics.recall_score(y_test, svc_pred_mms)))\n",
    "print(\"Precision: {} \\n\".format(metrics.precision_score(y_test, svc_pred_mms)))"
   ]
  },
  {
   "cell_type": "code",
   "execution_count": 21,
   "metadata": {},
   "outputs": [
    {
     "data": {
      "text/plain": [
       "<sklearn.metrics._plot.roc_curve.RocCurveDisplay at 0x2998690d280>"
      ]
     },
     "execution_count": 21,
     "metadata": {},
     "output_type": "execute_result"
    },
    {
     "data": {
      "image/png": "[encoded data removed]",
      "text/plain": [
       "<Figure size 432x288 with 1 Axes>"
      ]
     },
     "metadata": {
      "needs_background": "light"
     },
     "output_type": "display_data"
    }
   ],
   "source": [
    "# ROC Curve:\n",
    "metrics.plot_roc_curve(gsv, X_test, y_test)"
   ]
  },
  {
   "cell_type": "code",
   "execution_count": 22,
   "metadata": {},
   "outputs": [],
   "source": [
    "import pickle"
   ]
  },
  {
   "cell_type": "code",
   "execution_count": 23,
   "metadata": {},
   "outputs": [],
   "source": [
    "filename = 'finalized_model.sav'\n",
    "pickle.dump(best_model, open(filename, 'wb'))"
   ]
  },
  {
   "cell_type": "code",
   "execution_count": 24,
   "metadata": {},
   "outputs": [
    {
     "name": "stdout",
     "output_type": "stream",
     "text": [
      "0.8060132677081104\n"
     ]
    }
   ],
   "source": [
    "# some time later...\n",
    "# load the model from disk\n",
    "loaded_model = pickle.load(open(filename, 'rb'))\n",
    "result = loaded_model.score(X_test, y_test)\n",
    "print(result)"
   ]
  },
  {
   "cell_type": "code",
   "execution_count": null,
   "metadata": {},
   "outputs": [],
   "source": [
    "# https://machinelearningmastery.com/save-load-machine-learning-models-python-scikit-learn/"
   ]
  },
  {
   "cell_type": "markdown",
   "metadata": {},
   "source": [
    "### Guardar el Escalador y modelo"
   ]
  },
  {
   "cell_type": "code",
   "execution_count": 25,
   "metadata": {},
   "outputs": [
    {
     "data": {
      "text/plain": [
       "['escalador_cc.pkl']"
      ]
     },
     "execution_count": 25,
     "metadata": {},
     "output_type": "execute_result"
    }
   ],
   "source": [
    "import joblib\n",
    "joblib.dump(scaler,'escalador_cc.pkl')"
   ]
  },
  {
   "cell_type": "code",
   "execution_count": 28,
   "metadata": {},
   "outputs": [
    {
     "data": {
      "text/plain": [
       "['modelo_final_cc.h5']"
      ]
     },
     "execution_count": 28,
     "metadata": {},
     "output_type": "execute_result"
    }
   ],
   "source": [
    "#best_model.save(\"modelo_final_cc.h5\")\n",
    "joblib.dump(best_model, 'modelo_final_cc.h5')"
   ]
  },
  {
   "cell_type": "markdown",
   "metadata": {},
   "source": [
    "## Proceso para predecir un pago nuevo"
   ]
  },
  {
   "cell_type": "code",
   "execution_count": 29,
   "metadata": {},
   "outputs": [],
   "source": [
    "from tensorflow.keras.models import load_model"
   ]
  },
  {
   "cell_type": "code",
   "execution_count": 31,
   "metadata": {},
   "outputs": [],
   "source": [
    "modelo_cc = joblib.load(\"modelo_final_cc.h5\")\n",
    "escalador_cc = joblib.load(\"escalador_cc.pkl\")"
   ]
  },
  {
   "cell_type": "code",
   "execution_count": 33,
   "metadata": {},
   "outputs": [
    {
     "data": {
      "text/html": [
       "<div>\n",
       "<style scoped>\n",
       "    .dataframe tbody tr th:only-of-type {\n",
       "        vertical-align: middle;\n",
       "    }\n",
       "\n",
       "    .dataframe tbody tr th {\n",
       "        vertical-align: top;\n",
       "    }\n",
       "\n",
       "    .dataframe thead th {\n",
       "        text-align: right;\n",
       "    }\n",
       "</style>\n",
       "<table border=\"1\" class=\"dataframe\">\n",
       "  <thead>\n",
       "    <tr style=\"text-align: right;\">\n",
       "      <th></th>\n",
       "      <th>limit_bal</th>\n",
       "      <th>sex</th>\n",
       "      <th>age</th>\n",
       "      <th>bill_amt_sep</th>\n",
       "      <th>bill_amt_ago</th>\n",
       "      <th>bill_amt_jul</th>\n",
       "      <th>bill_amt_jun</th>\n",
       "      <th>bill_amt_may</th>\n",
       "      <th>bill_amt_apr</th>\n",
       "      <th>pay_amt_sep</th>\n",
       "      <th>...</th>\n",
       "      <th>pay_may_6</th>\n",
       "      <th>pay_may_7</th>\n",
       "      <th>pay_may_8</th>\n",
       "      <th>pay_apr_2</th>\n",
       "      <th>pay_apr_3</th>\n",
       "      <th>pay_apr_4</th>\n",
       "      <th>pay_apr_5</th>\n",
       "      <th>pay_apr_6</th>\n",
       "      <th>pay_apr_7</th>\n",
       "      <th>pay_apr_8</th>\n",
       "    </tr>\n",
       "  </thead>\n",
       "  <tbody>\n",
       "    <tr>\n",
       "      <th>0</th>\n",
       "      <td>20000.0</td>\n",
       "      <td>1</td>\n",
       "      <td>24</td>\n",
       "      <td>3913.0</td>\n",
       "      <td>3102.0</td>\n",
       "      <td>689.0</td>\n",
       "      <td>0.0</td>\n",
       "      <td>0.0</td>\n",
       "      <td>0.0</td>\n",
       "      <td>0.0</td>\n",
       "      <td>...</td>\n",
       "      <td>0</td>\n",
       "      <td>0</td>\n",
       "      <td>0</td>\n",
       "      <td>0</td>\n",
       "      <td>0</td>\n",
       "      <td>0</td>\n",
       "      <td>0</td>\n",
       "      <td>0</td>\n",
       "      <td>0</td>\n",
       "      <td>0</td>\n",
       "    </tr>\n",
       "    <tr>\n",
       "      <th>1</th>\n",
       "      <td>120000.0</td>\n",
       "      <td>1</td>\n",
       "      <td>26</td>\n",
       "      <td>2682.0</td>\n",
       "      <td>1725.0</td>\n",
       "      <td>2682.0</td>\n",
       "      <td>3272.0</td>\n",
       "      <td>3455.0</td>\n",
       "      <td>3261.0</td>\n",
       "      <td>0.0</td>\n",
       "      <td>...</td>\n",
       "      <td>0</td>\n",
       "      <td>0</td>\n",
       "      <td>0</td>\n",
       "      <td>1</td>\n",
       "      <td>0</td>\n",
       "      <td>0</td>\n",
       "      <td>0</td>\n",
       "      <td>0</td>\n",
       "      <td>0</td>\n",
       "      <td>0</td>\n",
       "    </tr>\n",
       "    <tr>\n",
       "      <th>2</th>\n",
       "      <td>90000.0</td>\n",
       "      <td>1</td>\n",
       "      <td>34</td>\n",
       "      <td>29239.0</td>\n",
       "      <td>14027.0</td>\n",
       "      <td>13559.0</td>\n",
       "      <td>14331.0</td>\n",
       "      <td>14948.0</td>\n",
       "      <td>15549.0</td>\n",
       "      <td>1518.0</td>\n",
       "      <td>...</td>\n",
       "      <td>0</td>\n",
       "      <td>0</td>\n",
       "      <td>0</td>\n",
       "      <td>0</td>\n",
       "      <td>0</td>\n",
       "      <td>0</td>\n",
       "      <td>0</td>\n",
       "      <td>0</td>\n",
       "      <td>0</td>\n",
       "      <td>0</td>\n",
       "    </tr>\n",
       "    <tr>\n",
       "      <th>3</th>\n",
       "      <td>50000.0</td>\n",
       "      <td>1</td>\n",
       "      <td>37</td>\n",
       "      <td>46990.0</td>\n",
       "      <td>48233.0</td>\n",
       "      <td>49291.0</td>\n",
       "      <td>28314.0</td>\n",
       "      <td>28959.0</td>\n",
       "      <td>29547.0</td>\n",
       "      <td>2000.0</td>\n",
       "      <td>...</td>\n",
       "      <td>0</td>\n",
       "      <td>0</td>\n",
       "      <td>0</td>\n",
       "      <td>0</td>\n",
       "      <td>0</td>\n",
       "      <td>0</td>\n",
       "      <td>0</td>\n",
       "      <td>0</td>\n",
       "      <td>0</td>\n",
       "      <td>0</td>\n",
       "    </tr>\n",
       "    <tr>\n",
       "      <th>4</th>\n",
       "      <td>50000.0</td>\n",
       "      <td>0</td>\n",
       "      <td>57</td>\n",
       "      <td>8617.0</td>\n",
       "      <td>5670.0</td>\n",
       "      <td>35835.0</td>\n",
       "      <td>20940.0</td>\n",
       "      <td>19146.0</td>\n",
       "      <td>19131.0</td>\n",
       "      <td>2000.0</td>\n",
       "      <td>...</td>\n",
       "      <td>0</td>\n",
       "      <td>0</td>\n",
       "      <td>0</td>\n",
       "      <td>0</td>\n",
       "      <td>0</td>\n",
       "      <td>0</td>\n",
       "      <td>0</td>\n",
       "      <td>0</td>\n",
       "      <td>0</td>\n",
       "      <td>0</td>\n",
       "    </tr>\n",
       "  </tbody>\n",
       "</table>\n",
       "<p>5 rows × 70 columns</p>\n",
       "</div>"
      ],
      "text/plain": [
       "   limit_bal  sex  age  bill_amt_sep  bill_amt_ago  bill_amt_jul  \\\n",
       "0    20000.0    1   24        3913.0        3102.0         689.0   \n",
       "1   120000.0    1   26        2682.0        1725.0        2682.0   \n",
       "2    90000.0    1   34       29239.0       14027.0       13559.0   \n",
       "3    50000.0    1   37       46990.0       48233.0       49291.0   \n",
       "4    50000.0    0   57        8617.0        5670.0       35835.0   \n",
       "\n",
       "   bill_amt_jun  bill_amt_may  bill_amt_apr  pay_amt_sep  ...  pay_may_6  \\\n",
       "0           0.0           0.0           0.0          0.0  ...          0   \n",
       "1        3272.0        3455.0        3261.0          0.0  ...          0   \n",
       "2       14331.0       14948.0       15549.0       1518.0  ...          0   \n",
       "3       28314.0       28959.0       29547.0       2000.0  ...          0   \n",
       "4       20940.0       19146.0       19131.0       2000.0  ...          0   \n",
       "\n",
       "   pay_may_7  pay_may_8  pay_apr_2  pay_apr_3  pay_apr_4  pay_apr_5  \\\n",
       "0          0          0          0          0          0          0   \n",
       "1          0          0          1          0          0          0   \n",
       "2          0          0          0          0          0          0   \n",
       "3          0          0          0          0          0          0   \n",
       "4          0          0          0          0          0          0   \n",
       "\n",
       "   pay_apr_6  pay_apr_7  pay_apr_8  \n",
       "0          0          0          0  \n",
       "1          0          0          0  \n",
       "2          0          0          0  \n",
       "3          0          0          0  \n",
       "4          0          0          0  \n",
       "\n",
       "[5 rows x 70 columns]"
      ]
     },
     "execution_count": 33,
     "metadata": {},
     "output_type": "execute_result"
    }
   ],
   "source": [
    "df.head()"
   ]
  },
  {
   "cell_type": "code",
   "execution_count": 51,
   "metadata": {},
   "outputs": [
    {
     "data": {
      "text/plain": [
       "Index(['limit_bal', 'sex', 'age', 'bill_amt_sep', 'bill_amt_ago',\n",
       "       'bill_amt_jul', 'bill_amt_jun', 'bill_amt_may', 'bill_amt_apr',\n",
       "       'pay_amt_sep', 'pay_amt_ago', 'pay_amt_jul', 'pay_amt_jun',\n",
       "       'pay_amt_may', 'pay_amt_apr', 'payment_next_month', 'education_1',\n",
       "       'education_2', 'education_3', 'education_4', 'marriage_1', 'marriage_2',\n",
       "       'pay_sep_1', 'pay_sep_2', 'pay_sep_3', 'pay_sep_4', 'pay_sep_5',\n",
       "       'pay_sep_6', 'pay_sep_7', 'pay_sep_8', 'pay_ago_0', 'pay_ago_1',\n",
       "       'pay_ago_2', 'pay_ago_3', 'pay_ago_4', 'pay_ago_5', 'pay_ago_6',\n",
       "       'pay_ago_7', 'pay_ago_8', 'pay_jul_0', 'pay_jul_1', 'pay_jul_2',\n",
       "       'pay_jul_3', 'pay_jul_4', 'pay_jul_5', 'pay_jul_6', 'pay_jul_7',\n",
       "       'pay_jul_8', 'pay_jun_1', 'pay_jun_2', 'pay_jun_3', 'pay_jun_4',\n",
       "       'pay_jun_5', 'pay_jun_6', 'pay_jun_7', 'pay_jun_8', 'pay_may_2',\n",
       "       'pay_may_3', 'pay_may_4', 'pay_may_5', 'pay_may_6', 'pay_may_7',\n",
       "       'pay_may_8', 'pay_apr_2', 'pay_apr_3', 'pay_apr_4', 'pay_apr_5',\n",
       "       'pay_apr_6', 'pay_apr_7', 'pay_apr_8'],\n",
       "      dtype='object')"
      ]
     },
     "execution_count": 51,
     "metadata": {},
     "output_type": "execute_result"
    }
   ],
   "source": [
    "df.columns\n",
    "#df['pay_ago_1'].value_counts()"
   ]
  },
  {
   "cell_type": "code",
   "execution_count": 52,
   "metadata": {},
   "outputs": [],
   "source": [
    "cliente_muestra = {'age':23,              \n",
    "                   'pay_sep_1':0, 'pay_sep_2':0, 'pay_sep_3':1, 'pay_sep_4':0, 'pay_sep_5':0,\n",
    "                   'pay_sep_6':0, 'pay_sep_7':0, 'pay_sep_8':0, 'pay_ago_0':0, 'pay_ago_1':0,\n",
    "                   'pay_ago_2':0, 'pay_ago_3':0, 'pay_ago_4':0, 'pay_ago_5':0, 'pay_ago_6':1,\n",
    "                   'pay_ago_7':0, 'pay_ago_8':0, 'pay_jul_0':0, 'pay_jul_1':0, 'pay_jul_2':0,\n",
    "                   'pay_jul_3':0, 'pay_jul_4':1, 'pay_jul_5':0, 'pay_jul_6':0, 'pay_jul_7':0,\n",
    "                   'pay_jul_8':0, 'pay_jun_1':0, 'pay_jun_2':0, 'pay_jun_3':0, 'pay_jun_4':0,\n",
    "                   'pay_jun_5':0, 'pay_jun_6':0, 'pay_jun_7':0, 'pay_jun_8':1, 'pay_may_2':0,\n",
    "                   'pay_may_3':0, 'pay_may_4':1, 'pay_may_5':0, 'pay_may_6':0, 'pay_may_7':0,\n",
    "                   'pay_may_8':0, 'pay_apr_2':0, 'pay_apr_3':0, 'pay_apr_4':1, 'pay_apr_5':0,\n",
    "                   'pay_apr_6':0, 'pay_apr_7':0, 'pay_apr_8':0,\n",
    "                   'pay_amt_may':35000,\n",
    "                   'pay_amt_jun':10000}"
   ]
  },
  {
   "cell_type": "code",
   "execution_count": 53,
   "metadata": {},
   "outputs": [
    {
     "data": {
      "text/plain": [
       "dict_keys(['age', 'pay_sep_1', 'pay_sep_2', 'pay_sep_3', 'pay_sep_4', 'pay_sep_5', 'pay_sep_6', 'pay_sep_7', 'pay_sep_8', 'pay_ago_0', 'pay_ago_1', 'pay_ago_2', 'pay_ago_3', 'pay_ago_4', 'pay_ago_5', 'pay_ago_6', 'pay_ago_7', 'pay_ago_8', 'pay_jul_0', 'pay_jul_1', 'pay_jul_2', 'pay_jul_3', 'pay_jul_4', 'pay_jul_5', 'pay_jul_6', 'pay_jul_7', 'pay_jul_8', 'pay_jun_1', 'pay_jun_2', 'pay_jun_3', 'pay_jun_4', 'pay_jun_5', 'pay_jun_6', 'pay_jun_7', 'pay_jun_8', 'pay_may_2', 'pay_may_3', 'pay_may_4', 'pay_may_5', 'pay_may_6', 'pay_may_7', 'pay_may_8', 'pay_apr_2', 'pay_apr_3', 'pay_apr_4', 'pay_apr_5', 'pay_apr_6', 'pay_apr_7', 'pay_apr_8', 'pay_amt_may', 'pay_amt_jun'])"
      ]
     },
     "execution_count": 53,
     "metadata": {},
     "output_type": "execute_result"
    }
   ],
   "source": [
    "cliente_muestra.keys()"
   ]
  },
  {
   "cell_type": "code",
   "execution_count": 50,
   "metadata": {},
   "outputs": [
    {
     "data": {
      "text/plain": [
       "array([0, 1], dtype=int64)"
      ]
     },
     "execution_count": 50,
     "metadata": {},
     "output_type": "execute_result"
    }
   ],
   "source": [
    "from sklearn.preprocessing import LabelBinarizer\n",
    "codificador = LabelBinarizer()\n",
    "final_y = codificador.fit_transform(y)\n",
    "codificador.classes_"
   ]
  },
  {
   "cell_type": "code",
   "execution_count": 62,
   "metadata": {},
   "outputs": [
    {
     "data": {
      "text/plain": [
       "0"
      ]
     },
     "execution_count": 62,
     "metadata": {},
     "output_type": "execute_result"
    }
   ],
   "source": [
    "def devuelve_prediccion(modelo, escalador, muestra_json):\n",
    "    \n",
    "    # Si fueran muchas más características,\n",
    "    #   probablemente sería bueno codificar\n",
    "    #   una iteración que contruya este arreglo\n",
    "    \n",
    "    caracteristicas = ['age', 'pay_sep_1', 'pay_sep_2', 'pay_sep_3', 'pay_sep_4', 'pay_sep_5',\n",
    "       'pay_sep_6', 'pay_sep_7', 'pay_sep_8', 'pay_ago_0', 'pay_ago_1',\n",
    "       'pay_ago_2', 'pay_ago_3', 'pay_ago_4', 'pay_ago_5', 'pay_ago_6',\n",
    "       'pay_ago_7', 'pay_ago_8', 'pay_jul_0', 'pay_jul_1', 'pay_jul_2',\n",
    "       'pay_jul_3', 'pay_jul_4', 'pay_jul_5', 'pay_jul_6', 'pay_jul_7',\n",
    "       'pay_jul_8', 'pay_jun_1', 'pay_jun_2', 'pay_jun_3', 'pay_jun_4',\n",
    "       'pay_jun_5', 'pay_jun_6', 'pay_jun_7', 'pay_jun_8', 'pay_may_2',\n",
    "       'pay_may_3', 'pay_may_4', 'pay_may_5', 'pay_may_6', 'pay_may_7',\n",
    "       'pay_may_8', 'pay_apr_2', 'pay_apr_3', 'pay_apr_4', 'pay_apr_5',\n",
    "       'pay_apr_6', 'pay_apr_7', 'pay_apr_8', 'pay_amt_may','pay_amt_jun']\n",
    "    \n",
    "    \n",
    "    #long_sep = muestra_json['long_sepalo']\n",
    "    #ancho_sep = muestra_json['ancho_sepalo']\n",
    "    #long_pet = muestra_json['long_petalo']\n",
    "    #ancho_pet = muestra_json['ancho_petalo']\n",
    "    \n",
    "    data = []\n",
    "    for i in caracteristicas:\n",
    "        data.append(muestra_json[i])\n",
    "    #flor = [[long_sep, ancho_sep,\n",
    "     #        long_pet, ancho_pet]]\n",
    "    \n",
    "    cliente = [data]\n",
    "    cliente = escalador.transform(cliente)\n",
    "    \n",
    "    clases = np.array([0,1])\n",
    "    \n",
    "    #clase_ind = modelo.predict_classes(flor)\n",
    "    clase_ind = np.argmax(modelo.predict(cliente), axis=-1)\n",
    "    \n",
    "    return clases[clase_ind]\n",
    "\n",
    "prediccion = devuelve_prediccion(modelo_cc,\n",
    "                    escalador_cc,\n",
    "                    cliente_muestra)\n",
    "prediccion"
   ]
  },
  {
   "cell_type": "code",
   "execution_count": 64,
   "metadata": {},
   "outputs": [
    {
     "name": "stdout",
     "output_type": "stream",
     "text": [
      "No tendra incumplimiento de pago al mes siguiente \n"
     ]
    }
   ],
   "source": [
    "if(prediccion==0):\n",
    "    print('No tendra incumplimiento de pago al mes siguiente ')\n",
    "else:\n",
    "    print('Si tendra incumplimiento de pago al mes siguiente ')"
   ]
  },
  {
   "cell_type": "code",
   "execution_count": null,
   "metadata": {},
   "outputs": [],
   "source": []
  }
 ],
 "metadata": {
  "kernelspec": {
   "display_name": "Python 3",
   "language": "python",
   "name": "python3"
  },
  "language_info": {
   "codemirror_mode": {
    "name": "ipython",
    "version": 3
   },
   "file_extension": ".py",
   "mimetype": "text/x-python",
   "name": "python",
   "nbconvert_exporter": "python",
   "pygments_lexer": "ipython3",
   "version": "3.8.1"
  }
 },
 "nbformat": 4,
 "nbformat_minor": 5
}
