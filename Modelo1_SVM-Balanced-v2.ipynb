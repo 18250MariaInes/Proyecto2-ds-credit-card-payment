{
 "cells": [
  {
   "cell_type": "markdown",
   "metadata": {},
   "source": [
    "# PROYECTO 2 - Credit Card Payment\n",
    "### Modelo SVM y preparacion para UI\n",
    "María Inés Vásquez Figueroa 18250\\\n",
    "Diana Ximena de León Figueroa 18607\\\n",
    "María José Castro Lemus 181202\\\n",
    "Paula Camila González Ortega"
   ]
  },
  {
   "cell_type": "code",
   "execution_count": 1,
   "metadata": {},
   "outputs": [],
   "source": [
    "import pandas as pd\n",
    "import numpy as np\n",
    "import matplotlib.pyplot as plt\n",
    "import seaborn as sns\n",
    "from imblearn.over_sampling import SMOTE\n",
    "# puede ser necesario o no, dependiendo de su versión de NoteBook\n",
    "%matplotlib inline"
   ]
  },
  {
   "cell_type": "code",
   "execution_count": 2,
   "metadata": {},
   "outputs": [],
   "source": [
    "df = pd.read_csv('./datafinal.csv')"
   ]
  },
  {
   "cell_type": "code",
   "execution_count": 3,
   "metadata": {},
   "outputs": [
    {
     "name": "stdout",
     "output_type": "stream",
     "text": [
      "<class 'pandas.core.frame.DataFrame'>\n",
      "RangeIndex: 30000 entries, 0 to 29999\n",
      "Data columns (total 26 columns):\n",
      " #   Column              Non-Null Count  Dtype  \n",
      "---  ------              --------------  -----  \n",
      " 0   id                  30000 non-null  int64  \n",
      " 1   limit_bal           30000 non-null  float64\n",
      " 2   sex                 30000 non-null  int64  \n",
      " 3   education           30000 non-null  int64  \n",
      " 4   marriage            30000 non-null  int64  \n",
      " 5   age                 30000 non-null  int64  \n",
      " 6   pay_sep             30000 non-null  int64  \n",
      " 7   pay_ago             30000 non-null  int64  \n",
      " 8   pay_jul             30000 non-null  int64  \n",
      " 9   pay_jun             30000 non-null  int64  \n",
      " 10  pay_may             30000 non-null  int64  \n",
      " 11  pay_apr             30000 non-null  int64  \n",
      " 12  bill_amt_sep        30000 non-null  float64\n",
      " 13  bill_amt_ago        30000 non-null  float64\n",
      " 14  bill_amt_jul        30000 non-null  float64\n",
      " 15  bill_amt_jun        30000 non-null  float64\n",
      " 16  bill_amt_may        30000 non-null  float64\n",
      " 17  bill_amt_apr        30000 non-null  float64\n",
      " 18  pay_amt_sep         30000 non-null  float64\n",
      " 19  pay_amt_ago         30000 non-null  float64\n",
      " 20  pay_amt_jul         30000 non-null  float64\n",
      " 21  pay_amt_jun         30000 non-null  float64\n",
      " 22  pay_amt_may         30000 non-null  float64\n",
      " 23  pay_amt_apr         30000 non-null  float64\n",
      " 24  payment_next_month  30000 non-null  int64  \n",
      " 25  months_late         30000 non-null  int64  \n",
      "dtypes: float64(13), int64(13)\n",
      "memory usage: 6.0 MB\n"
     ]
    }
   ],
   "source": [
    "df.info()"
   ]
  },
  {
   "cell_type": "code",
   "execution_count": 4,
   "metadata": {},
   "outputs": [
    {
     "data": {
      "text/html": [
       "<div>\n",
       "<style scoped>\n",
       "    .dataframe tbody tr th:only-of-type {\n",
       "        vertical-align: middle;\n",
       "    }\n",
       "\n",
       "    .dataframe tbody tr th {\n",
       "        vertical-align: top;\n",
       "    }\n",
       "\n",
       "    .dataframe thead th {\n",
       "        text-align: right;\n",
       "    }\n",
       "</style>\n",
       "<table border=\"1\" class=\"dataframe\">\n",
       "  <thead>\n",
       "    <tr style=\"text-align: right;\">\n",
       "      <th></th>\n",
       "      <th>id</th>\n",
       "      <th>limit_bal</th>\n",
       "      <th>sex</th>\n",
       "      <th>education</th>\n",
       "      <th>marriage</th>\n",
       "      <th>age</th>\n",
       "      <th>pay_sep</th>\n",
       "      <th>pay_ago</th>\n",
       "      <th>pay_jul</th>\n",
       "      <th>pay_jun</th>\n",
       "      <th>...</th>\n",
       "      <th>bill_amt_may</th>\n",
       "      <th>bill_amt_apr</th>\n",
       "      <th>pay_amt_sep</th>\n",
       "      <th>pay_amt_ago</th>\n",
       "      <th>pay_amt_jul</th>\n",
       "      <th>pay_amt_jun</th>\n",
       "      <th>pay_amt_may</th>\n",
       "      <th>pay_amt_apr</th>\n",
       "      <th>payment_next_month</th>\n",
       "      <th>months_late</th>\n",
       "    </tr>\n",
       "  </thead>\n",
       "  <tbody>\n",
       "    <tr>\n",
       "      <th>0</th>\n",
       "      <td>1</td>\n",
       "      <td>20000.0</td>\n",
       "      <td>1</td>\n",
       "      <td>2</td>\n",
       "      <td>0</td>\n",
       "      <td>24</td>\n",
       "      <td>2</td>\n",
       "      <td>2</td>\n",
       "      <td>0</td>\n",
       "      <td>0</td>\n",
       "      <td>...</td>\n",
       "      <td>0.0</td>\n",
       "      <td>0.0</td>\n",
       "      <td>0.0</td>\n",
       "      <td>689.0</td>\n",
       "      <td>0.0</td>\n",
       "      <td>0.0</td>\n",
       "      <td>0.0</td>\n",
       "      <td>0.0</td>\n",
       "      <td>1</td>\n",
       "      <td>2</td>\n",
       "    </tr>\n",
       "    <tr>\n",
       "      <th>1</th>\n",
       "      <td>2</td>\n",
       "      <td>120000.0</td>\n",
       "      <td>1</td>\n",
       "      <td>2</td>\n",
       "      <td>1</td>\n",
       "      <td>26</td>\n",
       "      <td>0</td>\n",
       "      <td>2</td>\n",
       "      <td>0</td>\n",
       "      <td>0</td>\n",
       "      <td>...</td>\n",
       "      <td>3455.0</td>\n",
       "      <td>3261.0</td>\n",
       "      <td>0.0</td>\n",
       "      <td>1000.0</td>\n",
       "      <td>1000.0</td>\n",
       "      <td>1000.0</td>\n",
       "      <td>0.0</td>\n",
       "      <td>2000.0</td>\n",
       "      <td>1</td>\n",
       "      <td>2</td>\n",
       "    </tr>\n",
       "    <tr>\n",
       "      <th>2</th>\n",
       "      <td>3</td>\n",
       "      <td>90000.0</td>\n",
       "      <td>1</td>\n",
       "      <td>2</td>\n",
       "      <td>1</td>\n",
       "      <td>34</td>\n",
       "      <td>0</td>\n",
       "      <td>0</td>\n",
       "      <td>0</td>\n",
       "      <td>0</td>\n",
       "      <td>...</td>\n",
       "      <td>14948.0</td>\n",
       "      <td>15549.0</td>\n",
       "      <td>1518.0</td>\n",
       "      <td>1500.0</td>\n",
       "      <td>1000.0</td>\n",
       "      <td>1000.0</td>\n",
       "      <td>1000.0</td>\n",
       "      <td>5000.0</td>\n",
       "      <td>0</td>\n",
       "      <td>0</td>\n",
       "    </tr>\n",
       "    <tr>\n",
       "      <th>3</th>\n",
       "      <td>4</td>\n",
       "      <td>50000.0</td>\n",
       "      <td>1</td>\n",
       "      <td>2</td>\n",
       "      <td>0</td>\n",
       "      <td>37</td>\n",
       "      <td>0</td>\n",
       "      <td>0</td>\n",
       "      <td>0</td>\n",
       "      <td>0</td>\n",
       "      <td>...</td>\n",
       "      <td>28959.0</td>\n",
       "      <td>29547.0</td>\n",
       "      <td>2000.0</td>\n",
       "      <td>2019.0</td>\n",
       "      <td>1200.0</td>\n",
       "      <td>1100.0</td>\n",
       "      <td>1069.0</td>\n",
       "      <td>1000.0</td>\n",
       "      <td>0</td>\n",
       "      <td>0</td>\n",
       "    </tr>\n",
       "    <tr>\n",
       "      <th>4</th>\n",
       "      <td>5</td>\n",
       "      <td>50000.0</td>\n",
       "      <td>0</td>\n",
       "      <td>2</td>\n",
       "      <td>0</td>\n",
       "      <td>57</td>\n",
       "      <td>0</td>\n",
       "      <td>0</td>\n",
       "      <td>0</td>\n",
       "      <td>0</td>\n",
       "      <td>...</td>\n",
       "      <td>19146.0</td>\n",
       "      <td>19131.0</td>\n",
       "      <td>2000.0</td>\n",
       "      <td>36681.0</td>\n",
       "      <td>10000.0</td>\n",
       "      <td>9000.0</td>\n",
       "      <td>689.0</td>\n",
       "      <td>679.0</td>\n",
       "      <td>0</td>\n",
       "      <td>0</td>\n",
       "    </tr>\n",
       "  </tbody>\n",
       "</table>\n",
       "<p>5 rows × 26 columns</p>\n",
       "</div>"
      ],
      "text/plain": [
       "   id  limit_bal  sex  education  marriage  age  pay_sep  pay_ago  pay_jul  \\\n",
       "0   1    20000.0    1          2         0   24        2        2        0   \n",
       "1   2   120000.0    1          2         1   26        0        2        0   \n",
       "2   3    90000.0    1          2         1   34        0        0        0   \n",
       "3   4    50000.0    1          2         0   37        0        0        0   \n",
       "4   5    50000.0    0          2         0   57        0        0        0   \n",
       "\n",
       "   pay_jun  ...  bill_amt_may  bill_amt_apr  pay_amt_sep  pay_amt_ago  \\\n",
       "0        0  ...           0.0           0.0          0.0        689.0   \n",
       "1        0  ...        3455.0        3261.0          0.0       1000.0   \n",
       "2        0  ...       14948.0       15549.0       1518.0       1500.0   \n",
       "3        0  ...       28959.0       29547.0       2000.0       2019.0   \n",
       "4        0  ...       19146.0       19131.0       2000.0      36681.0   \n",
       "\n",
       "   pay_amt_jul  pay_amt_jun  pay_amt_may  pay_amt_apr  payment_next_month  \\\n",
       "0          0.0          0.0          0.0          0.0                   1   \n",
       "1       1000.0       1000.0          0.0       2000.0                   1   \n",
       "2       1000.0       1000.0       1000.0       5000.0                   0   \n",
       "3       1200.0       1100.0       1069.0       1000.0                   0   \n",
       "4      10000.0       9000.0        689.0        679.0                   0   \n",
       "\n",
       "   months_late  \n",
       "0            2  \n",
       "1            2  \n",
       "2            0  \n",
       "3            0  \n",
       "4            0  \n",
       "\n",
       "[5 rows x 26 columns]"
      ]
     },
     "execution_count": 4,
     "metadata": {},
     "output_type": "execute_result"
    }
   ],
   "source": [
    "df.head()"
   ]
  },
  {
   "cell_type": "markdown",
   "metadata": {},
   "source": [
    "## Preparación de los datos"
   ]
  },
  {
   "cell_type": "code",
   "execution_count": 5,
   "metadata": {},
   "outputs": [],
   "source": [
    "# eliminar columna con info poco valiosa\n",
    "df.drop('id', axis=1, inplace=True)"
   ]
  },
  {
   "cell_type": "code",
   "execution_count": 6,
   "metadata": {},
   "outputs": [
    {
     "data": {
      "text/plain": [
       "Index(['limit_bal', 'education', 'age', 'pay_sep', 'pay_ago', 'pay_jul',\n",
       "       'pay_jun', 'pay_may', 'pay_apr', 'bill_amt_sep', 'bill_amt_ago',\n",
       "       'bill_amt_jul', 'bill_amt_jun', 'bill_amt_may', 'bill_amt_apr',\n",
       "       'pay_amt_sep', 'pay_amt_ago', 'pay_amt_jul', 'pay_amt_jun',\n",
       "       'pay_amt_may', 'pay_amt_apr', 'payment_next_month', 'months_late',\n",
       "       'sex_1', 'marriage_1', 'marriage_2'],\n",
       "      dtype='object')"
      ]
     },
     "execution_count": 6,
     "metadata": {},
     "output_type": "execute_result"
    }
   ],
   "source": [
    "var_dummies = ['sex', 'marriage']\n",
    "\n",
    "for i in var_dummies:\n",
    "    # convertir a variables dummies\n",
    "    value_dummies = pd.get_dummies(df[i], prefix=i, drop_first=True)\n",
    "    df = pd.concat([df.drop(i, axis=1), value_dummies], axis=1)\n",
    "\n",
    "df.columns"
   ]
  },
  {
   "cell_type": "markdown",
   "metadata": {},
   "source": [
    "## División Train/Test"
   ]
  },
  {
   "cell_type": "code",
   "execution_count": 7,
   "metadata": {},
   "outputs": [],
   "source": [
    "from sklearn.model_selection import train_test_split"
   ]
  },
  {
   "cell_type": "code",
   "execution_count": 18,
   "metadata": {},
   "outputs": [],
   "source": [
    "# Se eliminan todas las columnas que no estan altamente correlacionadas con la variable y\n",
    "X = df.drop(['limit_bal', 'sex_1', 'bill_amt_sep', 'bill_amt_ago',\n",
    "       'bill_amt_jul', 'bill_amt_jun', 'bill_amt_may', 'bill_amt_apr',\n",
    "       'pay_amt_sep', 'pay_amt_ago', 'pay_amt_jul', 'pay_amt_apr', 'payment_next_month', 'education',\n",
    "       'marriage_1', 'marriage_2', 'pay_sep', 'pay_ago', 'pay_jul','pay_jun', 'pay_may', 'pay_apr'], axis=1).values\n",
    "#X = df[['age', 'months_late','pay_amt_may', 'pay_amt_jun', 'age']].values\n",
    "y = df['payment_next_month'].values"
   ]
  },
  {
   "cell_type": "markdown",
   "metadata": {},
   "source": [
    "### Balancing data"
   ]
  },
  {
   "cell_type": "code",
   "execution_count": 9,
   "metadata": {},
   "outputs": [
    {
     "name": "stdout",
     "output_type": "stream",
     "text": [
      "Before OverSampling, counts of label '1': 6636\n",
      "Before OverSampling, counts of label '0': 23364 \n",
      "\n",
      "After OverSampling, the shape of train_X: (46728, 4)\n",
      "After OverSampling, the shape of train_y: (46728,) \n",
      "\n",
      "After OverSampling, counts of label '1': 23364\n",
      "After OverSampling, counts of label '0': 23364\n"
     ]
    }
   ],
   "source": [
    "print(\"Before OverSampling, counts of label '1': {}\".format(sum(y == 1)))\n",
    "print(\"Before OverSampling, counts of label '0': {} \\n\".format(sum(y == 0)))\n",
    "\n",
    "sm = SMOTE(random_state=2)\n",
    "X_balanced, y_balanced = sm.fit_resample(X, y.ravel())\n",
    "\n",
    "print('After OverSampling, the shape of train_X: {}'.format(X_balanced.shape))\n",
    "print('After OverSampling, the shape of train_y: {} \\n'.format(y_balanced.shape))\n",
    "\n",
    "print(\"After OverSampling, counts of label '1': {}\".format(sum(y_balanced == 1)))\n",
    "print(\"After OverSampling, counts of label '0': {}\".format(sum(y_balanced == 0)))"
   ]
  },
  {
   "cell_type": "code",
   "execution_count": 19,
   "metadata": {},
   "outputs": [],
   "source": [
    "# dividir en entrenamiento y testing\n",
    "X_train, X_test, y_train, y_test = train_test_split(X_balanced, y_balanced, test_size=0.20, random_state=101)"
   ]
  },
  {
   "cell_type": "code",
   "execution_count": 20,
   "metadata": {},
   "outputs": [
    {
     "data": {
      "text/plain": [
       "37382"
      ]
     },
     "execution_count": 20,
     "metadata": {},
     "output_type": "execute_result"
    }
   ],
   "source": [
    "len(y_train)"
   ]
  },
  {
   "cell_type": "markdown",
   "metadata": {},
   "source": [
    "## Normalización de los datos"
   ]
  },
  {
   "cell_type": "code",
   "execution_count": 21,
   "metadata": {},
   "outputs": [],
   "source": [
    "from sklearn.preprocessing import MinMaxScaler"
   ]
  },
  {
   "cell_type": "code",
   "execution_count": 22,
   "metadata": {},
   "outputs": [],
   "source": [
    "scaler = MinMaxScaler()"
   ]
  },
  {
   "cell_type": "code",
   "execution_count": 23,
   "metadata": {},
   "outputs": [],
   "source": [
    "X_train = scaler.fit_transform(X_train)"
   ]
  },
  {
   "cell_type": "code",
   "execution_count": 24,
   "metadata": {},
   "outputs": [],
   "source": [
    "X_test = scaler.transform(X_test)"
   ]
  },
  {
   "cell_type": "markdown",
   "metadata": {},
   "source": [
    "## SVM"
   ]
  },
  {
   "cell_type": "markdown",
   "metadata": {},
   "source": [
    "###  SVC (Support Vector Classifier)"
   ]
  },
  {
   "cell_type": "code",
   "execution_count": 25,
   "metadata": {},
   "outputs": [],
   "source": [
    "from sklearn.svm import SVC\n",
    "from sklearn.model_selection import GridSearchCV"
   ]
  },
  {
   "cell_type": "code",
   "execution_count": 26,
   "metadata": {},
   "outputs": [
    {
     "name": "stdout",
     "output_type": "stream",
     "text": [
      "Fitting 5 folds for each of 4 candidates, totalling 20 fits\n",
      "Mejor hiperparametro:  rbf\n",
      "Accuracy mas alto:  0.7487695270704045\n"
     ]
    }
   ],
   "source": [
    "# Definir los kernels que vamos a probar\n",
    "kernels = ['rbf', 'linear', 'poly', 'sigmoid']\n",
    "\n",
    "svc = SVC()\n",
    "hyperParam = [{'kernel': kernels}]\n",
    "\n",
    "gsv = GridSearchCV(svc, hyperParam, cv = 5, verbose = 2, n_jobs=4)\n",
    "\n",
    "# Entrenar el modelo\n",
    "best_model = gsv.fit(X_train, y_train)\n",
    "\n",
    "# Predecir resultados\n",
    "svc_pred_mms = best_model.best_estimator_.predict(X_test)\n",
    "\n",
    "print(\"Mejor hiperparametro: \", gsv.best_params_['kernel'])\n",
    "print(\"Accuracy mas alto: \", best_model.score(X_test, y_test))"
   ]
  },
  {
   "cell_type": "markdown",
   "metadata": {},
   "source": [
    "### Evaluacion del modelo"
   ]
  },
  {
   "cell_type": "code",
   "execution_count": 27,
   "metadata": {},
   "outputs": [],
   "source": [
    "from sklearn import metrics\n",
    "from sklearn.metrics import plot_confusion_matrix\n",
    "from sklearn.metrics import confusion_matrix"
   ]
  },
  {
   "cell_type": "code",
   "execution_count": 28,
   "metadata": {},
   "outputs": [
    {
     "name": "stdout",
     "output_type": "stream",
     "text": [
      "Matriz de confusion: \n",
      " [[3545 1142]\n",
      " [1206 3453]]\n",
      "              precision    recall  f1-score   support\n",
      "\n",
      "           0       0.75      0.76      0.75      4687\n",
      "           1       0.75      0.74      0.75      4659\n",
      "\n",
      "    accuracy                           0.75      9346\n",
      "   macro avg       0.75      0.75      0.75      9346\n",
      "weighted avg       0.75      0.75      0.75      9346\n",
      "\n",
      "Accuracy: 0.7487695270704045 \n",
      "\n",
      "Recall/Sensitivity/True Positive Rate: 0.7411461687057308 \n",
      "\n",
      "Precision: 0.7514689880304679 \n",
      "\n"
     ]
    },
    {
     "data": {
      "image/png": "[encoded data removed]",
      "text/plain": [
       "<Figure size 432x288 with 2 Axes>"
      ]
     },
     "metadata": {
      "needs_background": "light"
     },
     "output_type": "display_data"
    }
   ],
   "source": [
    "plot_confusion_matrix(gsv, X_test, y_test)\n",
    "\n",
    "conf_metr = confusion_matrix(y_test, svc_pred_mms)\n",
    "\n",
    "print(\"Matriz de confusion: \\n {}\".format(conf_metr))\n",
    "print(metrics.classification_report(y_test, svc_pred_mms))\n",
    "print(\"Accuracy: {} \\n\".format(metrics.accuracy_score(y_test, svc_pred_mms)))\n",
    "print(\"Recall/Sensitivity/True Positive Rate: {} \\n\".format(metrics.recall_score(y_test, svc_pred_mms)))\n",
    "print(\"Precision: {} \\n\".format(metrics.precision_score(y_test, svc_pred_mms)))"
   ]
  },
  {
   "cell_type": "code",
   "execution_count": 29,
   "metadata": {},
   "outputs": [
    {
     "data": {
      "text/plain": [
       "<sklearn.metrics._plot.roc_curve.RocCurveDisplay at 0x2d5c14edcd0>"
      ]
     },
     "execution_count": 29,
     "metadata": {},
     "output_type": "execute_result"
    },
    {
     "data": {
      "image/png": "[encoded data removed]",
      "text/plain": [
       "<Figure size 432x288 with 1 Axes>"
      ]
     },
     "metadata": {
      "needs_background": "light"
     },
     "output_type": "display_data"
    }
   ],
   "source": [
    "# ROC Curve:\n",
    "metrics.plot_roc_curve(gsv, X_test, y_test)"
   ]
  },
  {
   "cell_type": "code",
   "execution_count": 30,
   "metadata": {},
   "outputs": [],
   "source": [
    "import pickle"
   ]
  },
  {
   "cell_type": "code",
   "execution_count": 31,
   "metadata": {},
   "outputs": [],
   "source": [
    "filename = 'finalized_model.sav'\n",
    "pickle.dump(best_model, open(filename, 'wb'))"
   ]
  },
  {
   "cell_type": "code",
   "execution_count": 32,
   "metadata": {},
   "outputs": [
    {
     "name": "stdout",
     "output_type": "stream",
     "text": [
      "0.7487695270704045\n"
     ]
    }
   ],
   "source": [
    "# some time later...\n",
    "# load the model from disk\n",
    "loaded_model = pickle.load(open(filename, 'rb'))\n",
    "result = loaded_model.score(X_test, y_test)\n",
    "print(result)"
   ]
  },
  {
   "cell_type": "markdown",
   "metadata": {},
   "source": [
    "Fuente de consulta: https://machinelearningmastery.com/save-load-machine-learning-models-python-scikit-learn/"
   ]
  },
  {
   "cell_type": "markdown",
   "metadata": {},
   "source": [
    "### Guardar el Escalador y modelo"
   ]
  },
  {
   "cell_type": "code",
   "execution_count": 33,
   "metadata": {},
   "outputs": [
    {
     "data": {
      "text/plain": [
       "['escalador_cc.pkl']"
      ]
     },
     "execution_count": 33,
     "metadata": {},
     "output_type": "execute_result"
    }
   ],
   "source": [
    "import joblib\n",
    "joblib.dump(scaler,'escalador_cc.pkl')"
   ]
  },
  {
   "cell_type": "code",
   "execution_count": 34,
   "metadata": {},
   "outputs": [
    {
     "data": {
      "text/plain": [
       "['modelo_final_cc.h5']"
      ]
     },
     "execution_count": 34,
     "metadata": {},
     "output_type": "execute_result"
    }
   ],
   "source": [
    "#best_model.save(\"modelo_final_cc.h5\")\n",
    "joblib.dump(best_model, 'modelo_final_cc.h5')"
   ]
  },
  {
   "cell_type": "markdown",
   "metadata": {},
   "source": [
    "## Proceso para predecir un pago nuevo"
   ]
  },
  {
   "cell_type": "code",
   "execution_count": 35,
   "metadata": {},
   "outputs": [],
   "source": [
    "from tensorflow.keras.models import load_model"
   ]
  },
  {
   "cell_type": "code",
   "execution_count": 36,
   "metadata": {},
   "outputs": [],
   "source": [
    "modelo_cc = joblib.load(\"modelo_final_cc.h5\")\n",
    "escalador_cc = joblib.load(\"escalador_cc.pkl\")"
   ]
  },
  {
   "cell_type": "code",
   "execution_count": 37,
   "metadata": {},
   "outputs": [
    {
     "data": {
      "text/html": [
       "<div>\n",
       "<style scoped>\n",
       "    .dataframe tbody tr th:only-of-type {\n",
       "        vertical-align: middle;\n",
       "    }\n",
       "\n",
       "    .dataframe tbody tr th {\n",
       "        vertical-align: top;\n",
       "    }\n",
       "\n",
       "    .dataframe thead th {\n",
       "        text-align: right;\n",
       "    }\n",
       "</style>\n",
       "<table border=\"1\" class=\"dataframe\">\n",
       "  <thead>\n",
       "    <tr style=\"text-align: right;\">\n",
       "      <th></th>\n",
       "      <th>limit_bal</th>\n",
       "      <th>education</th>\n",
       "      <th>age</th>\n",
       "      <th>pay_sep</th>\n",
       "      <th>pay_ago</th>\n",
       "      <th>pay_jul</th>\n",
       "      <th>pay_jun</th>\n",
       "      <th>pay_may</th>\n",
       "      <th>pay_apr</th>\n",
       "      <th>bill_amt_sep</th>\n",
       "      <th>...</th>\n",
       "      <th>pay_amt_ago</th>\n",
       "      <th>pay_amt_jul</th>\n",
       "      <th>pay_amt_jun</th>\n",
       "      <th>pay_amt_may</th>\n",
       "      <th>pay_amt_apr</th>\n",
       "      <th>payment_next_month</th>\n",
       "      <th>months_late</th>\n",
       "      <th>sex_1</th>\n",
       "      <th>marriage_1</th>\n",
       "      <th>marriage_2</th>\n",
       "    </tr>\n",
       "  </thead>\n",
       "  <tbody>\n",
       "    <tr>\n",
       "      <th>0</th>\n",
       "      <td>20000.0</td>\n",
       "      <td>2</td>\n",
       "      <td>24</td>\n",
       "      <td>2</td>\n",
       "      <td>2</td>\n",
       "      <td>0</td>\n",
       "      <td>0</td>\n",
       "      <td>0</td>\n",
       "      <td>0</td>\n",
       "      <td>3913.0</td>\n",
       "      <td>...</td>\n",
       "      <td>689.0</td>\n",
       "      <td>0.0</td>\n",
       "      <td>0.0</td>\n",
       "      <td>0.0</td>\n",
       "      <td>0.0</td>\n",
       "      <td>1</td>\n",
       "      <td>2</td>\n",
       "      <td>1</td>\n",
       "      <td>0</td>\n",
       "      <td>0</td>\n",
       "    </tr>\n",
       "    <tr>\n",
       "      <th>1</th>\n",
       "      <td>120000.0</td>\n",
       "      <td>2</td>\n",
       "      <td>26</td>\n",
       "      <td>0</td>\n",
       "      <td>2</td>\n",
       "      <td>0</td>\n",
       "      <td>0</td>\n",
       "      <td>0</td>\n",
       "      <td>2</td>\n",
       "      <td>2682.0</td>\n",
       "      <td>...</td>\n",
       "      <td>1000.0</td>\n",
       "      <td>1000.0</td>\n",
       "      <td>1000.0</td>\n",
       "      <td>0.0</td>\n",
       "      <td>2000.0</td>\n",
       "      <td>1</td>\n",
       "      <td>2</td>\n",
       "      <td>1</td>\n",
       "      <td>1</td>\n",
       "      <td>0</td>\n",
       "    </tr>\n",
       "    <tr>\n",
       "      <th>2</th>\n",
       "      <td>90000.0</td>\n",
       "      <td>2</td>\n",
       "      <td>34</td>\n",
       "      <td>0</td>\n",
       "      <td>0</td>\n",
       "      <td>0</td>\n",
       "      <td>0</td>\n",
       "      <td>0</td>\n",
       "      <td>0</td>\n",
       "      <td>29239.0</td>\n",
       "      <td>...</td>\n",
       "      <td>1500.0</td>\n",
       "      <td>1000.0</td>\n",
       "      <td>1000.0</td>\n",
       "      <td>1000.0</td>\n",
       "      <td>5000.0</td>\n",
       "      <td>0</td>\n",
       "      <td>0</td>\n",
       "      <td>1</td>\n",
       "      <td>1</td>\n",
       "      <td>0</td>\n",
       "    </tr>\n",
       "    <tr>\n",
       "      <th>3</th>\n",
       "      <td>50000.0</td>\n",
       "      <td>2</td>\n",
       "      <td>37</td>\n",
       "      <td>0</td>\n",
       "      <td>0</td>\n",
       "      <td>0</td>\n",
       "      <td>0</td>\n",
       "      <td>0</td>\n",
       "      <td>0</td>\n",
       "      <td>46990.0</td>\n",
       "      <td>...</td>\n",
       "      <td>2019.0</td>\n",
       "      <td>1200.0</td>\n",
       "      <td>1100.0</td>\n",
       "      <td>1069.0</td>\n",
       "      <td>1000.0</td>\n",
       "      <td>0</td>\n",
       "      <td>0</td>\n",
       "      <td>1</td>\n",
       "      <td>0</td>\n",
       "      <td>0</td>\n",
       "    </tr>\n",
       "    <tr>\n",
       "      <th>4</th>\n",
       "      <td>50000.0</td>\n",
       "      <td>2</td>\n",
       "      <td>57</td>\n",
       "      <td>0</td>\n",
       "      <td>0</td>\n",
       "      <td>0</td>\n",
       "      <td>0</td>\n",
       "      <td>0</td>\n",
       "      <td>0</td>\n",
       "      <td>8617.0</td>\n",
       "      <td>...</td>\n",
       "      <td>36681.0</td>\n",
       "      <td>10000.0</td>\n",
       "      <td>9000.0</td>\n",
       "      <td>689.0</td>\n",
       "      <td>679.0</td>\n",
       "      <td>0</td>\n",
       "      <td>0</td>\n",
       "      <td>0</td>\n",
       "      <td>0</td>\n",
       "      <td>0</td>\n",
       "    </tr>\n",
       "  </tbody>\n",
       "</table>\n",
       "<p>5 rows × 26 columns</p>\n",
       "</div>"
      ],
      "text/plain": [
       "   limit_bal  education  age  pay_sep  pay_ago  pay_jul  pay_jun  pay_may  \\\n",
       "0    20000.0          2   24        2        2        0        0        0   \n",
       "1   120000.0          2   26        0        2        0        0        0   \n",
       "2    90000.0          2   34        0        0        0        0        0   \n",
       "3    50000.0          2   37        0        0        0        0        0   \n",
       "4    50000.0          2   57        0        0        0        0        0   \n",
       "\n",
       "   pay_apr  bill_amt_sep  ...  pay_amt_ago  pay_amt_jul  pay_amt_jun  \\\n",
       "0        0        3913.0  ...        689.0          0.0          0.0   \n",
       "1        2        2682.0  ...       1000.0       1000.0       1000.0   \n",
       "2        0       29239.0  ...       1500.0       1000.0       1000.0   \n",
       "3        0       46990.0  ...       2019.0       1200.0       1100.0   \n",
       "4        0        8617.0  ...      36681.0      10000.0       9000.0   \n",
       "\n",
       "   pay_amt_may  pay_amt_apr  payment_next_month  months_late  sex_1  \\\n",
       "0          0.0          0.0                   1            2      1   \n",
       "1          0.0       2000.0                   1            2      1   \n",
       "2       1000.0       5000.0                   0            0      1   \n",
       "3       1069.0       1000.0                   0            0      1   \n",
       "4        689.0        679.0                   0            0      0   \n",
       "\n",
       "   marriage_1  marriage_2  \n",
       "0           0           0  \n",
       "1           1           0  \n",
       "2           1           0  \n",
       "3           0           0  \n",
       "4           0           0  \n",
       "\n",
       "[5 rows x 26 columns]"
      ]
     },
     "execution_count": 37,
     "metadata": {},
     "output_type": "execute_result"
    }
   ],
   "source": [
    "df.head()\n",
    "#df.to_csv(r'datafinalmodelo.csv', index = False, header=True)"
   ]
  },
  {
   "cell_type": "code",
   "execution_count": 38,
   "metadata": {},
   "outputs": [
    {
     "data": {
      "text/plain": [
       "Index(['limit_bal', 'education', 'age', 'pay_sep', 'pay_ago', 'pay_jul',\n",
       "       'pay_jun', 'pay_may', 'pay_apr', 'bill_amt_sep', 'bill_amt_ago',\n",
       "       'bill_amt_jul', 'bill_amt_jun', 'bill_amt_may', 'bill_amt_apr',\n",
       "       'pay_amt_sep', 'pay_amt_ago', 'pay_amt_jul', 'pay_amt_jun',\n",
       "       'pay_amt_may', 'pay_amt_apr', 'payment_next_month', 'months_late',\n",
       "       'sex_1', 'marriage_1', 'marriage_2'],\n",
       "      dtype='object')"
      ]
     },
     "execution_count": 38,
     "metadata": {},
     "output_type": "execute_result"
    }
   ],
   "source": [
    "df.columns\n",
    "#df['pay_ago_1'].value_counts()"
   ]
  },
  {
   "cell_type": "code",
   "execution_count": 47,
   "metadata": {},
   "outputs": [],
   "source": [
    "cliente_muestra = {'age':23,              \n",
    "                   'months_late':2,\n",
    "                   'pay_amt_may':35000,\n",
    "                   'pay_amt_jun':10000}"
   ]
  },
  {
   "cell_type": "code",
   "execution_count": 40,
   "metadata": {},
   "outputs": [
    {
     "data": {
      "text/plain": [
       "dict_keys(['age', 'months_late', 'pay_amt_may', 'pay_amt_jun'])"
      ]
     },
     "execution_count": 40,
     "metadata": {},
     "output_type": "execute_result"
    }
   ],
   "source": [
    "cliente_muestra.keys()"
   ]
  },
  {
   "cell_type": "code",
   "execution_count": 41,
   "metadata": {},
   "outputs": [
    {
     "data": {
      "text/plain": [
       "array([0, 1], dtype=int64)"
      ]
     },
     "execution_count": 41,
     "metadata": {},
     "output_type": "execute_result"
    }
   ],
   "source": [
    "from sklearn.preprocessing import LabelBinarizer\n",
    "codificador = LabelBinarizer()\n",
    "final_y = codificador.fit_transform(y)\n",
    "codificador.classes_"
   ]
  },
  {
   "cell_type": "code",
   "execution_count": 58,
   "metadata": {},
   "outputs": [],
   "source": [
    "def devuelve_prediccion(modelo, escalador, muestra_json):\n",
    "    \n",
    "    age = muestra_json['age']\n",
    "    months_late = muestra_json['months_late']\n",
    "    pay_amt_may = muestra_json['pay_amt_may']\n",
    "    pay_amt_jun = muestra_json['pay_amt_jun']\n",
    "    \n",
    "    cliente = [[age, months_late,\n",
    "             pay_amt_may, pay_amt_jun]]\n",
    "    \n",
    "    cliente = escalador.transform(cliente)\n",
    "    \n",
    "    clases = np.array([0,1])\n",
    "    \n",
    "    #clase_ind = modelo.predict_classes(flor)\n",
    "    clase_ind = np.argmax(modelo.predict(cliente), axis=-1)\n",
    "    \n",
    "    return clases[clase_ind][0]"
   ]
  },
  {
   "cell_type": "code",
   "execution_count": 59,
   "metadata": {},
   "outputs": [
    {
     "ename": "NameError",
     "evalue": "name 'modelo_rna' is not defined",
     "output_type": "error",
     "traceback": [
      "\u001b[1;31m---------------------------------------------------------------------------\u001b[0m",
      "\u001b[1;31mNameError\u001b[0m                                 Traceback (most recent call last)",
      "\u001b[1;32m<ipython-input-59-1ab8b56a626c>\u001b[0m in \u001b[0;36m<module>\u001b[1;34m\u001b[0m\n\u001b[1;32m----> 1\u001b[1;33m prediccion = devuelve_prediccion(modelo_rna,\n\u001b[0m\u001b[0;32m      2\u001b[0m                     \u001b[0mescalador_rna\u001b[0m\u001b[1;33m,\u001b[0m\u001b[1;33m\u001b[0m\u001b[1;33m\u001b[0m\u001b[0m\n\u001b[0;32m      3\u001b[0m                     cliente_muestra)\n\u001b[0;32m      4\u001b[0m \u001b[0mprediccion\u001b[0m\u001b[1;33m\u001b[0m\u001b[1;33m\u001b[0m\u001b[0m\n",
      "\u001b[1;31mNameError\u001b[0m: name 'modelo_rna' is not defined"
     ]
    }
   ],
   "source": [
    "prediccion = devuelve_prediccion(modelo_rna,\n",
    "                    escalador_rna,\n",
    "                    cliente_muestra)\n",
    "prediccion"
   ]
  },
  {
   "cell_type": "code",
   "execution_count": 57,
   "metadata": {},
   "outputs": [
    {
     "name": "stdout",
     "output_type": "stream",
     "text": [
      "No tendra incumplimiento de pago al mes siguiente \n"
     ]
    }
   ],
   "source": [
    "if(prediccion=='0'):\n",
    "    print('No tendra incumplimiento de pago al mes siguiente ')\n",
    "else:\n",
    "    print('Si tendra incumplimiento de pago al mes siguiente ')"
   ]
  },
  {
   "cell_type": "code",
   "execution_count": null,
   "metadata": {},
   "outputs": [],
   "source": []
  }
 ],
 "metadata": {
  "kernelspec": {
   "display_name": "Python 3",
   "language": "python",
   "name": "python3"
  },
  "language_info": {
   "codemirror_mode": {
    "name": "ipython",
    "version": 3
   },
   "file_extension": ".py",
   "mimetype": "text/x-python",
   "name": "python",
   "nbconvert_exporter": "python",
   "pygments_lexer": "ipython3",
   "version": "3.8.1"
  }
 },
 "nbformat": 4,
 "nbformat_minor": 5
}
