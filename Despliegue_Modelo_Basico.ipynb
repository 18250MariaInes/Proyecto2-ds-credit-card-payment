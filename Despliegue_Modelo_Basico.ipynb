{
 "cells": [
  {
   "cell_type": "markdown",
   "metadata": {},
   "source": [
    "# PROYECTO 2 - Credit Card Payment\n",
    "### Modelo RNA y preparacion para UI\n",
    "María Inés Vásquez Figueroa 18250\\\n",
    "Diana Ximena de León Figueroa 18607\\\n",
    "María José Castro Lemus 181202\\\n",
    "Paula Camila González Ortega"
   ]
  },
  {
   "cell_type": "code",
   "execution_count": 54,
   "metadata": {
    "tags": []
   },
   "outputs": [],
   "source": [
    "import numpy as np\n",
    "import pandas as pd\n",
    "import tensorflow as tf\n",
    "from tensorflow.random import set_seed\n",
    "from keras.models import Sequential\n",
    "from keras.layers import Dense, Activation, Dropout\n",
    "import matplotlib.pyplot as plt"
   ]
  },
  {
   "cell_type": "code",
   "execution_count": 5,
   "metadata": {},
   "outputs": [],
   "source": [
    "df = pd.read_csv(\"./datafinal.csv\")"
   ]
  },
  {
   "cell_type": "code",
   "execution_count": 6,
   "metadata": {},
   "outputs": [
    {
     "data": {
      "text/html": [
       "<div>\n",
       "<style scoped>\n",
       "    .dataframe tbody tr th:only-of-type {\n",
       "        vertical-align: middle;\n",
       "    }\n",
       "\n",
       "    .dataframe tbody tr th {\n",
       "        vertical-align: top;\n",
       "    }\n",
       "\n",
       "    .dataframe thead th {\n",
       "        text-align: right;\n",
       "    }\n",
       "</style>\n",
       "<table border=\"1\" class=\"dataframe\">\n",
       "  <thead>\n",
       "    <tr style=\"text-align: right;\">\n",
       "      <th></th>\n",
       "      <th>id</th>\n",
       "      <th>limit_bal</th>\n",
       "      <th>sex</th>\n",
       "      <th>education</th>\n",
       "      <th>marriage</th>\n",
       "      <th>age</th>\n",
       "      <th>pay_sep</th>\n",
       "      <th>pay_ago</th>\n",
       "      <th>pay_jul</th>\n",
       "      <th>pay_jun</th>\n",
       "      <th>...</th>\n",
       "      <th>bill_amt_may</th>\n",
       "      <th>bill_amt_apr</th>\n",
       "      <th>pay_amt_sep</th>\n",
       "      <th>pay_amt_ago</th>\n",
       "      <th>pay_amt_jul</th>\n",
       "      <th>pay_amt_jun</th>\n",
       "      <th>pay_amt_may</th>\n",
       "      <th>pay_amt_apr</th>\n",
       "      <th>payment_next_month</th>\n",
       "      <th>months_late</th>\n",
       "    </tr>\n",
       "  </thead>\n",
       "  <tbody>\n",
       "    <tr>\n",
       "      <th>0</th>\n",
       "      <td>1</td>\n",
       "      <td>20000.0</td>\n",
       "      <td>1</td>\n",
       "      <td>2</td>\n",
       "      <td>0</td>\n",
       "      <td>24</td>\n",
       "      <td>2</td>\n",
       "      <td>2</td>\n",
       "      <td>0</td>\n",
       "      <td>0</td>\n",
       "      <td>...</td>\n",
       "      <td>0.0</td>\n",
       "      <td>0.0</td>\n",
       "      <td>0.0</td>\n",
       "      <td>689.0</td>\n",
       "      <td>0.0</td>\n",
       "      <td>0.0</td>\n",
       "      <td>0.0</td>\n",
       "      <td>0.0</td>\n",
       "      <td>1</td>\n",
       "      <td>2</td>\n",
       "    </tr>\n",
       "    <tr>\n",
       "      <th>1</th>\n",
       "      <td>2</td>\n",
       "      <td>120000.0</td>\n",
       "      <td>1</td>\n",
       "      <td>2</td>\n",
       "      <td>1</td>\n",
       "      <td>26</td>\n",
       "      <td>0</td>\n",
       "      <td>2</td>\n",
       "      <td>0</td>\n",
       "      <td>0</td>\n",
       "      <td>...</td>\n",
       "      <td>3455.0</td>\n",
       "      <td>3261.0</td>\n",
       "      <td>0.0</td>\n",
       "      <td>1000.0</td>\n",
       "      <td>1000.0</td>\n",
       "      <td>1000.0</td>\n",
       "      <td>0.0</td>\n",
       "      <td>2000.0</td>\n",
       "      <td>1</td>\n",
       "      <td>2</td>\n",
       "    </tr>\n",
       "    <tr>\n",
       "      <th>2</th>\n",
       "      <td>3</td>\n",
       "      <td>90000.0</td>\n",
       "      <td>1</td>\n",
       "      <td>2</td>\n",
       "      <td>1</td>\n",
       "      <td>34</td>\n",
       "      <td>0</td>\n",
       "      <td>0</td>\n",
       "      <td>0</td>\n",
       "      <td>0</td>\n",
       "      <td>...</td>\n",
       "      <td>14948.0</td>\n",
       "      <td>15549.0</td>\n",
       "      <td>1518.0</td>\n",
       "      <td>1500.0</td>\n",
       "      <td>1000.0</td>\n",
       "      <td>1000.0</td>\n",
       "      <td>1000.0</td>\n",
       "      <td>5000.0</td>\n",
       "      <td>0</td>\n",
       "      <td>0</td>\n",
       "    </tr>\n",
       "    <tr>\n",
       "      <th>3</th>\n",
       "      <td>4</td>\n",
       "      <td>50000.0</td>\n",
       "      <td>1</td>\n",
       "      <td>2</td>\n",
       "      <td>0</td>\n",
       "      <td>37</td>\n",
       "      <td>0</td>\n",
       "      <td>0</td>\n",
       "      <td>0</td>\n",
       "      <td>0</td>\n",
       "      <td>...</td>\n",
       "      <td>28959.0</td>\n",
       "      <td>29547.0</td>\n",
       "      <td>2000.0</td>\n",
       "      <td>2019.0</td>\n",
       "      <td>1200.0</td>\n",
       "      <td>1100.0</td>\n",
       "      <td>1069.0</td>\n",
       "      <td>1000.0</td>\n",
       "      <td>0</td>\n",
       "      <td>0</td>\n",
       "    </tr>\n",
       "    <tr>\n",
       "      <th>4</th>\n",
       "      <td>5</td>\n",
       "      <td>50000.0</td>\n",
       "      <td>0</td>\n",
       "      <td>2</td>\n",
       "      <td>0</td>\n",
       "      <td>57</td>\n",
       "      <td>0</td>\n",
       "      <td>0</td>\n",
       "      <td>0</td>\n",
       "      <td>0</td>\n",
       "      <td>...</td>\n",
       "      <td>19146.0</td>\n",
       "      <td>19131.0</td>\n",
       "      <td>2000.0</td>\n",
       "      <td>36681.0</td>\n",
       "      <td>10000.0</td>\n",
       "      <td>9000.0</td>\n",
       "      <td>689.0</td>\n",
       "      <td>679.0</td>\n",
       "      <td>0</td>\n",
       "      <td>0</td>\n",
       "    </tr>\n",
       "  </tbody>\n",
       "</table>\n",
       "<p>5 rows × 26 columns</p>\n",
       "</div>"
      ],
      "text/plain": [
       "   id  limit_bal  sex  education  marriage  age  pay_sep  pay_ago  pay_jul  \\\n",
       "0   1    20000.0    1          2         0   24        2        2        0   \n",
       "1   2   120000.0    1          2         1   26        0        2        0   \n",
       "2   3    90000.0    1          2         1   34        0        0        0   \n",
       "3   4    50000.0    1          2         0   37        0        0        0   \n",
       "4   5    50000.0    0          2         0   57        0        0        0   \n",
       "\n",
       "   pay_jun  ...  bill_amt_may  bill_amt_apr  pay_amt_sep  pay_amt_ago  \\\n",
       "0        0  ...           0.0           0.0          0.0        689.0   \n",
       "1        0  ...        3455.0        3261.0          0.0       1000.0   \n",
       "2        0  ...       14948.0       15549.0       1518.0       1500.0   \n",
       "3        0  ...       28959.0       29547.0       2000.0       2019.0   \n",
       "4        0  ...       19146.0       19131.0       2000.0      36681.0   \n",
       "\n",
       "   pay_amt_jul  pay_amt_jun  pay_amt_may  pay_amt_apr  payment_next_month  \\\n",
       "0          0.0          0.0          0.0          0.0                   1   \n",
       "1       1000.0       1000.0          0.0       2000.0                   1   \n",
       "2       1000.0       1000.0       1000.0       5000.0                   0   \n",
       "3       1200.0       1100.0       1069.0       1000.0                   0   \n",
       "4      10000.0       9000.0        689.0        679.0                   0   \n",
       "\n",
       "   months_late  \n",
       "0            2  \n",
       "1            2  \n",
       "2            0  \n",
       "3            0  \n",
       "4            0  \n",
       "\n",
       "[5 rows x 26 columns]"
      ]
     },
     "execution_count": 6,
     "metadata": {},
     "output_type": "execute_result"
    }
   ],
   "source": [
    "df.head()"
   ]
  },
  {
   "cell_type": "markdown",
   "metadata": {},
   "source": [
    "## Procesamiento de Datos"
   ]
  },
  {
   "cell_type": "code",
   "execution_count": 7,
   "metadata": {},
   "outputs": [
    {
     "data": {
      "text/plain": [
       "Index(['id', 'limit_bal', 'education', 'age', 'pay_sep', 'pay_ago', 'pay_jul',\n",
       "       'pay_jun', 'pay_may', 'pay_apr', 'bill_amt_sep', 'bill_amt_ago',\n",
       "       'bill_amt_jul', 'bill_amt_jun', 'bill_amt_may', 'bill_amt_apr',\n",
       "       'pay_amt_sep', 'pay_amt_ago', 'pay_amt_jul', 'pay_amt_jun',\n",
       "       'pay_amt_may', 'pay_amt_apr', 'payment_next_month', 'months_late',\n",
       "       'sex_1', 'marriage_1', 'marriage_2'],\n",
       "      dtype='object')"
      ]
     },
     "execution_count": 7,
     "metadata": {},
     "output_type": "execute_result"
    }
   ],
   "source": [
    "var_dummies = ['sex', 'marriage']\n",
    "\n",
    "for i in var_dummies:\n",
    "    # convertir a variables dummies\n",
    "    value_dummies = pd.get_dummies(df[i], prefix=i, drop_first=True)\n",
    "    df = pd.concat([df.drop(i, axis=1), value_dummies], axis=1)\n",
    "\n",
    "df.columns"
   ]
  },
  {
   "cell_type": "markdown",
   "metadata": {},
   "source": [
    "### Características \"Features\" y Meta \"Target\""
   ]
  },
  {
   "cell_type": "code",
   "execution_count": 72,
   "metadata": {},
   "outputs": [],
   "source": [
    "X = df.drop(['id','limit_bal', 'sex_1', 'bill_amt_sep', 'bill_amt_ago',\n",
    "       'bill_amt_jul', 'bill_amt_jun', 'bill_amt_may', 'bill_amt_apr',\n",
    "       'pay_amt_sep', 'pay_amt_ago', 'pay_amt_jul', 'pay_amt_apr', 'payment_next_month', 'education',\n",
    "       'marriage_1', 'marriage_2', 'pay_sep', 'pay_ago', 'pay_jul','pay_jun', 'pay_may', 'pay_apr'],axis = 1)\n",
    "y = df['payment_next_month']"
   ]
  },
  {
   "cell_type": "markdown",
   "metadata": {},
   "source": [
    "### División Train/Test"
   ]
  },
  {
   "cell_type": "code",
   "execution_count": 73,
   "metadata": {
    "tags": []
   },
   "outputs": [],
   "source": [
    "from sklearn.preprocessing import LabelBinarizer\n",
    "codificador = LabelBinarizer()\n",
    "y = codificador.fit_transform(y)"
   ]
  },
  {
   "cell_type": "code",
   "execution_count": 74,
   "metadata": {},
   "outputs": [],
   "source": [
    "from sklearn.model_selection import train_test_split"
   ]
  },
  {
   "cell_type": "code",
   "execution_count": 75,
   "metadata": {},
   "outputs": [],
   "source": [
    "# dividir en entrenamiento y testing\n",
    "X_train, X_test, y_train, y_test = train_test_split(X,y,test_size = 0.2,random_state = 101)"
   ]
  },
  {
   "cell_type": "markdown",
   "metadata": {},
   "source": [
    "### Normalización de los datos"
   ]
  },
  {
   "cell_type": "code",
   "execution_count": 77,
   "metadata": {},
   "outputs": [],
   "source": [
    "from sklearn.preprocessing import MinMaxScaler\n",
    "scaler = MinMaxScaler()"
   ]
  },
  {
   "cell_type": "code",
   "execution_count": 78,
   "metadata": {},
   "outputs": [
    {
     "data": {
      "text/plain": [
       "MinMaxScaler()"
      ]
     },
     "execution_count": 78,
     "metadata": {},
     "output_type": "execute_result"
    }
   ],
   "source": [
    "scaler.fit(X_train)"
   ]
  },
  {
   "cell_type": "code",
   "execution_count": 79,
   "metadata": {},
   "outputs": [],
   "source": [
    "X_train = scaler.transform(X_train)"
   ]
  },
  {
   "cell_type": "code",
   "execution_count": 80,
   "metadata": {},
   "outputs": [],
   "source": [
    "X_test = scaler.transform(X_test)"
   ]
  },
  {
   "cell_type": "markdown",
   "metadata": {
    "tags": []
   },
   "source": [
    "# Modelo"
   ]
  },
  {
   "cell_type": "code",
   "execution_count": 81,
   "metadata": {},
   "outputs": [],
   "source": [
    "from tensorflow.keras.models import Sequential\n",
    "from tensorflow.keras.layers import Dense"
   ]
  },
  {
   "cell_type": "markdown",
   "metadata": {},
   "source": [
    "**se crea el modelo**"
   ]
  },
  {
   "cell_type": "code",
   "execution_count": 99,
   "metadata": {},
   "outputs": [],
   "source": [
    "'''modelo = Sequential()\n",
    "modelo.add(Dense(units = 6,\n",
    "                 activation = 'relu',\n",
    "                 input_shape = [5,]))\n",
    "\n",
    "# Ultima capa para clasificación multi-clase              \n",
    "#    de las tres especies\n",
    "modelo.add(Dense(units = 8,\n",
    "                 activation = 'softmax'))\n",
    "\n",
    "modelo.compile(optimizer = 'adam',\n",
    "              loss = 'categorical_crossentropy',metrics=['accuracy'])'''\n",
    "def create_model(lyrs=[8], act='linear', opt='Adam', dr=0.0):\n",
    "    \n",
    "    # set random seed for reproducibility\n",
    "    seed(42)\n",
    "    tf.random.set_seed(42)\n",
    "    \n",
    "    model = Sequential()\n",
    "    \n",
    "    # create first hidden layer\n",
    "    model.add(Dense(lyrs[0], input_dim=X_train.shape[1], activation=act))\n",
    "    \n",
    "    # create additional hidden layers\n",
    "    for i in range(1,len(lyrs)):\n",
    "        model.add(Dense(lyrs[i], activation=act))\n",
    "    \n",
    "    # add dropout, default is none\n",
    "    model.add(Dropout(dr))\n",
    "    \n",
    "    # create output layer\n",
    "    model.add(Dense(1, activation='sigmoid'))  # output layer\n",
    "    \n",
    "    model.compile(loss='binary_crossentropy', optimizer=opt, metrics=['accuracy'])\n",
    "    \n",
    "    return model"
   ]
  },
  {
   "cell_type": "code",
   "execution_count": 83,
   "metadata": {},
   "outputs": [
    {
     "name": "stdout",
     "output_type": "stream",
     "text": [
      "Model: \"sequential_10\"\n",
      "_________________________________________________________________\n",
      "Layer (type)                 Output Shape              Param #   \n",
      "=================================================================\n",
      "dense_19 (Dense)             (None, 8)                 40        \n",
      "_________________________________________________________________\n",
      "dropout_1 (Dropout)          (None, 8)                 0         \n",
      "_________________________________________________________________\n",
      "dense_20 (Dense)             (None, 1)                 9         \n",
      "=================================================================\n",
      "Total params: 49\n",
      "Trainable params: 49\n",
      "Non-trainable params: 0\n",
      "_________________________________________________________________\n",
      "None\n"
     ]
    }
   ],
   "source": [
    "modelo = create_model()\n",
    "print(modelo.summary())"
   ]
  },
  {
   "cell_type": "markdown",
   "metadata": {},
   "source": [
    "## Entrenamiento del Modelo"
   ]
  },
  {
   "cell_type": "code",
   "execution_count": 84,
   "metadata": {},
   "outputs": [],
   "source": [
    "from tensorflow.keras.callbacks import EarlyStopping"
   ]
  },
  {
   "cell_type": "code",
   "execution_count": 85,
   "metadata": {},
   "outputs": [
    {
     "name": "stdout",
     "output_type": "stream",
     "text": [
      "\n",
      "val_accuracy: 78.47%\n"
     ]
    }
   ],
   "source": [
    "# train model on full train set, with 80/20 CV split\n",
    "training = modelo.fit(X_train, y_train, epochs=50, batch_size=32, validation_split=0.2, verbose=0)\n",
    "val_acc = np.mean(training.history['val_accuracy'])\n",
    "print(\"\\n%s: %.2f%%\" % ('val_accuracy', val_acc*100))"
   ]
  },
  {
   "cell_type": "code",
   "execution_count": 86,
   "metadata": {},
   "outputs": [
    {
     "data": {
      "text/plain": [
       "dict_keys(['loss', 'accuracy', 'val_loss', 'val_accuracy'])"
      ]
     },
     "execution_count": 86,
     "metadata": {},
     "output_type": "execute_result"
    }
   ],
   "source": [
    "training.history.keys()"
   ]
  },
  {
   "cell_type": "markdown",
   "metadata": {},
   "source": [
    "## Evaluación del Modelo"
   ]
  },
  {
   "cell_type": "code",
   "execution_count": 87,
   "metadata": {},
   "outputs": [],
   "source": [
    "metricas = pd.DataFrame(modelo.history.history)"
   ]
  },
  {
   "cell_type": "code",
   "execution_count": 88,
   "metadata": {},
   "outputs": [
    {
     "data": {
      "text/html": [
       "<div>\n",
       "<style scoped>\n",
       "    .dataframe tbody tr th:only-of-type {\n",
       "        vertical-align: middle;\n",
       "    }\n",
       "\n",
       "    .dataframe tbody tr th {\n",
       "        vertical-align: top;\n",
       "    }\n",
       "\n",
       "    .dataframe thead th {\n",
       "        text-align: right;\n",
       "    }\n",
       "</style>\n",
       "<table border=\"1\" class=\"dataframe\">\n",
       "  <thead>\n",
       "    <tr style=\"text-align: right;\">\n",
       "      <th></th>\n",
       "      <th>loss</th>\n",
       "      <th>accuracy</th>\n",
       "      <th>val_loss</th>\n",
       "      <th>val_accuracy</th>\n",
       "    </tr>\n",
       "  </thead>\n",
       "  <tbody>\n",
       "    <tr>\n",
       "      <th>0</th>\n",
       "      <td>0.529279</td>\n",
       "      <td>0.765833</td>\n",
       "      <td>0.485314</td>\n",
       "      <td>0.776458</td>\n",
       "    </tr>\n",
       "    <tr>\n",
       "      <th>1</th>\n",
       "      <td>0.469831</td>\n",
       "      <td>0.786979</td>\n",
       "      <td>0.471472</td>\n",
       "      <td>0.784583</td>\n",
       "    </tr>\n",
       "    <tr>\n",
       "      <th>2</th>\n",
       "      <td>0.464242</td>\n",
       "      <td>0.789688</td>\n",
       "      <td>0.470989</td>\n",
       "      <td>0.784792</td>\n",
       "    </tr>\n",
       "    <tr>\n",
       "      <th>3</th>\n",
       "      <td>0.464058</td>\n",
       "      <td>0.789635</td>\n",
       "      <td>0.468923</td>\n",
       "      <td>0.785000</td>\n",
       "    </tr>\n",
       "    <tr>\n",
       "      <th>4</th>\n",
       "      <td>0.463795</td>\n",
       "      <td>0.789635</td>\n",
       "      <td>0.468671</td>\n",
       "      <td>0.785000</td>\n",
       "    </tr>\n",
       "    <tr>\n",
       "      <th>5</th>\n",
       "      <td>0.463810</td>\n",
       "      <td>0.789635</td>\n",
       "      <td>0.468552</td>\n",
       "      <td>0.785000</td>\n",
       "    </tr>\n",
       "    <tr>\n",
       "      <th>6</th>\n",
       "      <td>0.463815</td>\n",
       "      <td>0.789635</td>\n",
       "      <td>0.468528</td>\n",
       "      <td>0.785000</td>\n",
       "    </tr>\n",
       "    <tr>\n",
       "      <th>7</th>\n",
       "      <td>0.463781</td>\n",
       "      <td>0.789635</td>\n",
       "      <td>0.469418</td>\n",
       "      <td>0.784792</td>\n",
       "    </tr>\n",
       "    <tr>\n",
       "      <th>8</th>\n",
       "      <td>0.463740</td>\n",
       "      <td>0.789635</td>\n",
       "      <td>0.468807</td>\n",
       "      <td>0.784792</td>\n",
       "    </tr>\n",
       "    <tr>\n",
       "      <th>9</th>\n",
       "      <td>0.463885</td>\n",
       "      <td>0.789635</td>\n",
       "      <td>0.468563</td>\n",
       "      <td>0.784792</td>\n",
       "    </tr>\n",
       "    <tr>\n",
       "      <th>10</th>\n",
       "      <td>0.463798</td>\n",
       "      <td>0.789635</td>\n",
       "      <td>0.468594</td>\n",
       "      <td>0.784792</td>\n",
       "    </tr>\n",
       "    <tr>\n",
       "      <th>11</th>\n",
       "      <td>0.463855</td>\n",
       "      <td>0.789688</td>\n",
       "      <td>0.468511</td>\n",
       "      <td>0.784792</td>\n",
       "    </tr>\n",
       "    <tr>\n",
       "      <th>12</th>\n",
       "      <td>0.463851</td>\n",
       "      <td>0.789635</td>\n",
       "      <td>0.468494</td>\n",
       "      <td>0.784792</td>\n",
       "    </tr>\n",
       "    <tr>\n",
       "      <th>13</th>\n",
       "      <td>0.463713</td>\n",
       "      <td>0.789635</td>\n",
       "      <td>0.468464</td>\n",
       "      <td>0.784792</td>\n",
       "    </tr>\n",
       "    <tr>\n",
       "      <th>14</th>\n",
       "      <td>0.463679</td>\n",
       "      <td>0.789635</td>\n",
       "      <td>0.468767</td>\n",
       "      <td>0.785000</td>\n",
       "    </tr>\n",
       "    <tr>\n",
       "      <th>15</th>\n",
       "      <td>0.463810</td>\n",
       "      <td>0.789635</td>\n",
       "      <td>0.468725</td>\n",
       "      <td>0.784792</td>\n",
       "    </tr>\n",
       "    <tr>\n",
       "      <th>16</th>\n",
       "      <td>0.463733</td>\n",
       "      <td>0.789635</td>\n",
       "      <td>0.468598</td>\n",
       "      <td>0.784792</td>\n",
       "    </tr>\n",
       "    <tr>\n",
       "      <th>17</th>\n",
       "      <td>0.463906</td>\n",
       "      <td>0.789635</td>\n",
       "      <td>0.468607</td>\n",
       "      <td>0.784792</td>\n",
       "    </tr>\n",
       "    <tr>\n",
       "      <th>18</th>\n",
       "      <td>0.463807</td>\n",
       "      <td>0.789688</td>\n",
       "      <td>0.468531</td>\n",
       "      <td>0.784792</td>\n",
       "    </tr>\n",
       "    <tr>\n",
       "      <th>19</th>\n",
       "      <td>0.463754</td>\n",
       "      <td>0.789635</td>\n",
       "      <td>0.468963</td>\n",
       "      <td>0.784792</td>\n",
       "    </tr>\n",
       "    <tr>\n",
       "      <th>20</th>\n",
       "      <td>0.463684</td>\n",
       "      <td>0.789635</td>\n",
       "      <td>0.468583</td>\n",
       "      <td>0.784792</td>\n",
       "    </tr>\n",
       "    <tr>\n",
       "      <th>21</th>\n",
       "      <td>0.463732</td>\n",
       "      <td>0.789688</td>\n",
       "      <td>0.468668</td>\n",
       "      <td>0.785000</td>\n",
       "    </tr>\n",
       "    <tr>\n",
       "      <th>22</th>\n",
       "      <td>0.463778</td>\n",
       "      <td>0.789688</td>\n",
       "      <td>0.468549</td>\n",
       "      <td>0.784792</td>\n",
       "    </tr>\n",
       "    <tr>\n",
       "      <th>23</th>\n",
       "      <td>0.463743</td>\n",
       "      <td>0.789688</td>\n",
       "      <td>0.468652</td>\n",
       "      <td>0.785000</td>\n",
       "    </tr>\n",
       "    <tr>\n",
       "      <th>24</th>\n",
       "      <td>0.463898</td>\n",
       "      <td>0.789583</td>\n",
       "      <td>0.468595</td>\n",
       "      <td>0.784792</td>\n",
       "    </tr>\n",
       "    <tr>\n",
       "      <th>25</th>\n",
       "      <td>0.463641</td>\n",
       "      <td>0.789635</td>\n",
       "      <td>0.469554</td>\n",
       "      <td>0.784792</td>\n",
       "    </tr>\n",
       "    <tr>\n",
       "      <th>26</th>\n",
       "      <td>0.463807</td>\n",
       "      <td>0.789688</td>\n",
       "      <td>0.468428</td>\n",
       "      <td>0.784792</td>\n",
       "    </tr>\n",
       "    <tr>\n",
       "      <th>27</th>\n",
       "      <td>0.463808</td>\n",
       "      <td>0.789635</td>\n",
       "      <td>0.468561</td>\n",
       "      <td>0.784792</td>\n",
       "    </tr>\n",
       "    <tr>\n",
       "      <th>28</th>\n",
       "      <td>0.463672</td>\n",
       "      <td>0.789635</td>\n",
       "      <td>0.469102</td>\n",
       "      <td>0.784792</td>\n",
       "    </tr>\n",
       "    <tr>\n",
       "      <th>29</th>\n",
       "      <td>0.463810</td>\n",
       "      <td>0.789688</td>\n",
       "      <td>0.468813</td>\n",
       "      <td>0.784792</td>\n",
       "    </tr>\n",
       "    <tr>\n",
       "      <th>30</th>\n",
       "      <td>0.463790</td>\n",
       "      <td>0.789688</td>\n",
       "      <td>0.468542</td>\n",
       "      <td>0.784792</td>\n",
       "    </tr>\n",
       "    <tr>\n",
       "      <th>31</th>\n",
       "      <td>0.463885</td>\n",
       "      <td>0.789635</td>\n",
       "      <td>0.468550</td>\n",
       "      <td>0.784792</td>\n",
       "    </tr>\n",
       "    <tr>\n",
       "      <th>32</th>\n",
       "      <td>0.463854</td>\n",
       "      <td>0.789635</td>\n",
       "      <td>0.468483</td>\n",
       "      <td>0.784792</td>\n",
       "    </tr>\n",
       "    <tr>\n",
       "      <th>33</th>\n",
       "      <td>0.463772</td>\n",
       "      <td>0.789688</td>\n",
       "      <td>0.468489</td>\n",
       "      <td>0.784792</td>\n",
       "    </tr>\n",
       "    <tr>\n",
       "      <th>34</th>\n",
       "      <td>0.463719</td>\n",
       "      <td>0.789635</td>\n",
       "      <td>0.468396</td>\n",
       "      <td>0.784792</td>\n",
       "    </tr>\n",
       "    <tr>\n",
       "      <th>35</th>\n",
       "      <td>0.463810</td>\n",
       "      <td>0.789635</td>\n",
       "      <td>0.468420</td>\n",
       "      <td>0.784792</td>\n",
       "    </tr>\n",
       "    <tr>\n",
       "      <th>36</th>\n",
       "      <td>0.463717</td>\n",
       "      <td>0.789635</td>\n",
       "      <td>0.468498</td>\n",
       "      <td>0.784792</td>\n",
       "    </tr>\n",
       "    <tr>\n",
       "      <th>37</th>\n",
       "      <td>0.463791</td>\n",
       "      <td>0.789688</td>\n",
       "      <td>0.469089</td>\n",
       "      <td>0.784792</td>\n",
       "    </tr>\n",
       "    <tr>\n",
       "      <th>38</th>\n",
       "      <td>0.463805</td>\n",
       "      <td>0.789635</td>\n",
       "      <td>0.469080</td>\n",
       "      <td>0.784792</td>\n",
       "    </tr>\n",
       "    <tr>\n",
       "      <th>39</th>\n",
       "      <td>0.463760</td>\n",
       "      <td>0.789688</td>\n",
       "      <td>0.468595</td>\n",
       "      <td>0.785000</td>\n",
       "    </tr>\n",
       "    <tr>\n",
       "      <th>40</th>\n",
       "      <td>0.463730</td>\n",
       "      <td>0.789688</td>\n",
       "      <td>0.468948</td>\n",
       "      <td>0.784792</td>\n",
       "    </tr>\n",
       "    <tr>\n",
       "      <th>41</th>\n",
       "      <td>0.463704</td>\n",
       "      <td>0.789688</td>\n",
       "      <td>0.469215</td>\n",
       "      <td>0.784792</td>\n",
       "    </tr>\n",
       "    <tr>\n",
       "      <th>42</th>\n",
       "      <td>0.463797</td>\n",
       "      <td>0.789688</td>\n",
       "      <td>0.468495</td>\n",
       "      <td>0.784792</td>\n",
       "    </tr>\n",
       "    <tr>\n",
       "      <th>43</th>\n",
       "      <td>0.463572</td>\n",
       "      <td>0.789740</td>\n",
       "      <td>0.469021</td>\n",
       "      <td>0.785417</td>\n",
       "    </tr>\n",
       "    <tr>\n",
       "      <th>44</th>\n",
       "      <td>0.463765</td>\n",
       "      <td>0.789688</td>\n",
       "      <td>0.468682</td>\n",
       "      <td>0.784792</td>\n",
       "    </tr>\n",
       "    <tr>\n",
       "      <th>45</th>\n",
       "      <td>0.463606</td>\n",
       "      <td>0.789688</td>\n",
       "      <td>0.468505</td>\n",
       "      <td>0.784792</td>\n",
       "    </tr>\n",
       "    <tr>\n",
       "      <th>46</th>\n",
       "      <td>0.463763</td>\n",
       "      <td>0.789635</td>\n",
       "      <td>0.469291</td>\n",
       "      <td>0.784792</td>\n",
       "    </tr>\n",
       "    <tr>\n",
       "      <th>47</th>\n",
       "      <td>0.463797</td>\n",
       "      <td>0.789635</td>\n",
       "      <td>0.469630</td>\n",
       "      <td>0.784792</td>\n",
       "    </tr>\n",
       "    <tr>\n",
       "      <th>48</th>\n",
       "      <td>0.463760</td>\n",
       "      <td>0.789635</td>\n",
       "      <td>0.468635</td>\n",
       "      <td>0.784792</td>\n",
       "    </tr>\n",
       "    <tr>\n",
       "      <th>49</th>\n",
       "      <td>0.463746</td>\n",
       "      <td>0.789635</td>\n",
       "      <td>0.468592</td>\n",
       "      <td>0.784792</td>\n",
       "    </tr>\n",
       "  </tbody>\n",
       "</table>\n",
       "</div>"
      ],
      "text/plain": [
       "        loss  accuracy  val_loss  val_accuracy\n",
       "0   0.529279  0.765833  0.485314      0.776458\n",
       "1   0.469831  0.786979  0.471472      0.784583\n",
       "2   0.464242  0.789688  0.470989      0.784792\n",
       "3   0.464058  0.789635  0.468923      0.785000\n",
       "4   0.463795  0.789635  0.468671      0.785000\n",
       "5   0.463810  0.789635  0.468552      0.785000\n",
       "6   0.463815  0.789635  0.468528      0.785000\n",
       "7   0.463781  0.789635  0.469418      0.784792\n",
       "8   0.463740  0.789635  0.468807      0.784792\n",
       "9   0.463885  0.789635  0.468563      0.784792\n",
       "10  0.463798  0.789635  0.468594      0.784792\n",
       "11  0.463855  0.789688  0.468511      0.784792\n",
       "12  0.463851  0.789635  0.468494      0.784792\n",
       "13  0.463713  0.789635  0.468464      0.784792\n",
       "14  0.463679  0.789635  0.468767      0.785000\n",
       "15  0.463810  0.789635  0.468725      0.784792\n",
       "16  0.463733  0.789635  0.468598      0.784792\n",
       "17  0.463906  0.789635  0.468607      0.784792\n",
       "18  0.463807  0.789688  0.468531      0.784792\n",
       "19  0.463754  0.789635  0.468963      0.784792\n",
       "20  0.463684  0.789635  0.468583      0.784792\n",
       "21  0.463732  0.789688  0.468668      0.785000\n",
       "22  0.463778  0.789688  0.468549      0.784792\n",
       "23  0.463743  0.789688  0.468652      0.785000\n",
       "24  0.463898  0.789583  0.468595      0.784792\n",
       "25  0.463641  0.789635  0.469554      0.784792\n",
       "26  0.463807  0.789688  0.468428      0.784792\n",
       "27  0.463808  0.789635  0.468561      0.784792\n",
       "28  0.463672  0.789635  0.469102      0.784792\n",
       "29  0.463810  0.789688  0.468813      0.784792\n",
       "30  0.463790  0.789688  0.468542      0.784792\n",
       "31  0.463885  0.789635  0.468550      0.784792\n",
       "32  0.463854  0.789635  0.468483      0.784792\n",
       "33  0.463772  0.789688  0.468489      0.784792\n",
       "34  0.463719  0.789635  0.468396      0.784792\n",
       "35  0.463810  0.789635  0.468420      0.784792\n",
       "36  0.463717  0.789635  0.468498      0.784792\n",
       "37  0.463791  0.789688  0.469089      0.784792\n",
       "38  0.463805  0.789635  0.469080      0.784792\n",
       "39  0.463760  0.789688  0.468595      0.785000\n",
       "40  0.463730  0.789688  0.468948      0.784792\n",
       "41  0.463704  0.789688  0.469215      0.784792\n",
       "42  0.463797  0.789688  0.468495      0.784792\n",
       "43  0.463572  0.789740  0.469021      0.785417\n",
       "44  0.463765  0.789688  0.468682      0.784792\n",
       "45  0.463606  0.789688  0.468505      0.784792\n",
       "46  0.463763  0.789635  0.469291      0.784792\n",
       "47  0.463797  0.789635  0.469630      0.784792\n",
       "48  0.463760  0.789635  0.468635      0.784792\n",
       "49  0.463746  0.789635  0.468592      0.784792"
      ]
     },
     "execution_count": 88,
     "metadata": {},
     "output_type": "execute_result"
    }
   ],
   "source": [
    "metricas"
   ]
  },
  {
   "cell_type": "code",
   "execution_count": 89,
   "metadata": {},
   "outputs": [
    {
     "data": {
      "text/plain": [
       "<matplotlib.axes._subplots.AxesSubplot at 0x19ac4812940>"
      ]
     },
     "execution_count": 89,
     "metadata": {},
     "output_type": "execute_result"
    },
    {
     "data": {
      "image/png": "[encoded data removed]",
      "text/plain": [
       "<Figure size 432x288 with 1 Axes>"
      ]
     },
     "metadata": {
      "needs_background": "light"
     },
     "output_type": "display_data"
    }
   ],
   "source": [
    "metricas[['loss','val_loss']].plot()"
   ]
  },
  {
   "cell_type": "code",
   "execution_count": 90,
   "metadata": {},
   "outputs": [
    {
     "data": {
      "text/plain": [
       "<matplotlib.axes._subplots.AxesSubplot at 0x19ac47d5dc0>"
      ]
     },
     "execution_count": 90,
     "metadata": {},
     "output_type": "execute_result"
    },
    {
     "data": {
      "image/png": "[encoded data removed]",
      "text/plain": [
       "<Figure size 432x288 with 1 Axes>"
      ]
     },
     "metadata": {
      "needs_background": "light"
     },
     "output_type": "display_data"
    }
   ],
   "source": [
    "metricas[['accuracy','val_accuracy']].plot()"
   ]
  },
  {
   "cell_type": "code",
   "execution_count": 91,
   "metadata": {},
   "outputs": [
    {
     "data": {
      "image/png": "[encoded data removed]",
      "text/plain": [
       "<Figure size 432x288 with 1 Axes>"
      ]
     },
     "metadata": {
      "needs_background": "light"
     },
     "output_type": "display_data"
    }
   ],
   "source": [
    "# summarize history for accuracy\n",
    "plt.plot(training.history['accuracy'])\n",
    "plt.plot(training.history['val_accuracy'])\n",
    "plt.title('model accuracy')\n",
    "plt.ylabel('accuracy')\n",
    "plt.xlabel('epoch')\n",
    "plt.legend(['train', 'validation'], loc='upper left')\n",
    "plt.show()"
   ]
  },
  {
   "cell_type": "code",
   "execution_count": 92,
   "metadata": {},
   "outputs": [
    {
     "data": {
      "text/plain": [
       "[0.4612252712249756, 0.7903333306312561]"
      ]
     },
     "execution_count": 92,
     "metadata": {},
     "output_type": "execute_result"
    }
   ],
   "source": [
    "modelo.evaluate(X_test, y_test, verbose = 0)"
   ]
  },
  {
   "cell_type": "markdown",
   "metadata": {},
   "source": [
    "## Preparar el Modelo para Despliegue"
   ]
  },
  {
   "cell_type": "code",
   "execution_count": 93,
   "metadata": {},
   "outputs": [],
   "source": [
    "epocas = len(metricas)"
   ]
  },
  {
   "cell_type": "markdown",
   "metadata": {},
   "source": [
    "Notar que el ajuste se hace con todos los datos"
   ]
  },
  {
   "cell_type": "code",
   "execution_count": 94,
   "metadata": {},
   "outputs": [],
   "source": [
    "X_scaled = scaler.fit_transform(X)"
   ]
  },
  {
   "cell_type": "code",
   "execution_count": 95,
   "metadata": {},
   "outputs": [
    {
     "data": {
      "text/plain": [
       "(4,)"
      ]
     },
     "execution_count": 95,
     "metadata": {},
     "output_type": "execute_result"
    }
   ],
   "source": [
    "X_scaled[0].shape"
   ]
  },
  {
   "cell_type": "code",
   "execution_count": 101,
   "metadata": {},
   "outputs": [
    {
     "name": "stdout",
     "output_type": "stream",
     "text": [
      "Model: \"sequential_14\"\n",
      "_________________________________________________________________\n",
      "Layer (type)                 Output Shape              Param #   \n",
      "=================================================================\n",
      "dense_27 (Dense)             (None, 8)                 40        \n",
      "_________________________________________________________________\n",
      "dropout_4 (Dropout)          (None, 8)                 0         \n",
      "_________________________________________________________________\n",
      "dense_28 (Dense)             (None, 1)                 9         \n",
      "=================================================================\n",
      "Total params: 49\n",
      "Trainable params: 49\n",
      "Non-trainable params: 0\n",
      "_________________________________________________________________\n",
      "None\n"
     ]
    }
   ],
   "source": [
    "'''modelo = Sequential()\n",
    "modelo.add(Dense(units = 4,\n",
    "                 activation = 'relu',\n",
    "                input_shape= X_scaled.shape[1:]))\n",
    "\n",
    "# Ultima capa para clasificación multi-clase\n",
    "#   de las tres especies\n",
    "modelo.add(Dense(units = 3,\n",
    "                 activation = 'softmax'))\n",
    "\n",
    "modelo.compile(optimizer = 'adam',\n",
    "              loss = 'categorical_crossentropy',\n",
    "              metrics = ['accuracy'])'''\n",
    "# create final model\n",
    "modelo = create_model(lyrs=[8], dr=0.2)\n",
    "\n",
    "print(modelo.summary())"
   ]
  },
  {
   "cell_type": "code",
   "execution_count": 102,
   "metadata": {},
   "outputs": [
    {
     "data": {
      "text/plain": [
       "<keras.callbacks.History at 0x19ac18e8130>"
      ]
     },
     "execution_count": 102,
     "metadata": {},
     "output_type": "execute_result"
    }
   ],
   "source": [
    "#modelo.fit(X_scaled, y, epochs = epocas)\n",
    "\n",
    "modelo.fit(X_train, y_train, epochs=50, batch_size=32, \n",
    "                     validation_split=0.2, verbose=0)"
   ]
  },
  {
   "cell_type": "code",
   "execution_count": 103,
   "metadata": {},
   "outputs": [],
   "source": [
    "modelo.save(\"modelo_rna.h5\")"
   ]
  },
  {
   "cell_type": "markdown",
   "metadata": {},
   "source": [
    "### Guardar el Escalador"
   ]
  },
  {
   "cell_type": "code",
   "execution_count": 104,
   "metadata": {},
   "outputs": [],
   "source": [
    "import joblib"
   ]
  },
  {
   "cell_type": "code",
   "execution_count": 105,
   "metadata": {},
   "outputs": [
    {
     "data": {
      "text/plain": [
       "['escalador_rna.pkl']"
      ]
     },
     "execution_count": 105,
     "metadata": {},
     "output_type": "execute_result"
    }
   ],
   "source": [
    "joblib.dump(scaler,'escalador_rna.pkl')"
   ]
  },
  {
   "cell_type": "markdown",
   "metadata": {},
   "source": [
    "## Proceso para predecir una flor nueva"
   ]
  },
  {
   "cell_type": "code",
   "execution_count": 106,
   "metadata": {},
   "outputs": [],
   "source": [
    "from tensorflow.keras.models import load_model"
   ]
  },
  {
   "cell_type": "markdown",
   "metadata": {},
   "source": [
    "**NOTA**\n",
    "\n",
    "Puede ser que las siguientes instrucciones causen un error:\n",
    "\n",
    "AttributeError: 'str' object has no attribute 'decode'\n",
    "\n",
    "Si este es el caso hay que bajar la versión del paquete hp5y.  Se puede hacer de la siguiente forma:\n",
    "\n",
    "pip install 'h5py==2.10.0' --force-reinstall\n",
    "\n",
    "o con Conda:\n",
    "\n",
    "conda install 'h5py==2.10.0'"
   ]
  },
  {
   "cell_type": "code",
   "execution_count": 108,
   "metadata": {},
   "outputs": [],
   "source": [
    "modelo_rna = load_model(\"modelo_rna.h5\")\n",
    "escalador_rna = joblib.load(\"escalador_rna.pkl\")"
   ]
  },
  {
   "cell_type": "code",
   "execution_count": 109,
   "metadata": {},
   "outputs": [
    {
     "data": {
      "text/html": [
       "<div>\n",
       "<style scoped>\n",
       "    .dataframe tbody tr th:only-of-type {\n",
       "        vertical-align: middle;\n",
       "    }\n",
       "\n",
       "    .dataframe tbody tr th {\n",
       "        vertical-align: top;\n",
       "    }\n",
       "\n",
       "    .dataframe thead th {\n",
       "        text-align: right;\n",
       "    }\n",
       "</style>\n",
       "<table border=\"1\" class=\"dataframe\">\n",
       "  <thead>\n",
       "    <tr style=\"text-align: right;\">\n",
       "      <th></th>\n",
       "      <th>id</th>\n",
       "      <th>limit_bal</th>\n",
       "      <th>education</th>\n",
       "      <th>age</th>\n",
       "      <th>pay_sep</th>\n",
       "      <th>pay_ago</th>\n",
       "      <th>pay_jul</th>\n",
       "      <th>pay_jun</th>\n",
       "      <th>pay_may</th>\n",
       "      <th>pay_apr</th>\n",
       "      <th>...</th>\n",
       "      <th>pay_amt_ago</th>\n",
       "      <th>pay_amt_jul</th>\n",
       "      <th>pay_amt_jun</th>\n",
       "      <th>pay_amt_may</th>\n",
       "      <th>pay_amt_apr</th>\n",
       "      <th>payment_next_month</th>\n",
       "      <th>months_late</th>\n",
       "      <th>sex_1</th>\n",
       "      <th>marriage_1</th>\n",
       "      <th>marriage_2</th>\n",
       "    </tr>\n",
       "  </thead>\n",
       "  <tbody>\n",
       "    <tr>\n",
       "      <th>0</th>\n",
       "      <td>1</td>\n",
       "      <td>20000.0</td>\n",
       "      <td>2</td>\n",
       "      <td>24</td>\n",
       "      <td>2</td>\n",
       "      <td>2</td>\n",
       "      <td>0</td>\n",
       "      <td>0</td>\n",
       "      <td>0</td>\n",
       "      <td>0</td>\n",
       "      <td>...</td>\n",
       "      <td>689.0</td>\n",
       "      <td>0.0</td>\n",
       "      <td>0.0</td>\n",
       "      <td>0.0</td>\n",
       "      <td>0.0</td>\n",
       "      <td>1</td>\n",
       "      <td>2</td>\n",
       "      <td>1</td>\n",
       "      <td>0</td>\n",
       "      <td>0</td>\n",
       "    </tr>\n",
       "  </tbody>\n",
       "</table>\n",
       "<p>1 rows × 27 columns</p>\n",
       "</div>"
      ],
      "text/plain": [
       "   id  limit_bal  education  age  pay_sep  pay_ago  pay_jul  pay_jun  pay_may  \\\n",
       "0   1    20000.0          2   24        2        2        0        0        0   \n",
       "\n",
       "   pay_apr  ...  pay_amt_ago  pay_amt_jul  pay_amt_jun  pay_amt_may  \\\n",
       "0        0  ...        689.0          0.0          0.0          0.0   \n",
       "\n",
       "   pay_amt_apr  payment_next_month  months_late  sex_1  marriage_1  marriage_2  \n",
       "0          0.0                   1            2      1           0           0  \n",
       "\n",
       "[1 rows x 27 columns]"
      ]
     },
     "execution_count": 109,
     "metadata": {},
     "output_type": "execute_result"
    }
   ],
   "source": [
    "df.head(1)"
   ]
  },
  {
   "cell_type": "code",
   "execution_count": 110,
   "metadata": {},
   "outputs": [],
   "source": [
    "cliente_muestra = {'age':23,              \n",
    "                   'months_late':2,\n",
    "                   'pay_amt_may':35000,\n",
    "                   'pay_amt_jun':10000}"
   ]
  },
  {
   "cell_type": "code",
   "execution_count": 111,
   "metadata": {},
   "outputs": [
    {
     "data": {
      "text/plain": [
       "dict_keys(['age', 'months_late', 'pay_amt_may', 'pay_amt_jun'])"
      ]
     },
     "execution_count": 111,
     "metadata": {},
     "output_type": "execute_result"
    }
   ],
   "source": [
    "cliente_muestra.keys()"
   ]
  },
  {
   "cell_type": "code",
   "execution_count": 112,
   "metadata": {},
   "outputs": [
    {
     "data": {
      "text/plain": [
       "array([0, 1], dtype=int64)"
      ]
     },
     "execution_count": 112,
     "metadata": {},
     "output_type": "execute_result"
    }
   ],
   "source": [
    "codificador.classes_"
   ]
  },
  {
   "cell_type": "code",
   "execution_count": 113,
   "metadata": {},
   "outputs": [],
   "source": [
    "def devuelve_prediccion(modelo, escalador, muestra_json):\n",
    "    \n",
    "    # Si fueran muchas más características,\n",
    "    #   probablemente sería bueno codificar\n",
    "    #   una iteración que contruya este arreglo\n",
    "    \n",
    "    age = muestra_json['age']\n",
    "    months_late = muestra_json['months_late']\n",
    "    pay_amt_may = muestra_json['pay_amt_may']\n",
    "    pay_amt_jun = muestra_json['pay_amt_jun']\n",
    "    \n",
    "    cliente = [[age, months_late,\n",
    "             pay_amt_may, pay_amt_jun]]\n",
    "    \n",
    "    cliente = escalador.transform(cliente)\n",
    "    \n",
    "    clases = np.array([0,1])\n",
    "    \n",
    "    clase_ind = np.argmax(modelo.predict(cliente), axis=-1)\n",
    "    \n",
    "    return clases[clase_ind][0]\n",
    "                    "
   ]
  },
  {
   "cell_type": "code",
   "execution_count": 114,
   "metadata": {},
   "outputs": [
    {
     "data": {
      "text/plain": [
       "0"
      ]
     },
     "execution_count": 114,
     "metadata": {},
     "output_type": "execute_result"
    }
   ],
   "source": [
    "devuelve_prediccion(modelo_rna,\n",
    "                    escalador_rna,\n",
    "                    cliente_muestra)"
   ]
  },
  {
   "cell_type": "markdown",
   "metadata": {},
   "source": [
    "# CODIGO PARA DESPLIEGUE:"
   ]
  },
  {
   "cell_type": "code",
   "execution_count": 115,
   "metadata": {},
   "outputs": [],
   "source": [
    "from tensorflow.keras.models import load_model\n",
    "import joblib\n",
    "\n",
    "\n",
    "modelo_flor = load_model(\"modelo_rna.h5\")\n",
    "escalador_flor = joblib.load(\"escalador_rna.pkl\") \n",
    "\n",
    "def devuelve_prediccion(modelo, escalador, muestra_json):\n",
    "    \n",
    "    age = muestra_json['age']\n",
    "    months_late = muestra_json['months_late']\n",
    "    pay_amt_may = muestra_json['pay_amt_may']\n",
    "    pay_amt_jun = muestra_json['pay_amt_jun']\n",
    "    \n",
    "    cliente = [[age, months_late,\n",
    "             pay_amt_may, pay_amt_jun]]\n",
    "    \n",
    "    cliente = escalador.transform(cliente)\n",
    "    \n",
    "    clases = np.array([0,0])\n",
    "    \n",
    "    clase_ind = np.argmax(modelo.predict(cliente), axis=-1)\n",
    "    \n",
    "    return clases[clase_ind][0]\n",
    "\n",
    "    "
   ]
  },
  {
   "cell_type": "code",
   "execution_count": 116,
   "metadata": {},
   "outputs": [],
   "source": [
    "cliente_muestra = {'age':23,              \n",
    "                   'months_late':2,\n",
    "                   'pay_amt_may':35000,\n",
    "                   'pay_amt_jun':10000}"
   ]
  },
  {
   "cell_type": "code",
   "execution_count": null,
   "metadata": {},
   "outputs": [],
   "source": []
  }
 ],
 "metadata": {
  "kernelspec": {
   "display_name": "Python 3",
   "language": "python",
   "name": "python3"
  },
  "language_info": {
   "codemirror_mode": {
    "name": "ipython",
    "version": 3
   },
   "file_extension": ".py",
   "mimetype": "text/x-python",
   "name": "python",
   "nbconvert_exporter": "python",
   "pygments_lexer": "ipython3",
   "version": "3.8.1"
  }
 },
 "nbformat": 4,
 "nbformat_minor": 4
}
