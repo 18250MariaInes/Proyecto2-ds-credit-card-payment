{
 "cells": [
  {
   "cell_type": "markdown",
   "metadata": {},
   "source": [
    "# PROYECTO 2 - Credit Card Payment\n",
    "### Modelo Naive Bayes\n",
    "María Inés Vásquez Figueroa 18250\\\n",
    "Diana Ximena de León Figueroa 18607\\\n",
    "María José Castro Lemus 181202\\\n",
    "Paula Camila González Ortega"
   ]
  },
  {
   "cell_type": "code",
   "execution_count": 22,
   "metadata": {},
   "outputs": [],
   "source": [
    "import pandas as pd\n",
    "import numpy as np\n",
    "import matplotlib.pyplot as plt\n",
    "import seaborn as sns\n",
    "import warnings\n",
    "import os\n",
    "from sklearn.model_selection import train_test_split, GridSearchCV\n",
    "from sklearn.preprocessing import StandardScaler\n",
    "from sklearn.linear_model import LogisticRegression\n",
    "from sklearn.tree import DecisionTreeClassifier\n",
    "from sklearn.ensemble import RandomForestClassifier\n",
    "from sklearn.neighbors import KNeighborsClassifier\n",
    "from sklearn.svm import SVC\n",
    "from sklearn.model_selection import cross_val_score\n",
    "from sklearn.naive_bayes import GaussianNB\n",
    "from sklearn.metrics import confusion_matrix,ConfusionMatrixDisplay,classification_report,plot_roc_curve,accuracy_score, roc_curve, roc_auc_score"
   ]
  },
  {
   "cell_type": "code",
   "execution_count": 3,
   "metadata": {},
   "outputs": [],
   "source": [
    "df = pd.read_csv('./datafinal.csv')"
   ]
  },
  {
   "cell_type": "code",
   "execution_count": 4,
   "metadata": {},
   "outputs": [
    {
     "name": "stdout",
     "output_type": "stream",
     "text": [
      "<class 'pandas.core.frame.DataFrame'>\n",
      "RangeIndex: 30000 entries, 0 to 29999\n",
      "Data columns (total 25 columns):\n",
      " #   Column              Non-Null Count  Dtype  \n",
      "---  ------              --------------  -----  \n",
      " 0   id                  30000 non-null  int64  \n",
      " 1   limit_bal           30000 non-null  float64\n",
      " 2   sex                 30000 non-null  int64  \n",
      " 3   education           30000 non-null  int64  \n",
      " 4   marriage            30000 non-null  int64  \n",
      " 5   age                 30000 non-null  int64  \n",
      " 6   pay_sep             30000 non-null  int64  \n",
      " 7   pay_ago             30000 non-null  int64  \n",
      " 8   pay_jul             30000 non-null  int64  \n",
      " 9   pay_jun             30000 non-null  int64  \n",
      " 10  pay_may             30000 non-null  int64  \n",
      " 11  pay_apr             30000 non-null  int64  \n",
      " 12  bill_amt_sep        30000 non-null  float64\n",
      " 13  bill_amt_ago        30000 non-null  float64\n",
      " 14  bill_amt_jul        30000 non-null  float64\n",
      " 15  bill_amt_jun        30000 non-null  float64\n",
      " 16  bill_amt_may        30000 non-null  float64\n",
      " 17  bill_amt_apr        30000 non-null  float64\n",
      " 18  pay_amt_sep         30000 non-null  float64\n",
      " 19  pay_amt_ago         30000 non-null  float64\n",
      " 20  pay_amt_jul         30000 non-null  float64\n",
      " 21  pay_amt_jun         30000 non-null  float64\n",
      " 22  pay_amt_may         30000 non-null  float64\n",
      " 23  pay_amt_apr         30000 non-null  float64\n",
      " 24  payment_next_month  30000 non-null  int64  \n",
      "dtypes: float64(13), int64(12)\n",
      "memory usage: 5.7 MB\n"
     ]
    }
   ],
   "source": [
    "df.info()"
   ]
  },
  {
   "cell_type": "code",
   "execution_count": 5,
   "metadata": {},
   "outputs": [
    {
     "data": {
      "text/html": [
       "<div>\n",
       "<style scoped>\n",
       "    .dataframe tbody tr th:only-of-type {\n",
       "        vertical-align: middle;\n",
       "    }\n",
       "\n",
       "    .dataframe tbody tr th {\n",
       "        vertical-align: top;\n",
       "    }\n",
       "\n",
       "    .dataframe thead th {\n",
       "        text-align: right;\n",
       "    }\n",
       "</style>\n",
       "<table border=\"1\" class=\"dataframe\">\n",
       "  <thead>\n",
       "    <tr style=\"text-align: right;\">\n",
       "      <th></th>\n",
       "      <th>id</th>\n",
       "      <th>limit_bal</th>\n",
       "      <th>sex</th>\n",
       "      <th>education</th>\n",
       "      <th>marriage</th>\n",
       "      <th>age</th>\n",
       "      <th>pay_sep</th>\n",
       "      <th>pay_ago</th>\n",
       "      <th>pay_jul</th>\n",
       "      <th>pay_jun</th>\n",
       "      <th>...</th>\n",
       "      <th>bill_amt_jun</th>\n",
       "      <th>bill_amt_may</th>\n",
       "      <th>bill_amt_apr</th>\n",
       "      <th>pay_amt_sep</th>\n",
       "      <th>pay_amt_ago</th>\n",
       "      <th>pay_amt_jul</th>\n",
       "      <th>pay_amt_jun</th>\n",
       "      <th>pay_amt_may</th>\n",
       "      <th>pay_amt_apr</th>\n",
       "      <th>payment_next_month</th>\n",
       "    </tr>\n",
       "  </thead>\n",
       "  <tbody>\n",
       "    <tr>\n",
       "      <th>0</th>\n",
       "      <td>1</td>\n",
       "      <td>20000.0</td>\n",
       "      <td>1</td>\n",
       "      <td>2</td>\n",
       "      <td>0</td>\n",
       "      <td>24</td>\n",
       "      <td>2</td>\n",
       "      <td>0</td>\n",
       "      <td>-1</td>\n",
       "      <td>0</td>\n",
       "      <td>...</td>\n",
       "      <td>0.0</td>\n",
       "      <td>0.0</td>\n",
       "      <td>0.0</td>\n",
       "      <td>0.0</td>\n",
       "      <td>689.0</td>\n",
       "      <td>0.0</td>\n",
       "      <td>0.0</td>\n",
       "      <td>0.0</td>\n",
       "      <td>0.0</td>\n",
       "      <td>1</td>\n",
       "    </tr>\n",
       "    <tr>\n",
       "      <th>1</th>\n",
       "      <td>2</td>\n",
       "      <td>120000.0</td>\n",
       "      <td>1</td>\n",
       "      <td>2</td>\n",
       "      <td>1</td>\n",
       "      <td>26</td>\n",
       "      <td>0</td>\n",
       "      <td>0</td>\n",
       "      <td>0</td>\n",
       "      <td>0</td>\n",
       "      <td>...</td>\n",
       "      <td>3272.0</td>\n",
       "      <td>3455.0</td>\n",
       "      <td>3261.0</td>\n",
       "      <td>0.0</td>\n",
       "      <td>1000.0</td>\n",
       "      <td>1000.0</td>\n",
       "      <td>1000.0</td>\n",
       "      <td>0.0</td>\n",
       "      <td>2000.0</td>\n",
       "      <td>1</td>\n",
       "    </tr>\n",
       "    <tr>\n",
       "      <th>2</th>\n",
       "      <td>3</td>\n",
       "      <td>90000.0</td>\n",
       "      <td>1</td>\n",
       "      <td>2</td>\n",
       "      <td>1</td>\n",
       "      <td>34</td>\n",
       "      <td>0</td>\n",
       "      <td>0</td>\n",
       "      <td>0</td>\n",
       "      <td>0</td>\n",
       "      <td>...</td>\n",
       "      <td>14331.0</td>\n",
       "      <td>14948.0</td>\n",
       "      <td>15549.0</td>\n",
       "      <td>1518.0</td>\n",
       "      <td>1500.0</td>\n",
       "      <td>1000.0</td>\n",
       "      <td>1000.0</td>\n",
       "      <td>1000.0</td>\n",
       "      <td>5000.0</td>\n",
       "      <td>0</td>\n",
       "    </tr>\n",
       "    <tr>\n",
       "      <th>3</th>\n",
       "      <td>4</td>\n",
       "      <td>50000.0</td>\n",
       "      <td>1</td>\n",
       "      <td>2</td>\n",
       "      <td>0</td>\n",
       "      <td>37</td>\n",
       "      <td>0</td>\n",
       "      <td>0</td>\n",
       "      <td>0</td>\n",
       "      <td>0</td>\n",
       "      <td>...</td>\n",
       "      <td>28314.0</td>\n",
       "      <td>28959.0</td>\n",
       "      <td>29547.0</td>\n",
       "      <td>2000.0</td>\n",
       "      <td>2019.0</td>\n",
       "      <td>1200.0</td>\n",
       "      <td>1100.0</td>\n",
       "      <td>1069.0</td>\n",
       "      <td>1000.0</td>\n",
       "      <td>0</td>\n",
       "    </tr>\n",
       "    <tr>\n",
       "      <th>4</th>\n",
       "      <td>5</td>\n",
       "      <td>50000.0</td>\n",
       "      <td>0</td>\n",
       "      <td>2</td>\n",
       "      <td>0</td>\n",
       "      <td>57</td>\n",
       "      <td>0</td>\n",
       "      <td>0</td>\n",
       "      <td>-1</td>\n",
       "      <td>0</td>\n",
       "      <td>...</td>\n",
       "      <td>20940.0</td>\n",
       "      <td>19146.0</td>\n",
       "      <td>19131.0</td>\n",
       "      <td>2000.0</td>\n",
       "      <td>36681.0</td>\n",
       "      <td>10000.0</td>\n",
       "      <td>9000.0</td>\n",
       "      <td>689.0</td>\n",
       "      <td>679.0</td>\n",
       "      <td>0</td>\n",
       "    </tr>\n",
       "  </tbody>\n",
       "</table>\n",
       "<p>5 rows × 25 columns</p>\n",
       "</div>"
      ],
      "text/plain": [
       "   id  limit_bal  sex  education  marriage  age  pay_sep  pay_ago  pay_jul  \\\n",
       "0   1    20000.0    1          2         0   24        2        0       -1   \n",
       "1   2   120000.0    1          2         1   26        0        0        0   \n",
       "2   3    90000.0    1          2         1   34        0        0        0   \n",
       "3   4    50000.0    1          2         0   37        0        0        0   \n",
       "4   5    50000.0    0          2         0   57        0        0       -1   \n",
       "\n",
       "   pay_jun  ...  bill_amt_jun  bill_amt_may  bill_amt_apr  pay_amt_sep  \\\n",
       "0        0  ...           0.0           0.0           0.0          0.0   \n",
       "1        0  ...        3272.0        3455.0        3261.0          0.0   \n",
       "2        0  ...       14331.0       14948.0       15549.0       1518.0   \n",
       "3        0  ...       28314.0       28959.0       29547.0       2000.0   \n",
       "4        0  ...       20940.0       19146.0       19131.0       2000.0   \n",
       "\n",
       "   pay_amt_ago  pay_amt_jul  pay_amt_jun  pay_amt_may  pay_amt_apr  \\\n",
       "0        689.0          0.0          0.0          0.0          0.0   \n",
       "1       1000.0       1000.0       1000.0          0.0       2000.0   \n",
       "2       1500.0       1000.0       1000.0       1000.0       5000.0   \n",
       "3       2019.0       1200.0       1100.0       1069.0       1000.0   \n",
       "4      36681.0      10000.0       9000.0        689.0        679.0   \n",
       "\n",
       "   payment_next_month  \n",
       "0                   1  \n",
       "1                   1  \n",
       "2                   0  \n",
       "3                   0  \n",
       "4                   0  \n",
       "\n",
       "[5 rows x 25 columns]"
      ]
     },
     "execution_count": 5,
     "metadata": {},
     "output_type": "execute_result"
    }
   ],
   "source": [
    "df.head()"
   ]
  },
  {
   "cell_type": "code",
   "execution_count": 6,
   "metadata": {},
   "outputs": [
    {
     "data": {
      "text/plain": [
       "Index(['limit_bal', 'sex', 'age', 'bill_amt_sep', 'bill_amt_ago',\n",
       "       'bill_amt_jul', 'bill_amt_jun', 'bill_amt_may', 'bill_amt_apr',\n",
       "       'pay_amt_sep', 'pay_amt_ago', 'pay_amt_jul', 'pay_amt_jun',\n",
       "       'pay_amt_may', 'pay_amt_apr', 'payment_next_month', 'education_1',\n",
       "       'education_2', 'education_3', 'education_4', 'marriage_1', 'marriage_2',\n",
       "       'pay_sep_1', 'pay_sep_2', 'pay_sep_3', 'pay_sep_4', 'pay_sep_5',\n",
       "       'pay_sep_6', 'pay_sep_7', 'pay_sep_8', 'pay_ago_0', 'pay_ago_1',\n",
       "       'pay_ago_2', 'pay_ago_3', 'pay_ago_4', 'pay_ago_5', 'pay_ago_6',\n",
       "       'pay_ago_7', 'pay_ago_8', 'pay_jul_0', 'pay_jul_1', 'pay_jul_2',\n",
       "       'pay_jul_3', 'pay_jul_4', 'pay_jul_5', 'pay_jul_6', 'pay_jul_7',\n",
       "       'pay_jul_8', 'pay_jun_1', 'pay_jun_2', 'pay_jun_3', 'pay_jun_4',\n",
       "       'pay_jun_5', 'pay_jun_6', 'pay_jun_7', 'pay_jun_8', 'pay_may_2',\n",
       "       'pay_may_3', 'pay_may_4', 'pay_may_5', 'pay_may_6', 'pay_may_7',\n",
       "       'pay_may_8', 'pay_apr_2', 'pay_apr_3', 'pay_apr_4', 'pay_apr_5',\n",
       "       'pay_apr_6', 'pay_apr_7', 'pay_apr_8'],\n",
       "      dtype='object')"
      ]
     },
     "execution_count": 6,
     "metadata": {},
     "output_type": "execute_result"
    }
   ],
   "source": [
    "# eliminar columna con info poco valiosa\n",
    "df.drop('id', axis=1, inplace=True)\n",
    "var_dummies = ['education', 'marriage', 'pay_sep', 'pay_ago', 'pay_jul', 'pay_jun', 'pay_may', 'pay_apr']\n",
    "\n",
    "for i in var_dummies:\n",
    "    # convertir a variables dummies\n",
    "    value_dummies = pd.get_dummies(df[i], prefix=i, drop_first=True)\n",
    "    df = pd.concat([df.drop(i, axis=1), value_dummies], axis=1)\n",
    "\n",
    "df.columns"
   ]
  },
  {
   "cell_type": "code",
   "execution_count": 7,
   "metadata": {},
   "outputs": [],
   "source": [
    "X = df.drop('payment_next_month', axis=1).values\n",
    "y = df['payment_next_month'].values"
   ]
  },
  {
   "cell_type": "code",
   "execution_count": 8,
   "metadata": {},
   "outputs": [],
   "source": [
    "# dividir en entrenamiento y testing\n",
    "X_train, X_test, y_train, y_test = train_test_split(X, y, test_size=0.20, random_state=101)"
   ]
  },
  {
   "cell_type": "code",
   "execution_count": 11,
   "metadata": {},
   "outputs": [],
   "source": [
    "sc = StandardScaler()\n",
    "x_train = sc.fit_transform(X_train)\n",
    "x_test = sc.transform(X_test)"
   ]
  },
  {
   "cell_type": "code",
   "execution_count": 13,
   "metadata": {},
   "outputs": [],
   "source": [
    "def res(y_test_valid,y_train_valid):\n",
    "    cm_log = confusion_matrix(y_test,y_test_valid)\n",
    "    ConfusionMatrixDisplay(cm_log).plot()\n",
    "    print(classification_report(y_test,y_test_valid))\n",
    "    print('train_accuracy:',accuracy_score(y_train,y_train_valid))\n",
    "    print('test_accuracy:',accuracy_score(y_test,y_test_valid))"
   ]
  },
  {
   "cell_type": "code",
   "execution_count": 14,
   "metadata": {},
   "outputs": [
    {
     "name": "stdout",
     "output_type": "stream",
     "text": [
      "              precision    recall  f1-score   support\n",
      "\n",
      "           0       0.80      0.98      0.88      4690\n",
      "           1       0.61      0.09      0.16      1310\n",
      "\n",
      "    accuracy                           0.79      6000\n",
      "   macro avg       0.70      0.54      0.52      6000\n",
      "weighted avg       0.76      0.79      0.72      6000\n",
      "\n",
      "train_accuracy: 0.787875\n",
      "test_accuracy: 0.7891666666666667\n"
     ]
    },
    {
     "data": {
      "image/png": "[encoded data removed]",
      "text/plain": [
       "<Figure size 432x288 with 2 Axes>"
      ]
     },
     "metadata": {
      "needs_background": "light"
     },
     "output_type": "display_data"
    }
   ],
   "source": [
    "#se evalúa el modelo para ver la precisión de las predicciones\n",
    "nb_model = GaussianNB()\n",
    "nb_model.fit(x_train,y_train)\n",
    "y_pred_nb = nb_model.predict(x_test)\n",
    "y_pred_nb_train = nb_model.predict(x_train)\n",
    "res(y_pred_nb,y_pred_nb_train)"
   ]
  },
  {
   "cell_type": "code",
   "execution_count": 24,
   "metadata": {},
   "outputs": [
    {
     "name": "stdout",
     "output_type": "stream",
     "text": [
      "Accuracy on Test Set for NBClassifier = 0.79\n",
      "Mean NaiveBayes CrossVal Accuracy on Train Set 0.79, with std=0.01\n"
     ]
    }
   ],
   "source": [
    "cm = confusion_matrix( y_test, y_pred_nb )\n",
    "print(\"Precisión de Gaussian = %.2f\" % ((cm[0,0] + cm[1,1] )/len(x_test)))\n",
    "scoresNB = cross_val_score( nb_model, x_train, y_train, cv=10)\n",
    "print(\"Mean NaiveBayes CrossVal Accuracy on Train Set %.2f, with std=%.2f\" % (scoresNB.mean(), scoresNB.std() ))"
   ]
  },
  {
   "cell_type": "code",
   "execution_count": 27,
   "metadata": {},
   "outputs": [
    {
     "data": {
      "image/png": "[encoded data removed]",
      "text/plain": [
       "<Figure size 432x288 with 1 Axes>"
      ]
     },
     "metadata": {
      "needs_background": "light"
     },
     "output_type": "display_data"
    }
   ],
   "source": [
    "# Area Under Curve\n",
    "auc = roc_auc_score(y_test, y_pred_nb)\n",
    "fpr, tpr, thresholds = roc_curve(y_test, y_pred_nb)\n",
    "plt.plot(fpr, tpr, color='orange', label='ROC')\n",
    "plt.plot([0, 1], [0, 1], color='darkblue', linestyle='--',label='ROC curve (area = %0.2f)' % auc)\n",
    "plt.xlabel('False Positive Rate')\n",
    "plt.ylabel('True Positive Rate')\n",
    "plt.title('Receiver Operating Characteristic (ROC) Curve')\n",
    "plt.legend()\n",
    "plt.show()"
   ]
  },
  {
   "cell_type": "code",
   "execution_count": null,
   "metadata": {},
   "outputs": [],
   "source": []
  }
 ],
 "metadata": {
  "kernelspec": {
   "display_name": "Python 3",
   "language": "python",
   "name": "python3"
  },
  "language_info": {
   "codemirror_mode": {
    "name": "ipython",
    "version": 3
   },
   "file_extension": ".py",
   "mimetype": "text/x-python",
   "name": "python",
   "nbconvert_exporter": "python",
   "pygments_lexer": "ipython3",
   "version": "3.8.1"
  }
 },
 "nbformat": 4,
 "nbformat_minor": 4
}
